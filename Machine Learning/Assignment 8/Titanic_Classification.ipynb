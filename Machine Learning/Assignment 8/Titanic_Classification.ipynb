{
  "nbformat": 4,
  "nbformat_minor": 0,
  "metadata": {
    "colab": {
      "name": "House Prices.ipynb",
      "provenance": [],
      "collapsed_sections": []
    },
    "kernelspec": {
      "name": "python3",
      "display_name": "Python 3"
    },
    "language_info": {
      "name": "python"
    }
  },
  "cells": [
    {
      "cell_type": "markdown",
      "source": [
        "# House Prices Dataset"
      ],
      "metadata": {
        "id": "zhyS88uHglFZ"
      }
    },
    {
      "cell_type": "code",
      "source": [
        "import pandas as pd\n",
        "import numpy as np\n",
        "import matplotlib.pyplot as plt\n",
        "import seaborn as sns\n",
        "%matplotlib inline\n",
        "\n",
        "from sklearn import linear_model\n",
        "from sklearn.model_selection import train_test_split\n",
        "from sklearn.preprocessing import PolynomialFeatures\n",
        "from sklearn.metrics import mean_squared_error, r2_score, mean_absolute_error\n",
        "\n",
        "!pip install mlxtend --upgrade\n",
        "from mlxtend.evaluate import bias_variance_decomp"
      ],
      "metadata": {
        "id": "CNDquLQfzi-R",
        "colab": {
          "base_uri": "https://localhost:8080/"
        },
        "outputId": "6f27e0df-2060-43f3-d462-48d690d64f88"
      },
      "execution_count": null,
      "outputs": [
        {
          "output_type": "stream",
          "name": "stdout",
          "text": [
            "Looking in indexes: https://pypi.org/simple, https://us-python.pkg.dev/colab-wheels/public/simple/\n",
            "Requirement already satisfied: mlxtend in /usr/local/lib/python3.7/dist-packages (0.14.0)\n",
            "Collecting mlxtend\n",
            "  Downloading mlxtend-0.20.0-py2.py3-none-any.whl (1.3 MB)\n",
            "\u001b[K     |████████████████████████████████| 1.3 MB 31.5 MB/s \n",
            "\u001b[?25hRequirement already satisfied: pandas>=0.24.2 in /usr/local/lib/python3.7/dist-packages (from mlxtend) (1.3.5)\n",
            "Requirement already satisfied: numpy>=1.16.2 in /usr/local/lib/python3.7/dist-packages (from mlxtend) (1.21.6)\n",
            "Requirement already satisfied: matplotlib>=3.0.0 in /usr/local/lib/python3.7/dist-packages (from mlxtend) (3.2.2)\n",
            "Requirement already satisfied: joblib>=0.13.2 in /usr/local/lib/python3.7/dist-packages (from mlxtend) (1.1.0)\n",
            "Requirement already satisfied: scipy>=1.2.1 in /usr/local/lib/python3.7/dist-packages (from mlxtend) (1.7.3)\n",
            "Requirement already satisfied: setuptools in /usr/local/lib/python3.7/dist-packages (from mlxtend) (57.4.0)\n",
            "Requirement already satisfied: scikit-learn>=1.0.2 in /usr/local/lib/python3.7/dist-packages (from mlxtend) (1.0.2)\n",
            "Requirement already satisfied: pyparsing!=2.0.4,!=2.1.2,!=2.1.6,>=2.0.1 in /usr/local/lib/python3.7/dist-packages (from matplotlib>=3.0.0->mlxtend) (3.0.9)\n",
            "Requirement already satisfied: cycler>=0.10 in /usr/local/lib/python3.7/dist-packages (from matplotlib>=3.0.0->mlxtend) (0.11.0)\n",
            "Requirement already satisfied: kiwisolver>=1.0.1 in /usr/local/lib/python3.7/dist-packages (from matplotlib>=3.0.0->mlxtend) (1.4.4)\n",
            "Requirement already satisfied: python-dateutil>=2.1 in /usr/local/lib/python3.7/dist-packages (from matplotlib>=3.0.0->mlxtend) (2.8.2)\n",
            "Requirement already satisfied: typing-extensions in /usr/local/lib/python3.7/dist-packages (from kiwisolver>=1.0.1->matplotlib>=3.0.0->mlxtend) (4.1.1)\n",
            "Requirement already satisfied: pytz>=2017.3 in /usr/local/lib/python3.7/dist-packages (from pandas>=0.24.2->mlxtend) (2022.1)\n",
            "Requirement already satisfied: six>=1.5 in /usr/local/lib/python3.7/dist-packages (from python-dateutil>=2.1->matplotlib>=3.0.0->mlxtend) (1.15.0)\n",
            "Requirement already satisfied: threadpoolctl>=2.0.0 in /usr/local/lib/python3.7/dist-packages (from scikit-learn>=1.0.2->mlxtend) (3.1.0)\n",
            "Installing collected packages: mlxtend\n",
            "  Attempting uninstall: mlxtend\n",
            "    Found existing installation: mlxtend 0.14.0\n",
            "    Uninstalling mlxtend-0.14.0:\n",
            "      Successfully uninstalled mlxtend-0.14.0\n",
            "Successfully installed mlxtend-0.20.0\n"
          ]
        }
      ]
    },
    {
      "cell_type": "markdown",
      "source": [
        "## A) Dataset Information"
      ],
      "metadata": {
        "id": "o07Js1g_gnGi"
      }
    },
    {
      "cell_type": "code",
      "source": [
        "df = pd.read_csv('house price.csv')\n",
        "df.head()"
      ],
      "metadata": {
        "colab": {
          "base_uri": "https://localhost:8080/",
          "height": 268
        },
        "id": "eW4hBW8vbVqR",
        "outputId": "ebbd90b1-a204-48f8-c391-a6c5c89660be"
      },
      "execution_count": null,
      "outputs": [
        {
          "output_type": "execute_result",
          "data": {
            "text/plain": [
              "   No  X1 transaction date  X2 house age  \\\n",
              "0   1             2012.917          32.0   \n",
              "1   2             2012.917          19.5   \n",
              "2   3             2013.583          13.3   \n",
              "3   4             2013.500          13.3   \n",
              "4   5             2012.833           5.0   \n",
              "\n",
              "   X3 distance to the nearest MRT station  X4 number of convenience stores  \\\n",
              "0                                84.87882                               10   \n",
              "1                               306.59470                                9   \n",
              "2                               561.98450                                5   \n",
              "3                               561.98450                                5   \n",
              "4                               390.56840                                5   \n",
              "\n",
              "   X5 latitude  X6 longitude  Y house price of unit area  \n",
              "0     24.98298     121.54024                        37.9  \n",
              "1     24.98034     121.53951                        42.2  \n",
              "2     24.98746     121.54391                        47.3  \n",
              "3     24.98746     121.54391                        54.8  \n",
              "4     24.97937     121.54245                        43.1  "
            ],
            "text/html": [
              "\n",
              "  <div id=\"df-0bc69fd4-2407-4e61-b4c1-8c5ccc9ea45a\">\n",
              "    <div class=\"colab-df-container\">\n",
              "      <div>\n",
              "<style scoped>\n",
              "    .dataframe tbody tr th:only-of-type {\n",
              "        vertical-align: middle;\n",
              "    }\n",
              "\n",
              "    .dataframe tbody tr th {\n",
              "        vertical-align: top;\n",
              "    }\n",
              "\n",
              "    .dataframe thead th {\n",
              "        text-align: right;\n",
              "    }\n",
              "</style>\n",
              "<table border=\"1\" class=\"dataframe\">\n",
              "  <thead>\n",
              "    <tr style=\"text-align: right;\">\n",
              "      <th></th>\n",
              "      <th>No</th>\n",
              "      <th>X1 transaction date</th>\n",
              "      <th>X2 house age</th>\n",
              "      <th>X3 distance to the nearest MRT station</th>\n",
              "      <th>X4 number of convenience stores</th>\n",
              "      <th>X5 latitude</th>\n",
              "      <th>X6 longitude</th>\n",
              "      <th>Y house price of unit area</th>\n",
              "    </tr>\n",
              "  </thead>\n",
              "  <tbody>\n",
              "    <tr>\n",
              "      <th>0</th>\n",
              "      <td>1</td>\n",
              "      <td>2012.917</td>\n",
              "      <td>32.0</td>\n",
              "      <td>84.87882</td>\n",
              "      <td>10</td>\n",
              "      <td>24.98298</td>\n",
              "      <td>121.54024</td>\n",
              "      <td>37.9</td>\n",
              "    </tr>\n",
              "    <tr>\n",
              "      <th>1</th>\n",
              "      <td>2</td>\n",
              "      <td>2012.917</td>\n",
              "      <td>19.5</td>\n",
              "      <td>306.59470</td>\n",
              "      <td>9</td>\n",
              "      <td>24.98034</td>\n",
              "      <td>121.53951</td>\n",
              "      <td>42.2</td>\n",
              "    </tr>\n",
              "    <tr>\n",
              "      <th>2</th>\n",
              "      <td>3</td>\n",
              "      <td>2013.583</td>\n",
              "      <td>13.3</td>\n",
              "      <td>561.98450</td>\n",
              "      <td>5</td>\n",
              "      <td>24.98746</td>\n",
              "      <td>121.54391</td>\n",
              "      <td>47.3</td>\n",
              "    </tr>\n",
              "    <tr>\n",
              "      <th>3</th>\n",
              "      <td>4</td>\n",
              "      <td>2013.500</td>\n",
              "      <td>13.3</td>\n",
              "      <td>561.98450</td>\n",
              "      <td>5</td>\n",
              "      <td>24.98746</td>\n",
              "      <td>121.54391</td>\n",
              "      <td>54.8</td>\n",
              "    </tr>\n",
              "    <tr>\n",
              "      <th>4</th>\n",
              "      <td>5</td>\n",
              "      <td>2012.833</td>\n",
              "      <td>5.0</td>\n",
              "      <td>390.56840</td>\n",
              "      <td>5</td>\n",
              "      <td>24.97937</td>\n",
              "      <td>121.54245</td>\n",
              "      <td>43.1</td>\n",
              "    </tr>\n",
              "  </tbody>\n",
              "</table>\n",
              "</div>\n",
              "      <button class=\"colab-df-convert\" onclick=\"convertToInteractive('df-0bc69fd4-2407-4e61-b4c1-8c5ccc9ea45a')\"\n",
              "              title=\"Convert this dataframe to an interactive table.\"\n",
              "              style=\"display:none;\">\n",
              "        \n",
              "  <svg xmlns=\"http://www.w3.org/2000/svg\" height=\"24px\"viewBox=\"0 0 24 24\"\n",
              "       width=\"24px\">\n",
              "    <path d=\"M0 0h24v24H0V0z\" fill=\"none\"/>\n",
              "    <path d=\"M18.56 5.44l.94 2.06.94-2.06 2.06-.94-2.06-.94-.94-2.06-.94 2.06-2.06.94zm-11 1L8.5 8.5l.94-2.06 2.06-.94-2.06-.94L8.5 2.5l-.94 2.06-2.06.94zm10 10l.94 2.06.94-2.06 2.06-.94-2.06-.94-.94-2.06-.94 2.06-2.06.94z\"/><path d=\"M17.41 7.96l-1.37-1.37c-.4-.4-.92-.59-1.43-.59-.52 0-1.04.2-1.43.59L10.3 9.45l-7.72 7.72c-.78.78-.78 2.05 0 2.83L4 21.41c.39.39.9.59 1.41.59.51 0 1.02-.2 1.41-.59l7.78-7.78 2.81-2.81c.8-.78.8-2.07 0-2.86zM5.41 20L4 18.59l7.72-7.72 1.47 1.35L5.41 20z\"/>\n",
              "  </svg>\n",
              "      </button>\n",
              "      \n",
              "  <style>\n",
              "    .colab-df-container {\n",
              "      display:flex;\n",
              "      flex-wrap:wrap;\n",
              "      gap: 12px;\n",
              "    }\n",
              "\n",
              "    .colab-df-convert {\n",
              "      background-color: #E8F0FE;\n",
              "      border: none;\n",
              "      border-radius: 50%;\n",
              "      cursor: pointer;\n",
              "      display: none;\n",
              "      fill: #1967D2;\n",
              "      height: 32px;\n",
              "      padding: 0 0 0 0;\n",
              "      width: 32px;\n",
              "    }\n",
              "\n",
              "    .colab-df-convert:hover {\n",
              "      background-color: #E2EBFA;\n",
              "      box-shadow: 0px 1px 2px rgba(60, 64, 67, 0.3), 0px 1px 3px 1px rgba(60, 64, 67, 0.15);\n",
              "      fill: #174EA6;\n",
              "    }\n",
              "\n",
              "    [theme=dark] .colab-df-convert {\n",
              "      background-color: #3B4455;\n",
              "      fill: #D2E3FC;\n",
              "    }\n",
              "\n",
              "    [theme=dark] .colab-df-convert:hover {\n",
              "      background-color: #434B5C;\n",
              "      box-shadow: 0px 1px 3px 1px rgba(0, 0, 0, 0.15);\n",
              "      filter: drop-shadow(0px 1px 2px rgba(0, 0, 0, 0.3));\n",
              "      fill: #FFFFFF;\n",
              "    }\n",
              "  </style>\n",
              "\n",
              "      <script>\n",
              "        const buttonEl =\n",
              "          document.querySelector('#df-0bc69fd4-2407-4e61-b4c1-8c5ccc9ea45a button.colab-df-convert');\n",
              "        buttonEl.style.display =\n",
              "          google.colab.kernel.accessAllowed ? 'block' : 'none';\n",
              "\n",
              "        async function convertToInteractive(key) {\n",
              "          const element = document.querySelector('#df-0bc69fd4-2407-4e61-b4c1-8c5ccc9ea45a');\n",
              "          const dataTable =\n",
              "            await google.colab.kernel.invokeFunction('convertToInteractive',\n",
              "                                                     [key], {});\n",
              "          if (!dataTable) return;\n",
              "\n",
              "          const docLinkHtml = 'Like what you see? Visit the ' +\n",
              "            '<a target=\"_blank\" href=https://colab.research.google.com/notebooks/data_table.ipynb>data table notebook</a>'\n",
              "            + ' to learn more about interactive tables.';\n",
              "          element.innerHTML = '';\n",
              "          dataTable['output_type'] = 'display_data';\n",
              "          await google.colab.output.renderOutput(dataTable, element);\n",
              "          const docLink = document.createElement('div');\n",
              "          docLink.innerHTML = docLinkHtml;\n",
              "          element.appendChild(docLink);\n",
              "        }\n",
              "      </script>\n",
              "    </div>\n",
              "  </div>\n",
              "  "
            ]
          },
          "metadata": {},
          "execution_count": 2
        }
      ]
    },
    {
      "cell_type": "code",
      "source": [
        "df.info()"
      ],
      "metadata": {
        "colab": {
          "base_uri": "https://localhost:8080/"
        },
        "id": "oPNHZI-QeAqB",
        "outputId": "975faf16-733a-4048-f367-abbb238bbf1b"
      },
      "execution_count": null,
      "outputs": [
        {
          "output_type": "stream",
          "name": "stdout",
          "text": [
            "<class 'pandas.core.frame.DataFrame'>\n",
            "RangeIndex: 414 entries, 0 to 413\n",
            "Data columns (total 8 columns):\n",
            " #   Column                                  Non-Null Count  Dtype  \n",
            "---  ------                                  --------------  -----  \n",
            " 0   No                                      414 non-null    int64  \n",
            " 1   X1 transaction date                     414 non-null    float64\n",
            " 2   X2 house age                            414 non-null    float64\n",
            " 3   X3 distance to the nearest MRT station  414 non-null    float64\n",
            " 4   X4 number of convenience stores         414 non-null    int64  \n",
            " 5   X5 latitude                             414 non-null    float64\n",
            " 6   X6 longitude                            414 non-null    float64\n",
            " 7   Y house price of unit area              414 non-null    float64\n",
            "dtypes: float64(6), int64(2)\n",
            "memory usage: 26.0 KB\n"
          ]
        }
      ]
    },
    {
      "cell_type": "code",
      "source": [
        "df.isna().sum()"
      ],
      "metadata": {
        "colab": {
          "base_uri": "https://localhost:8080/"
        },
        "id": "gTS051jbeAoP",
        "outputId": "58cd738a-cf2d-450e-badf-3b3de720aa83"
      },
      "execution_count": null,
      "outputs": [
        {
          "output_type": "execute_result",
          "data": {
            "text/plain": [
              "No                                        0\n",
              "X1 transaction date                       0\n",
              "X2 house age                              0\n",
              "X3 distance to the nearest MRT station    0\n",
              "X4 number of convenience stores           0\n",
              "X5 latitude                               0\n",
              "X6 longitude                              0\n",
              "Y house price of unit area                0\n",
              "dtype: int64"
            ]
          },
          "metadata": {},
          "execution_count": 4
        }
      ]
    },
    {
      "cell_type": "code",
      "source": [
        "df.duplicated().sum()"
      ],
      "metadata": {
        "colab": {
          "base_uri": "https://localhost:8080/"
        },
        "id": "RlALM-gOeAk9",
        "outputId": "f5bfbd3f-09e7-4d06-bb5e-897f83169593"
      },
      "execution_count": null,
      "outputs": [
        {
          "output_type": "execute_result",
          "data": {
            "text/plain": [
              "0"
            ]
          },
          "metadata": {},
          "execution_count": 5
        }
      ]
    },
    {
      "cell_type": "code",
      "source": [
        "df.shape"
      ],
      "metadata": {
        "colab": {
          "base_uri": "https://localhost:8080/"
        },
        "id": "Qljo39yDfEam",
        "outputId": "b25d5734-b65c-410c-9d56-b0847a03c151"
      },
      "execution_count": null,
      "outputs": [
        {
          "output_type": "execute_result",
          "data": {
            "text/plain": [
              "(414, 8)"
            ]
          },
          "metadata": {},
          "execution_count": 6
        }
      ]
    },
    {
      "cell_type": "markdown",
      "source": [
        "## Comments\n",
        "*The dataset consisits of 8 columns and 414 rows.\n",
        "\n",
        "*The are no NaN objects.\n",
        "\n",
        "*The are no duplcated items.\n",
        "\n",
        "*Numerical Columns:\n",
        "\n",
        "X1 transaction date - X2 house age - X3 distance to the nearest MRT station - X4 number of convenience stores - X5 latitude - X6 longitude - Y house price of unit area \n",
        "\n",
        "*No Non-Numerical columns"
      ],
      "metadata": {
        "id": "Grfh_By8guBF"
      }
    },
    {
      "cell_type": "markdown",
      "source": [
        "## ----------------------------------------------------------------------------------------------------------------------------------------------------------------"
      ],
      "metadata": {
        "id": "1kN9hNf5gt0k"
      }
    },
    {
      "cell_type": "markdown",
      "source": [
        "## B) Data Visualization"
      ],
      "metadata": {
        "id": "j4Wt_z12h-j3"
      }
    },
    {
      "cell_type": "code",
      "source": [
        "# detecting the outliers\n",
        "fig, axes = plt.subplots(2, 2)\n",
        "fig.set_size_inches(15,15)\n",
        "\n",
        "sns.boxplot(x='X1 transaction date', data=df, color='green',ax=axes[0,0]).set(title='Outliers: Transcation Date')\n",
        "sns.boxplot(x='X2 house age', data=df, color='black',ax=axes[0,1]).set(title='Outliers: House Age')\n",
        "sns.boxplot(x='X3 distance to the nearest MRT station', data=df, color='blue',ax=axes[1,0]).set(title='Outliers: Distance to the Nearest MRT Station')\n",
        "sns.boxplot(x='X4 number of convenience stores', data=df, color='red',ax=axes[1,1]).set(title='Outliers: Number of Convenience Stores')\n",
        "\n",
        "#No Outliers in Number of Convenience Stores , House Age and Transaction Date"
      ],
      "metadata": {
        "colab": {
          "base_uri": "https://localhost:8080/",
          "height": 910
        },
        "id": "klXZbgVIfEVF",
        "outputId": "dbf94e2c-60ec-4023-e15e-c5934aaffcd5"
      },
      "execution_count": null,
      "outputs": [
        {
          "output_type": "execute_result",
          "data": {
            "text/plain": [
              "[Text(0.5, 1.0, 'Outliers: Number of Convenience Stores')]"
            ]
          },
          "metadata": {},
          "execution_count": 7
        },
        {
          "output_type": "display_data",
          "data": {
            "text/plain": [
              "<Figure size 1080x1080 with 4 Axes>"
            ],
            "image/png": "[encoded data removed]"
          },
          "metadata": {
            "needs_background": "light"
          }
        }
      ]
    },
    {
      "cell_type": "code",
      "source": [
        "# detecting the outliers\n",
        "fig, axes = plt.subplots(1, 2)\n",
        "fig.set_size_inches(15,5)\n",
        "\n",
        "sns.boxplot(x='X5 latitude', data=df, color='yellow',ax=axes[0]).set(title='Outliers: Latitude')\n",
        "sns.boxplot(x='X6 longitude', data=df, color='purple',ax=axes[1]).set(title='Outliers: Longitude')\n",
        "\n",
        "#Some Outliers detected in both features"
      ],
      "metadata": {
        "colab": {
          "base_uri": "https://localhost:8080/",
          "height": 367
        },
        "id": "Zk0GlxsiaeC2",
        "outputId": "aff9e1fb-1d3b-4701-94ab-23ef38ff8205"
      },
      "execution_count": null,
      "outputs": [
        {
          "output_type": "execute_result",
          "data": {
            "text/plain": [
              "[Text(0.5, 1.0, 'Outliers: Longitude')]"
            ]
          },
          "metadata": {},
          "execution_count": 8
        },
        {
          "output_type": "display_data",
          "data": {
            "text/plain": [
              "<Figure size 1080x360 with 2 Axes>"
            ],
            "image/png": "[encoded data removed]"
          },
          "metadata": {
            "needs_background": "light"
          }
        }
      ]
    },
    {
      "cell_type": "code",
      "source": [
        "#Large Distance to Nearest MRT Station\n",
        "df[df['X3 distance to the nearest MRT station']>6000]"
      ],
      "metadata": {
        "colab": {
          "base_uri": "https://localhost:8080/",
          "height": 205
        },
        "id": "9bjjopdNfEPi",
        "outputId": "5c0e7d41-2cd5-4d3f-e738-c4c325e39696"
      },
      "execution_count": null,
      "outputs": [
        {
          "output_type": "execute_result",
          "data": {
            "text/plain": [
              "      No  X1 transaction date  X2 house age  \\\n",
              "116  117             2013.000          30.9   \n",
              "249  250             2012.833          18.0   \n",
              "347  348             2013.583          17.4   \n",
              "\n",
              "     X3 distance to the nearest MRT station  X4 number of convenience stores  \\\n",
              "116                                6396.283                                1   \n",
              "249                                6306.153                                1   \n",
              "347                                6488.021                                1   \n",
              "\n",
              "     X5 latitude  X6 longitude  Y house price of unit area  \n",
              "116     24.94375     121.47883                        12.2  \n",
              "249     24.95743     121.47516                        15.0  \n",
              "347     24.95719     121.47353                        11.2  "
            ],
            "text/html": [
              "\n",
              "  <div id=\"df-ffeb92de-7e4f-4a78-89bc-2b6efd5c825a\">\n",
              "    <div class=\"colab-df-container\">\n",
              "      <div>\n",
              "<style scoped>\n",
              "    .dataframe tbody tr th:only-of-type {\n",
              "        vertical-align: middle;\n",
              "    }\n",
              "\n",
              "    .dataframe tbody tr th {\n",
              "        vertical-align: top;\n",
              "    }\n",
              "\n",
              "    .dataframe thead th {\n",
              "        text-align: right;\n",
              "    }\n",
              "</style>\n",
              "<table border=\"1\" class=\"dataframe\">\n",
              "  <thead>\n",
              "    <tr style=\"text-align: right;\">\n",
              "      <th></th>\n",
              "      <th>No</th>\n",
              "      <th>X1 transaction date</th>\n",
              "      <th>X2 house age</th>\n",
              "      <th>X3 distance to the nearest MRT station</th>\n",
              "      <th>X4 number of convenience stores</th>\n",
              "      <th>X5 latitude</th>\n",
              "      <th>X6 longitude</th>\n",
              "      <th>Y house price of unit area</th>\n",
              "    </tr>\n",
              "  </thead>\n",
              "  <tbody>\n",
              "    <tr>\n",
              "      <th>116</th>\n",
              "      <td>117</td>\n",
              "      <td>2013.000</td>\n",
              "      <td>30.9</td>\n",
              "      <td>6396.283</td>\n",
              "      <td>1</td>\n",
              "      <td>24.94375</td>\n",
              "      <td>121.47883</td>\n",
              "      <td>12.2</td>\n",
              "    </tr>\n",
              "    <tr>\n",
              "      <th>249</th>\n",
              "      <td>250</td>\n",
              "      <td>2012.833</td>\n",
              "      <td>18.0</td>\n",
              "      <td>6306.153</td>\n",
              "      <td>1</td>\n",
              "      <td>24.95743</td>\n",
              "      <td>121.47516</td>\n",
              "      <td>15.0</td>\n",
              "    </tr>\n",
              "    <tr>\n",
              "      <th>347</th>\n",
              "      <td>348</td>\n",
              "      <td>2013.583</td>\n",
              "      <td>17.4</td>\n",
              "      <td>6488.021</td>\n",
              "      <td>1</td>\n",
              "      <td>24.95719</td>\n",
              "      <td>121.47353</td>\n",
              "      <td>11.2</td>\n",
              "    </tr>\n",
              "  </tbody>\n",
              "</table>\n",
              "</div>\n",
              "      <button class=\"colab-df-convert\" onclick=\"convertToInteractive('df-ffeb92de-7e4f-4a78-89bc-2b6efd5c825a')\"\n",
              "              title=\"Convert this dataframe to an interactive table.\"\n",
              "              style=\"display:none;\">\n",
              "        \n",
              "  <svg xmlns=\"http://www.w3.org/2000/svg\" height=\"24px\"viewBox=\"0 0 24 24\"\n",
              "       width=\"24px\">\n",
              "    <path d=\"M0 0h24v24H0V0z\" fill=\"none\"/>\n",
              "    <path d=\"M18.56 5.44l.94 2.06.94-2.06 2.06-.94-2.06-.94-.94-2.06-.94 2.06-2.06.94zm-11 1L8.5 8.5l.94-2.06 2.06-.94-2.06-.94L8.5 2.5l-.94 2.06-2.06.94zm10 10l.94 2.06.94-2.06 2.06-.94-2.06-.94-.94-2.06-.94 2.06-2.06.94z\"/><path d=\"M17.41 7.96l-1.37-1.37c-.4-.4-.92-.59-1.43-.59-.52 0-1.04.2-1.43.59L10.3 9.45l-7.72 7.72c-.78.78-.78 2.05 0 2.83L4 21.41c.39.39.9.59 1.41.59.51 0 1.02-.2 1.41-.59l7.78-7.78 2.81-2.81c.8-.78.8-2.07 0-2.86zM5.41 20L4 18.59l7.72-7.72 1.47 1.35L5.41 20z\"/>\n",
              "  </svg>\n",
              "      </button>\n",
              "      \n",
              "  <style>\n",
              "    .colab-df-container {\n",
              "      display:flex;\n",
              "      flex-wrap:wrap;\n",
              "      gap: 12px;\n",
              "    }\n",
              "\n",
              "    .colab-df-convert {\n",
              "      background-color: #E8F0FE;\n",
              "      border: none;\n",
              "      border-radius: 50%;\n",
              "      cursor: pointer;\n",
              "      display: none;\n",
              "      fill: #1967D2;\n",
              "      height: 32px;\n",
              "      padding: 0 0 0 0;\n",
              "      width: 32px;\n",
              "    }\n",
              "\n",
              "    .colab-df-convert:hover {\n",
              "      background-color: #E2EBFA;\n",
              "      box-shadow: 0px 1px 2px rgba(60, 64, 67, 0.3), 0px 1px 3px 1px rgba(60, 64, 67, 0.15);\n",
              "      fill: #174EA6;\n",
              "    }\n",
              "\n",
              "    [theme=dark] .colab-df-convert {\n",
              "      background-color: #3B4455;\n",
              "      fill: #D2E3FC;\n",
              "    }\n",
              "\n",
              "    [theme=dark] .colab-df-convert:hover {\n",
              "      background-color: #434B5C;\n",
              "      box-shadow: 0px 1px 3px 1px rgba(0, 0, 0, 0.15);\n",
              "      filter: drop-shadow(0px 1px 2px rgba(0, 0, 0, 0.3));\n",
              "      fill: #FFFFFF;\n",
              "    }\n",
              "  </style>\n",
              "\n",
              "      <script>\n",
              "        const buttonEl =\n",
              "          document.querySelector('#df-ffeb92de-7e4f-4a78-89bc-2b6efd5c825a button.colab-df-convert');\n",
              "        buttonEl.style.display =\n",
              "          google.colab.kernel.accessAllowed ? 'block' : 'none';\n",
              "\n",
              "        async function convertToInteractive(key) {\n",
              "          const element = document.querySelector('#df-ffeb92de-7e4f-4a78-89bc-2b6efd5c825a');\n",
              "          const dataTable =\n",
              "            await google.colab.kernel.invokeFunction('convertToInteractive',\n",
              "                                                     [key], {});\n",
              "          if (!dataTable) return;\n",
              "\n",
              "          const docLinkHtml = 'Like what you see? Visit the ' +\n",
              "            '<a target=\"_blank\" href=https://colab.research.google.com/notebooks/data_table.ipynb>data table notebook</a>'\n",
              "            + ' to learn more about interactive tables.';\n",
              "          element.innerHTML = '';\n",
              "          dataTable['output_type'] = 'display_data';\n",
              "          await google.colab.output.renderOutput(dataTable, element);\n",
              "          const docLink = document.createElement('div');\n",
              "          docLink.innerHTML = docLinkHtml;\n",
              "          element.appendChild(docLink);\n",
              "        }\n",
              "      </script>\n",
              "    </div>\n",
              "  </div>\n",
              "  "
            ]
          },
          "metadata": {},
          "execution_count": 9
        }
      ]
    },
    {
      "cell_type": "code",
      "source": [
        "#High Latitude Houses\n",
        "df[df['X5 latitude']>25]"
      ],
      "metadata": {
        "colab": {
          "base_uri": "https://localhost:8080/",
          "height": 173
        },
        "id": "pgqIkz9zaz5l",
        "outputId": "7ffb6161-4a73-4e81-f12d-deb89c9cf610"
      },
      "execution_count": null,
      "outputs": [
        {
          "output_type": "execute_result",
          "data": {
            "text/plain": [
              "      No  X1 transaction date  X2 house age  \\\n",
              "35    36             2013.500          13.9   \n",
              "228  229             2013.417          11.9   \n",
              "\n",
              "     X3 distance to the nearest MRT station  X4 number of convenience stores  \\\n",
              "35                                 4079.418                                0   \n",
              "228                                3171.329                                0   \n",
              "\n",
              "     X5 latitude  X6 longitude  Y house price of unit area  \n",
              "35      25.01459     121.51816                        27.3  \n",
              "228     25.00115     121.51776                        46.6  "
            ],
            "text/html": [
              "\n",
              "  <div id=\"df-3d588d39-1128-4d87-b7a4-f2fe7af47707\">\n",
              "    <div class=\"colab-df-container\">\n",
              "      <div>\n",
              "<style scoped>\n",
              "    .dataframe tbody tr th:only-of-type {\n",
              "        vertical-align: middle;\n",
              "    }\n",
              "\n",
              "    .dataframe tbody tr th {\n",
              "        vertical-align: top;\n",
              "    }\n",
              "\n",
              "    .dataframe thead th {\n",
              "        text-align: right;\n",
              "    }\n",
              "</style>\n",
              "<table border=\"1\" class=\"dataframe\">\n",
              "  <thead>\n",
              "    <tr style=\"text-align: right;\">\n",
              "      <th></th>\n",
              "      <th>No</th>\n",
              "      <th>X1 transaction date</th>\n",
              "      <th>X2 house age</th>\n",
              "      <th>X3 distance to the nearest MRT station</th>\n",
              "      <th>X4 number of convenience stores</th>\n",
              "      <th>X5 latitude</th>\n",
              "      <th>X6 longitude</th>\n",
              "      <th>Y house price of unit area</th>\n",
              "    </tr>\n",
              "  </thead>\n",
              "  <tbody>\n",
              "    <tr>\n",
              "      <th>35</th>\n",
              "      <td>36</td>\n",
              "      <td>2013.500</td>\n",
              "      <td>13.9</td>\n",
              "      <td>4079.418</td>\n",
              "      <td>0</td>\n",
              "      <td>25.01459</td>\n",
              "      <td>121.51816</td>\n",
              "      <td>27.3</td>\n",
              "    </tr>\n",
              "    <tr>\n",
              "      <th>228</th>\n",
              "      <td>229</td>\n",
              "      <td>2013.417</td>\n",
              "      <td>11.9</td>\n",
              "      <td>3171.329</td>\n",
              "      <td>0</td>\n",
              "      <td>25.00115</td>\n",
              "      <td>121.51776</td>\n",
              "      <td>46.6</td>\n",
              "    </tr>\n",
              "  </tbody>\n",
              "</table>\n",
              "</div>\n",
              "      <button class=\"colab-df-convert\" onclick=\"convertToInteractive('df-3d588d39-1128-4d87-b7a4-f2fe7af47707')\"\n",
              "              title=\"Convert this dataframe to an interactive table.\"\n",
              "              style=\"display:none;\">\n",
              "        \n",
              "  <svg xmlns=\"http://www.w3.org/2000/svg\" height=\"24px\"viewBox=\"0 0 24 24\"\n",
              "       width=\"24px\">\n",
              "    <path d=\"M0 0h24v24H0V0z\" fill=\"none\"/>\n",
              "    <path d=\"M18.56 5.44l.94 2.06.94-2.06 2.06-.94-2.06-.94-.94-2.06-.94 2.06-2.06.94zm-11 1L8.5 8.5l.94-2.06 2.06-.94-2.06-.94L8.5 2.5l-.94 2.06-2.06.94zm10 10l.94 2.06.94-2.06 2.06-.94-2.06-.94-.94-2.06-.94 2.06-2.06.94z\"/><path d=\"M17.41 7.96l-1.37-1.37c-.4-.4-.92-.59-1.43-.59-.52 0-1.04.2-1.43.59L10.3 9.45l-7.72 7.72c-.78.78-.78 2.05 0 2.83L4 21.41c.39.39.9.59 1.41.59.51 0 1.02-.2 1.41-.59l7.78-7.78 2.81-2.81c.8-.78.8-2.07 0-2.86zM5.41 20L4 18.59l7.72-7.72 1.47 1.35L5.41 20z\"/>\n",
              "  </svg>\n",
              "      </button>\n",
              "      \n",
              "  <style>\n",
              "    .colab-df-container {\n",
              "      display:flex;\n",
              "      flex-wrap:wrap;\n",
              "      gap: 12px;\n",
              "    }\n",
              "\n",
              "    .colab-df-convert {\n",
              "      background-color: #E8F0FE;\n",
              "      border: none;\n",
              "      border-radius: 50%;\n",
              "      cursor: pointer;\n",
              "      display: none;\n",
              "      fill: #1967D2;\n",
              "      height: 32px;\n",
              "      padding: 0 0 0 0;\n",
              "      width: 32px;\n",
              "    }\n",
              "\n",
              "    .colab-df-convert:hover {\n",
              "      background-color: #E2EBFA;\n",
              "      box-shadow: 0px 1px 2px rgba(60, 64, 67, 0.3), 0px 1px 3px 1px rgba(60, 64, 67, 0.15);\n",
              "      fill: #174EA6;\n",
              "    }\n",
              "\n",
              "    [theme=dark] .colab-df-convert {\n",
              "      background-color: #3B4455;\n",
              "      fill: #D2E3FC;\n",
              "    }\n",
              "\n",
              "    [theme=dark] .colab-df-convert:hover {\n",
              "      background-color: #434B5C;\n",
              "      box-shadow: 0px 1px 3px 1px rgba(0, 0, 0, 0.15);\n",
              "      filter: drop-shadow(0px 1px 2px rgba(0, 0, 0, 0.3));\n",
              "      fill: #FFFFFF;\n",
              "    }\n",
              "  </style>\n",
              "\n",
              "      <script>\n",
              "        const buttonEl =\n",
              "          document.querySelector('#df-3d588d39-1128-4d87-b7a4-f2fe7af47707 button.colab-df-convert');\n",
              "        buttonEl.style.display =\n",
              "          google.colab.kernel.accessAllowed ? 'block' : 'none';\n",
              "\n",
              "        async function convertToInteractive(key) {\n",
              "          const element = document.querySelector('#df-3d588d39-1128-4d87-b7a4-f2fe7af47707');\n",
              "          const dataTable =\n",
              "            await google.colab.kernel.invokeFunction('convertToInteractive',\n",
              "                                                     [key], {});\n",
              "          if (!dataTable) return;\n",
              "\n",
              "          const docLinkHtml = 'Like what you see? Visit the ' +\n",
              "            '<a target=\"_blank\" href=https://colab.research.google.com/notebooks/data_table.ipynb>data table notebook</a>'\n",
              "            + ' to learn more about interactive tables.';\n",
              "          element.innerHTML = '';\n",
              "          dataTable['output_type'] = 'display_data';\n",
              "          await google.colab.output.renderOutput(dataTable, element);\n",
              "          const docLink = document.createElement('div');\n",
              "          docLink.innerHTML = docLinkHtml;\n",
              "          element.appendChild(docLink);\n",
              "        }\n",
              "      </script>\n",
              "    </div>\n",
              "  </div>\n",
              "  "
            ]
          },
          "metadata": {},
          "execution_count": 10
        }
      ]
    },
    {
      "cell_type": "code",
      "source": [
        "#Lowest Longitude Houses\n",
        "df[df['X6 longitude']<121.48]"
      ],
      "metadata": {
        "colab": {
          "base_uri": "https://localhost:8080/",
          "height": 205
        },
        "id": "mgnGGV-AfEHj",
        "outputId": "41a9c284-5a7a-475f-a0d4-e1332df19ac7"
      },
      "execution_count": null,
      "outputs": [
        {
          "output_type": "execute_result",
          "data": {
            "text/plain": [
              "      No  X1 transaction date  X2 house age  \\\n",
              "116  117             2013.000          30.9   \n",
              "249  250             2012.833          18.0   \n",
              "347  348             2013.583          17.4   \n",
              "\n",
              "     X3 distance to the nearest MRT station  X4 number of convenience stores  \\\n",
              "116                                6396.283                                1   \n",
              "249                                6306.153                                1   \n",
              "347                                6488.021                                1   \n",
              "\n",
              "     X5 latitude  X6 longitude  Y house price of unit area  \n",
              "116     24.94375     121.47883                        12.2  \n",
              "249     24.95743     121.47516                        15.0  \n",
              "347     24.95719     121.47353                        11.2  "
            ],
            "text/html": [
              "\n",
              "  <div id=\"df-02ec6bef-ccc2-4ae6-b900-e6296f866595\">\n",
              "    <div class=\"colab-df-container\">\n",
              "      <div>\n",
              "<style scoped>\n",
              "    .dataframe tbody tr th:only-of-type {\n",
              "        vertical-align: middle;\n",
              "    }\n",
              "\n",
              "    .dataframe tbody tr th {\n",
              "        vertical-align: top;\n",
              "    }\n",
              "\n",
              "    .dataframe thead th {\n",
              "        text-align: right;\n",
              "    }\n",
              "</style>\n",
              "<table border=\"1\" class=\"dataframe\">\n",
              "  <thead>\n",
              "    <tr style=\"text-align: right;\">\n",
              "      <th></th>\n",
              "      <th>No</th>\n",
              "      <th>X1 transaction date</th>\n",
              "      <th>X2 house age</th>\n",
              "      <th>X3 distance to the nearest MRT station</th>\n",
              "      <th>X4 number of convenience stores</th>\n",
              "      <th>X5 latitude</th>\n",
              "      <th>X6 longitude</th>\n",
              "      <th>Y house price of unit area</th>\n",
              "    </tr>\n",
              "  </thead>\n",
              "  <tbody>\n",
              "    <tr>\n",
              "      <th>116</th>\n",
              "      <td>117</td>\n",
              "      <td>2013.000</td>\n",
              "      <td>30.9</td>\n",
              "      <td>6396.283</td>\n",
              "      <td>1</td>\n",
              "      <td>24.94375</td>\n",
              "      <td>121.47883</td>\n",
              "      <td>12.2</td>\n",
              "    </tr>\n",
              "    <tr>\n",
              "      <th>249</th>\n",
              "      <td>250</td>\n",
              "      <td>2012.833</td>\n",
              "      <td>18.0</td>\n",
              "      <td>6306.153</td>\n",
              "      <td>1</td>\n",
              "      <td>24.95743</td>\n",
              "      <td>121.47516</td>\n",
              "      <td>15.0</td>\n",
              "    </tr>\n",
              "    <tr>\n",
              "      <th>347</th>\n",
              "      <td>348</td>\n",
              "      <td>2013.583</td>\n",
              "      <td>17.4</td>\n",
              "      <td>6488.021</td>\n",
              "      <td>1</td>\n",
              "      <td>24.95719</td>\n",
              "      <td>121.47353</td>\n",
              "      <td>11.2</td>\n",
              "    </tr>\n",
              "  </tbody>\n",
              "</table>\n",
              "</div>\n",
              "      <button class=\"colab-df-convert\" onclick=\"convertToInteractive('df-02ec6bef-ccc2-4ae6-b900-e6296f866595')\"\n",
              "              title=\"Convert this dataframe to an interactive table.\"\n",
              "              style=\"display:none;\">\n",
              "        \n",
              "  <svg xmlns=\"http://www.w3.org/2000/svg\" height=\"24px\"viewBox=\"0 0 24 24\"\n",
              "       width=\"24px\">\n",
              "    <path d=\"M0 0h24v24H0V0z\" fill=\"none\"/>\n",
              "    <path d=\"M18.56 5.44l.94 2.06.94-2.06 2.06-.94-2.06-.94-.94-2.06-.94 2.06-2.06.94zm-11 1L8.5 8.5l.94-2.06 2.06-.94-2.06-.94L8.5 2.5l-.94 2.06-2.06.94zm10 10l.94 2.06.94-2.06 2.06-.94-2.06-.94-.94-2.06-.94 2.06-2.06.94z\"/><path d=\"M17.41 7.96l-1.37-1.37c-.4-.4-.92-.59-1.43-.59-.52 0-1.04.2-1.43.59L10.3 9.45l-7.72 7.72c-.78.78-.78 2.05 0 2.83L4 21.41c.39.39.9.59 1.41.59.51 0 1.02-.2 1.41-.59l7.78-7.78 2.81-2.81c.8-.78.8-2.07 0-2.86zM5.41 20L4 18.59l7.72-7.72 1.47 1.35L5.41 20z\"/>\n",
              "  </svg>\n",
              "      </button>\n",
              "      \n",
              "  <style>\n",
              "    .colab-df-container {\n",
              "      display:flex;\n",
              "      flex-wrap:wrap;\n",
              "      gap: 12px;\n",
              "    }\n",
              "\n",
              "    .colab-df-convert {\n",
              "      background-color: #E8F0FE;\n",
              "      border: none;\n",
              "      border-radius: 50%;\n",
              "      cursor: pointer;\n",
              "      display: none;\n",
              "      fill: #1967D2;\n",
              "      height: 32px;\n",
              "      padding: 0 0 0 0;\n",
              "      width: 32px;\n",
              "    }\n",
              "\n",
              "    .colab-df-convert:hover {\n",
              "      background-color: #E2EBFA;\n",
              "      box-shadow: 0px 1px 2px rgba(60, 64, 67, 0.3), 0px 1px 3px 1px rgba(60, 64, 67, 0.15);\n",
              "      fill: #174EA6;\n",
              "    }\n",
              "\n",
              "    [theme=dark] .colab-df-convert {\n",
              "      background-color: #3B4455;\n",
              "      fill: #D2E3FC;\n",
              "    }\n",
              "\n",
              "    [theme=dark] .colab-df-convert:hover {\n",
              "      background-color: #434B5C;\n",
              "      box-shadow: 0px 1px 3px 1px rgba(0, 0, 0, 0.15);\n",
              "      filter: drop-shadow(0px 1px 2px rgba(0, 0, 0, 0.3));\n",
              "      fill: #FFFFFF;\n",
              "    }\n",
              "  </style>\n",
              "\n",
              "      <script>\n",
              "        const buttonEl =\n",
              "          document.querySelector('#df-02ec6bef-ccc2-4ae6-b900-e6296f866595 button.colab-df-convert');\n",
              "        buttonEl.style.display =\n",
              "          google.colab.kernel.accessAllowed ? 'block' : 'none';\n",
              "\n",
              "        async function convertToInteractive(key) {\n",
              "          const element = document.querySelector('#df-02ec6bef-ccc2-4ae6-b900-e6296f866595');\n",
              "          const dataTable =\n",
              "            await google.colab.kernel.invokeFunction('convertToInteractive',\n",
              "                                                     [key], {});\n",
              "          if (!dataTable) return;\n",
              "\n",
              "          const docLinkHtml = 'Like what you see? Visit the ' +\n",
              "            '<a target=\"_blank\" href=https://colab.research.google.com/notebooks/data_table.ipynb>data table notebook</a>'\n",
              "            + ' to learn more about interactive tables.';\n",
              "          element.innerHTML = '';\n",
              "          dataTable['output_type'] = 'display_data';\n",
              "          await google.colab.output.renderOutput(dataTable, element);\n",
              "          const docLink = document.createElement('div');\n",
              "          docLink.innerHTML = docLinkHtml;\n",
              "          element.appendChild(docLink);\n",
              "        }\n",
              "      </script>\n",
              "    </div>\n",
              "  </div>\n",
              "  "
            ]
          },
          "metadata": {},
          "execution_count": 11
        }
      ]
    },
    {
      "cell_type": "code",
      "source": [
        "#Differentiating between transaction dates\n",
        "sns.set(rc={'figure.figsize':(15,8)})\n",
        "sns.countplot(x='X1 transaction date',data=df)\n",
        "\n",
        "#Increase of transactions at the middle of 2013"
      ],
      "metadata": {
        "colab": {
          "base_uri": "https://localhost:8080/",
          "height": 519
        },
        "id": "BPnGZijLeAaJ",
        "outputId": "3b8cb687-d2a8-45c9-d2dc-da2c84d0e684"
      },
      "execution_count": null,
      "outputs": [
        {
          "output_type": "execute_result",
          "data": {
            "text/plain": [
              "<matplotlib.axes._subplots.AxesSubplot at 0x7f4fc0933710>"
            ]
          },
          "metadata": {},
          "execution_count": 12
        },
        {
          "output_type": "display_data",
          "data": {
            "text/plain": [
              "<Figure size 1080x576 with 1 Axes>"
            ],
            "image/png": "[encoded data removed]"
          },
          "metadata": {}
        }
      ]
    },
    {
      "cell_type": "code",
      "source": [
        "# Differentiating between number of convenience stores\n",
        "sns.set(rc={'figure.figsize':(15,8)})\n",
        "sns.countplot(data=df,x='X4 number of convenience stores')\n",
        "\n",
        "#We can monitor change of transactions according to number of convenience stores"
      ],
      "metadata": {
        "colab": {
          "base_uri": "https://localhost:8080/",
          "height": 521
        },
        "id": "4ghwKjcTjpEb",
        "outputId": "4cb3cd4a-c63a-43bb-dd5b-55b81f0b2ed0"
      },
      "execution_count": null,
      "outputs": [
        {
          "output_type": "execute_result",
          "data": {
            "text/plain": [
              "<matplotlib.axes._subplots.AxesSubplot at 0x7f4fc0882dd0>"
            ]
          },
          "metadata": {},
          "execution_count": 13
        },
        {
          "output_type": "display_data",
          "data": {
            "text/plain": [
              "<Figure size 1080x576 with 1 Axes>"
            ],
            "image/png": "[encoded data removed]"
          },
          "metadata": {}
        }
      ]
    },
    {
      "cell_type": "code",
      "source": [
        "# Correlation between dataset columns\n",
        "df.corr()"
      ],
      "metadata": {
        "colab": {
          "base_uri": "https://localhost:8080/",
          "height": 431
        },
        "id": "GHsJCkpQjpB_",
        "outputId": "2a808aa6-33ab-46f6-b87c-7e7f72315266"
      },
      "execution_count": null,
      "outputs": [
        {
          "output_type": "execute_result",
          "data": {
            "text/plain": [
              "                                              No  X1 transaction date  \\\n",
              "No                                      1.000000            -0.048658   \n",
              "X1 transaction date                    -0.048658             1.000000   \n",
              "X2 house age                           -0.032808             0.017549   \n",
              "X3 distance to the nearest MRT station -0.013573             0.060880   \n",
              "X4 number of convenience stores        -0.012699             0.009635   \n",
              "X5 latitude                            -0.010110             0.035058   \n",
              "X6 longitude                           -0.011059            -0.041082   \n",
              "Y house price of unit area             -0.028587             0.087491   \n",
              "\n",
              "                                        X2 house age  \\\n",
              "No                                         -0.032808   \n",
              "X1 transaction date                         0.017549   \n",
              "X2 house age                                1.000000   \n",
              "X3 distance to the nearest MRT station      0.025622   \n",
              "X4 number of convenience stores             0.049593   \n",
              "X5 latitude                                 0.054420   \n",
              "X6 longitude                               -0.048520   \n",
              "Y house price of unit area                 -0.210567   \n",
              "\n",
              "                                        X3 distance to the nearest MRT station  \\\n",
              "No                                                                   -0.013573   \n",
              "X1 transaction date                                                   0.060880   \n",
              "X2 house age                                                          0.025622   \n",
              "X3 distance to the nearest MRT station                                1.000000   \n",
              "X4 number of convenience stores                                      -0.602519   \n",
              "X5 latitude                                                          -0.591067   \n",
              "X6 longitude                                                         -0.806317   \n",
              "Y house price of unit area                                           -0.673613   \n",
              "\n",
              "                                        X4 number of convenience stores  \\\n",
              "No                                                            -0.012699   \n",
              "X1 transaction date                                            0.009635   \n",
              "X2 house age                                                   0.049593   \n",
              "X3 distance to the nearest MRT station                        -0.602519   \n",
              "X4 number of convenience stores                                1.000000   \n",
              "X5 latitude                                                    0.444143   \n",
              "X6 longitude                                                   0.449099   \n",
              "Y house price of unit area                                     0.571005   \n",
              "\n",
              "                                        X5 latitude  X6 longitude  \\\n",
              "No                                        -0.010110     -0.011059   \n",
              "X1 transaction date                        0.035058     -0.041082   \n",
              "X2 house age                               0.054420     -0.048520   \n",
              "X3 distance to the nearest MRT station    -0.591067     -0.806317   \n",
              "X4 number of convenience stores            0.444143      0.449099   \n",
              "X5 latitude                                1.000000      0.412924   \n",
              "X6 longitude                               0.412924      1.000000   \n",
              "Y house price of unit area                 0.546307      0.523287   \n",
              "\n",
              "                                        Y house price of unit area  \n",
              "No                                                       -0.028587  \n",
              "X1 transaction date                                       0.087491  \n",
              "X2 house age                                             -0.210567  \n",
              "X3 distance to the nearest MRT station                   -0.673613  \n",
              "X4 number of convenience stores                           0.571005  \n",
              "X5 latitude                                               0.546307  \n",
              "X6 longitude                                              0.523287  \n",
              "Y house price of unit area                                1.000000  "
            ],
            "text/html": [
              "\n",
              "  <div id=\"df-f8009f24-3ad9-43d2-9c5b-de2b8df48f62\">\n",
              "    <div class=\"colab-df-container\">\n",
              "      <div>\n",
              "<style scoped>\n",
              "    .dataframe tbody tr th:only-of-type {\n",
              "        vertical-align: middle;\n",
              "    }\n",
              "\n",
              "    .dataframe tbody tr th {\n",
              "        vertical-align: top;\n",
              "    }\n",
              "\n",
              "    .dataframe thead th {\n",
              "        text-align: right;\n",
              "    }\n",
              "</style>\n",
              "<table border=\"1\" class=\"dataframe\">\n",
              "  <thead>\n",
              "    <tr style=\"text-align: right;\">\n",
              "      <th></th>\n",
              "      <th>No</th>\n",
              "      <th>X1 transaction date</th>\n",
              "      <th>X2 house age</th>\n",
              "      <th>X3 distance to the nearest MRT station</th>\n",
              "      <th>X4 number of convenience stores</th>\n",
              "      <th>X5 latitude</th>\n",
              "      <th>X6 longitude</th>\n",
              "      <th>Y house price of unit area</th>\n",
              "    </tr>\n",
              "  </thead>\n",
              "  <tbody>\n",
              "    <tr>\n",
              "      <th>No</th>\n",
              "      <td>1.000000</td>\n",
              "      <td>-0.048658</td>\n",
              "      <td>-0.032808</td>\n",
              "      <td>-0.013573</td>\n",
              "      <td>-0.012699</td>\n",
              "      <td>-0.010110</td>\n",
              "      <td>-0.011059</td>\n",
              "      <td>-0.028587</td>\n",
              "    </tr>\n",
              "    <tr>\n",
              "      <th>X1 transaction date</th>\n",
              "      <td>-0.048658</td>\n",
              "      <td>1.000000</td>\n",
              "      <td>0.017549</td>\n",
              "      <td>0.060880</td>\n",
              "      <td>0.009635</td>\n",
              "      <td>0.035058</td>\n",
              "      <td>-0.041082</td>\n",
              "      <td>0.087491</td>\n",
              "    </tr>\n",
              "    <tr>\n",
              "      <th>X2 house age</th>\n",
              "      <td>-0.032808</td>\n",
              "      <td>0.017549</td>\n",
              "      <td>1.000000</td>\n",
              "      <td>0.025622</td>\n",
              "      <td>0.049593</td>\n",
              "      <td>0.054420</td>\n",
              "      <td>-0.048520</td>\n",
              "      <td>-0.210567</td>\n",
              "    </tr>\n",
              "    <tr>\n",
              "      <th>X3 distance to the nearest MRT station</th>\n",
              "      <td>-0.013573</td>\n",
              "      <td>0.060880</td>\n",
              "      <td>0.025622</td>\n",
              "      <td>1.000000</td>\n",
              "      <td>-0.602519</td>\n",
              "      <td>-0.591067</td>\n",
              "      <td>-0.806317</td>\n",
              "      <td>-0.673613</td>\n",
              "    </tr>\n",
              "    <tr>\n",
              "      <th>X4 number of convenience stores</th>\n",
              "      <td>-0.012699</td>\n",
              "      <td>0.009635</td>\n",
              "      <td>0.049593</td>\n",
              "      <td>-0.602519</td>\n",
              "      <td>1.000000</td>\n",
              "      <td>0.444143</td>\n",
              "      <td>0.449099</td>\n",
              "      <td>0.571005</td>\n",
              "    </tr>\n",
              "    <tr>\n",
              "      <th>X5 latitude</th>\n",
              "      <td>-0.010110</td>\n",
              "      <td>0.035058</td>\n",
              "      <td>0.054420</td>\n",
              "      <td>-0.591067</td>\n",
              "      <td>0.444143</td>\n",
              "      <td>1.000000</td>\n",
              "      <td>0.412924</td>\n",
              "      <td>0.546307</td>\n",
              "    </tr>\n",
              "    <tr>\n",
              "      <th>X6 longitude</th>\n",
              "      <td>-0.011059</td>\n",
              "      <td>-0.041082</td>\n",
              "      <td>-0.048520</td>\n",
              "      <td>-0.806317</td>\n",
              "      <td>0.449099</td>\n",
              "      <td>0.412924</td>\n",
              "      <td>1.000000</td>\n",
              "      <td>0.523287</td>\n",
              "    </tr>\n",
              "    <tr>\n",
              "      <th>Y house price of unit area</th>\n",
              "      <td>-0.028587</td>\n",
              "      <td>0.087491</td>\n",
              "      <td>-0.210567</td>\n",
              "      <td>-0.673613</td>\n",
              "      <td>0.571005</td>\n",
              "      <td>0.546307</td>\n",
              "      <td>0.523287</td>\n",
              "      <td>1.000000</td>\n",
              "    </tr>\n",
              "  </tbody>\n",
              "</table>\n",
              "</div>\n",
              "      <button class=\"colab-df-convert\" onclick=\"convertToInteractive('df-f8009f24-3ad9-43d2-9c5b-de2b8df48f62')\"\n",
              "              title=\"Convert this dataframe to an interactive table.\"\n",
              "              style=\"display:none;\">\n",
              "        \n",
              "  <svg xmlns=\"http://www.w3.org/2000/svg\" height=\"24px\"viewBox=\"0 0 24 24\"\n",
              "       width=\"24px\">\n",
              "    <path d=\"M0 0h24v24H0V0z\" fill=\"none\"/>\n",
              "    <path d=\"M18.56 5.44l.94 2.06.94-2.06 2.06-.94-2.06-.94-.94-2.06-.94 2.06-2.06.94zm-11 1L8.5 8.5l.94-2.06 2.06-.94-2.06-.94L8.5 2.5l-.94 2.06-2.06.94zm10 10l.94 2.06.94-2.06 2.06-.94-2.06-.94-.94-2.06-.94 2.06-2.06.94z\"/><path d=\"M17.41 7.96l-1.37-1.37c-.4-.4-.92-.59-1.43-.59-.52 0-1.04.2-1.43.59L10.3 9.45l-7.72 7.72c-.78.78-.78 2.05 0 2.83L4 21.41c.39.39.9.59 1.41.59.51 0 1.02-.2 1.41-.59l7.78-7.78 2.81-2.81c.8-.78.8-2.07 0-2.86zM5.41 20L4 18.59l7.72-7.72 1.47 1.35L5.41 20z\"/>\n",
              "  </svg>\n",
              "      </button>\n",
              "      \n",
              "  <style>\n",
              "    .colab-df-container {\n",
              "      display:flex;\n",
              "      flex-wrap:wrap;\n",
              "      gap: 12px;\n",
              "    }\n",
              "\n",
              "    .colab-df-convert {\n",
              "      background-color: #E8F0FE;\n",
              "      border: none;\n",
              "      border-radius: 50%;\n",
              "      cursor: pointer;\n",
              "      display: none;\n",
              "      fill: #1967D2;\n",
              "      height: 32px;\n",
              "      padding: 0 0 0 0;\n",
              "      width: 32px;\n",
              "    }\n",
              "\n",
              "    .colab-df-convert:hover {\n",
              "      background-color: #E2EBFA;\n",
              "      box-shadow: 0px 1px 2px rgba(60, 64, 67, 0.3), 0px 1px 3px 1px rgba(60, 64, 67, 0.15);\n",
              "      fill: #174EA6;\n",
              "    }\n",
              "\n",
              "    [theme=dark] .colab-df-convert {\n",
              "      background-color: #3B4455;\n",
              "      fill: #D2E3FC;\n",
              "    }\n",
              "\n",
              "    [theme=dark] .colab-df-convert:hover {\n",
              "      background-color: #434B5C;\n",
              "      box-shadow: 0px 1px 3px 1px rgba(0, 0, 0, 0.15);\n",
              "      filter: drop-shadow(0px 1px 2px rgba(0, 0, 0, 0.3));\n",
              "      fill: #FFFFFF;\n",
              "    }\n",
              "  </style>\n",
              "\n",
              "      <script>\n",
              "        const buttonEl =\n",
              "          document.querySelector('#df-f8009f24-3ad9-43d2-9c5b-de2b8df48f62 button.colab-df-convert');\n",
              "        buttonEl.style.display =\n",
              "          google.colab.kernel.accessAllowed ? 'block' : 'none';\n",
              "\n",
              "        async function convertToInteractive(key) {\n",
              "          const element = document.querySelector('#df-f8009f24-3ad9-43d2-9c5b-de2b8df48f62');\n",
              "          const dataTable =\n",
              "            await google.colab.kernel.invokeFunction('convertToInteractive',\n",
              "                                                     [key], {});\n",
              "          if (!dataTable) return;\n",
              "\n",
              "          const docLinkHtml = 'Like what you see? Visit the ' +\n",
              "            '<a target=\"_blank\" href=https://colab.research.google.com/notebooks/data_table.ipynb>data table notebook</a>'\n",
              "            + ' to learn more about interactive tables.';\n",
              "          element.innerHTML = '';\n",
              "          dataTable['output_type'] = 'display_data';\n",
              "          await google.colab.output.renderOutput(dataTable, element);\n",
              "          const docLink = document.createElement('div');\n",
              "          docLink.innerHTML = docLinkHtml;\n",
              "          element.appendChild(docLink);\n",
              "        }\n",
              "      </script>\n",
              "    </div>\n",
              "  </div>\n",
              "  "
            ]
          },
          "metadata": {},
          "execution_count": 14
        }
      ]
    },
    {
      "cell_type": "code",
      "source": [
        "#Visualizing the correlation between the features:\n",
        "sns.heatmap(df.corr())\n",
        "\n",
        "#We can drop first column \"No\" as it resembles index"
      ],
      "metadata": {
        "colab": {
          "base_uri": "https://localhost:8080/",
          "height": 711
        },
        "id": "lNk87b7Rjo_o",
        "outputId": "54e80797-2962-4865-9fe0-f346a1200779"
      },
      "execution_count": null,
      "outputs": [
        {
          "output_type": "execute_result",
          "data": {
            "text/plain": [
              "<matplotlib.axes._subplots.AxesSubplot at 0x7f4fc0807ed0>"
            ]
          },
          "metadata": {},
          "execution_count": 15
        },
        {
          "output_type": "display_data",
          "data": {
            "text/plain": [
              "<Figure size 1080x576 with 2 Axes>"
            ],
            "image/png": "[encoded data removed]"
          },
          "metadata": {}
        }
      ]
    },
    {
      "cell_type": "code",
      "source": [
        "df.drop(\"No\", axis=1, inplace=True)\n",
        "df.corr()"
      ],
      "metadata": {
        "colab": {
          "base_uri": "https://localhost:8080/",
          "height": 382
        },
        "id": "M1Bj269Dbn_8",
        "outputId": "41253980-0abe-481d-c6c2-c6f5e5a0d5b7"
      },
      "execution_count": null,
      "outputs": [
        {
          "output_type": "execute_result",
          "data": {
            "text/plain": [
              "                                        X1 transaction date  X2 house age  \\\n",
              "X1 transaction date                                1.000000      0.017549   \n",
              "X2 house age                                       0.017549      1.000000   \n",
              "X3 distance to the nearest MRT station             0.060880      0.025622   \n",
              "X4 number of convenience stores                    0.009635      0.049593   \n",
              "X5 latitude                                        0.035058      0.054420   \n",
              "X6 longitude                                      -0.041082     -0.048520   \n",
              "Y house price of unit area                         0.087491     -0.210567   \n",
              "\n",
              "                                        X3 distance to the nearest MRT station  \\\n",
              "X1 transaction date                                                   0.060880   \n",
              "X2 house age                                                          0.025622   \n",
              "X3 distance to the nearest MRT station                                1.000000   \n",
              "X4 number of convenience stores                                      -0.602519   \n",
              "X5 latitude                                                          -0.591067   \n",
              "X6 longitude                                                         -0.806317   \n",
              "Y house price of unit area                                           -0.673613   \n",
              "\n",
              "                                        X4 number of convenience stores  \\\n",
              "X1 transaction date                                            0.009635   \n",
              "X2 house age                                                   0.049593   \n",
              "X3 distance to the nearest MRT station                        -0.602519   \n",
              "X4 number of convenience stores                                1.000000   \n",
              "X5 latitude                                                    0.444143   \n",
              "X6 longitude                                                   0.449099   \n",
              "Y house price of unit area                                     0.571005   \n",
              "\n",
              "                                        X5 latitude  X6 longitude  \\\n",
              "X1 transaction date                        0.035058     -0.041082   \n",
              "X2 house age                               0.054420     -0.048520   \n",
              "X3 distance to the nearest MRT station    -0.591067     -0.806317   \n",
              "X4 number of convenience stores            0.444143      0.449099   \n",
              "X5 latitude                                1.000000      0.412924   \n",
              "X6 longitude                               0.412924      1.000000   \n",
              "Y house price of unit area                 0.546307      0.523287   \n",
              "\n",
              "                                        Y house price of unit area  \n",
              "X1 transaction date                                       0.087491  \n",
              "X2 house age                                             -0.210567  \n",
              "X3 distance to the nearest MRT station                   -0.673613  \n",
              "X4 number of convenience stores                           0.571005  \n",
              "X5 latitude                                               0.546307  \n",
              "X6 longitude                                              0.523287  \n",
              "Y house price of unit area                                1.000000  "
            ],
            "text/html": [
              "\n",
              "  <div id=\"df-cb324670-0f05-4bea-86ae-dea800db69b6\">\n",
              "    <div class=\"colab-df-container\">\n",
              "      <div>\n",
              "<style scoped>\n",
              "    .dataframe tbody tr th:only-of-type {\n",
              "        vertical-align: middle;\n",
              "    }\n",
              "\n",
              "    .dataframe tbody tr th {\n",
              "        vertical-align: top;\n",
              "    }\n",
              "\n",
              "    .dataframe thead th {\n",
              "        text-align: right;\n",
              "    }\n",
              "</style>\n",
              "<table border=\"1\" class=\"dataframe\">\n",
              "  <thead>\n",
              "    <tr style=\"text-align: right;\">\n",
              "      <th></th>\n",
              "      <th>X1 transaction date</th>\n",
              "      <th>X2 house age</th>\n",
              "      <th>X3 distance to the nearest MRT station</th>\n",
              "      <th>X4 number of convenience stores</th>\n",
              "      <th>X5 latitude</th>\n",
              "      <th>X6 longitude</th>\n",
              "      <th>Y house price of unit area</th>\n",
              "    </tr>\n",
              "  </thead>\n",
              "  <tbody>\n",
              "    <tr>\n",
              "      <th>X1 transaction date</th>\n",
              "      <td>1.000000</td>\n",
              "      <td>0.017549</td>\n",
              "      <td>0.060880</td>\n",
              "      <td>0.009635</td>\n",
              "      <td>0.035058</td>\n",
              "      <td>-0.041082</td>\n",
              "      <td>0.087491</td>\n",
              "    </tr>\n",
              "    <tr>\n",
              "      <th>X2 house age</th>\n",
              "      <td>0.017549</td>\n",
              "      <td>1.000000</td>\n",
              "      <td>0.025622</td>\n",
              "      <td>0.049593</td>\n",
              "      <td>0.054420</td>\n",
              "      <td>-0.048520</td>\n",
              "      <td>-0.210567</td>\n",
              "    </tr>\n",
              "    <tr>\n",
              "      <th>X3 distance to the nearest MRT station</th>\n",
              "      <td>0.060880</td>\n",
              "      <td>0.025622</td>\n",
              "      <td>1.000000</td>\n",
              "      <td>-0.602519</td>\n",
              "      <td>-0.591067</td>\n",
              "      <td>-0.806317</td>\n",
              "      <td>-0.673613</td>\n",
              "    </tr>\n",
              "    <tr>\n",
              "      <th>X4 number of convenience stores</th>\n",
              "      <td>0.009635</td>\n",
              "      <td>0.049593</td>\n",
              "      <td>-0.602519</td>\n",
              "      <td>1.000000</td>\n",
              "      <td>0.444143</td>\n",
              "      <td>0.449099</td>\n",
              "      <td>0.571005</td>\n",
              "    </tr>\n",
              "    <tr>\n",
              "      <th>X5 latitude</th>\n",
              "      <td>0.035058</td>\n",
              "      <td>0.054420</td>\n",
              "      <td>-0.591067</td>\n",
              "      <td>0.444143</td>\n",
              "      <td>1.000000</td>\n",
              "      <td>0.412924</td>\n",
              "      <td>0.546307</td>\n",
              "    </tr>\n",
              "    <tr>\n",
              "      <th>X6 longitude</th>\n",
              "      <td>-0.041082</td>\n",
              "      <td>-0.048520</td>\n",
              "      <td>-0.806317</td>\n",
              "      <td>0.449099</td>\n",
              "      <td>0.412924</td>\n",
              "      <td>1.000000</td>\n",
              "      <td>0.523287</td>\n",
              "    </tr>\n",
              "    <tr>\n",
              "      <th>Y house price of unit area</th>\n",
              "      <td>0.087491</td>\n",
              "      <td>-0.210567</td>\n",
              "      <td>-0.673613</td>\n",
              "      <td>0.571005</td>\n",
              "      <td>0.546307</td>\n",
              "      <td>0.523287</td>\n",
              "      <td>1.000000</td>\n",
              "    </tr>\n",
              "  </tbody>\n",
              "</table>\n",
              "</div>\n",
              "      <button class=\"colab-df-convert\" onclick=\"convertToInteractive('df-cb324670-0f05-4bea-86ae-dea800db69b6')\"\n",
              "              title=\"Convert this dataframe to an interactive table.\"\n",
              "              style=\"display:none;\">\n",
              "        \n",
              "  <svg xmlns=\"http://www.w3.org/2000/svg\" height=\"24px\"viewBox=\"0 0 24 24\"\n",
              "       width=\"24px\">\n",
              "    <path d=\"M0 0h24v24H0V0z\" fill=\"none\"/>\n",
              "    <path d=\"M18.56 5.44l.94 2.06.94-2.06 2.06-.94-2.06-.94-.94-2.06-.94 2.06-2.06.94zm-11 1L8.5 8.5l.94-2.06 2.06-.94-2.06-.94L8.5 2.5l-.94 2.06-2.06.94zm10 10l.94 2.06.94-2.06 2.06-.94-2.06-.94-.94-2.06-.94 2.06-2.06.94z\"/><path d=\"M17.41 7.96l-1.37-1.37c-.4-.4-.92-.59-1.43-.59-.52 0-1.04.2-1.43.59L10.3 9.45l-7.72 7.72c-.78.78-.78 2.05 0 2.83L4 21.41c.39.39.9.59 1.41.59.51 0 1.02-.2 1.41-.59l7.78-7.78 2.81-2.81c.8-.78.8-2.07 0-2.86zM5.41 20L4 18.59l7.72-7.72 1.47 1.35L5.41 20z\"/>\n",
              "  </svg>\n",
              "      </button>\n",
              "      \n",
              "  <style>\n",
              "    .colab-df-container {\n",
              "      display:flex;\n",
              "      flex-wrap:wrap;\n",
              "      gap: 12px;\n",
              "    }\n",
              "\n",
              "    .colab-df-convert {\n",
              "      background-color: #E8F0FE;\n",
              "      border: none;\n",
              "      border-radius: 50%;\n",
              "      cursor: pointer;\n",
              "      display: none;\n",
              "      fill: #1967D2;\n",
              "      height: 32px;\n",
              "      padding: 0 0 0 0;\n",
              "      width: 32px;\n",
              "    }\n",
              "\n",
              "    .colab-df-convert:hover {\n",
              "      background-color: #E2EBFA;\n",
              "      box-shadow: 0px 1px 2px rgba(60, 64, 67, 0.3), 0px 1px 3px 1px rgba(60, 64, 67, 0.15);\n",
              "      fill: #174EA6;\n",
              "    }\n",
              "\n",
              "    [theme=dark] .colab-df-convert {\n",
              "      background-color: #3B4455;\n",
              "      fill: #D2E3FC;\n",
              "    }\n",
              "\n",
              "    [theme=dark] .colab-df-convert:hover {\n",
              "      background-color: #434B5C;\n",
              "      box-shadow: 0px 1px 3px 1px rgba(0, 0, 0, 0.15);\n",
              "      filter: drop-shadow(0px 1px 2px rgba(0, 0, 0, 0.3));\n",
              "      fill: #FFFFFF;\n",
              "    }\n",
              "  </style>\n",
              "\n",
              "      <script>\n",
              "        const buttonEl =\n",
              "          document.querySelector('#df-cb324670-0f05-4bea-86ae-dea800db69b6 button.colab-df-convert');\n",
              "        buttonEl.style.display =\n",
              "          google.colab.kernel.accessAllowed ? 'block' : 'none';\n",
              "\n",
              "        async function convertToInteractive(key) {\n",
              "          const element = document.querySelector('#df-cb324670-0f05-4bea-86ae-dea800db69b6');\n",
              "          const dataTable =\n",
              "            await google.colab.kernel.invokeFunction('convertToInteractive',\n",
              "                                                     [key], {});\n",
              "          if (!dataTable) return;\n",
              "\n",
              "          const docLinkHtml = 'Like what you see? Visit the ' +\n",
              "            '<a target=\"_blank\" href=https://colab.research.google.com/notebooks/data_table.ipynb>data table notebook</a>'\n",
              "            + ' to learn more about interactive tables.';\n",
              "          element.innerHTML = '';\n",
              "          dataTable['output_type'] = 'display_data';\n",
              "          await google.colab.output.renderOutput(dataTable, element);\n",
              "          const docLink = document.createElement('div');\n",
              "          docLink.innerHTML = docLinkHtml;\n",
              "          element.appendChild(docLink);\n",
              "        }\n",
              "      </script>\n",
              "    </div>\n",
              "  </div>\n",
              "  "
            ]
          },
          "metadata": {},
          "execution_count": 16
        }
      ]
    },
    {
      "cell_type": "code",
      "source": [
        "#Visualizing the correlation between the features:\n",
        "sns.heatmap(df.corr())\n",
        "\n",
        "#Features from 3 to 6 has the highest correlation"
      ],
      "metadata": {
        "colab": {
          "base_uri": "https://localhost:8080/",
          "height": 711
        },
        "id": "VcFYtBFubvIN",
        "outputId": "50e51244-1e0c-4d92-fba6-016fdfe1c826"
      },
      "execution_count": null,
      "outputs": [
        {
          "output_type": "execute_result",
          "data": {
            "text/plain": [
              "<matplotlib.axes._subplots.AxesSubplot at 0x7f4fc1080c10>"
            ]
          },
          "metadata": {},
          "execution_count": 17
        },
        {
          "output_type": "display_data",
          "data": {
            "text/plain": [
              "<Figure size 1080x576 with 2 Axes>"
            ],
            "image/png": "[encoded data removed]"
          },
          "metadata": {}
        }
      ]
    },
    {
      "cell_type": "code",
      "source": [
        "# Scatter Plot\n",
        "fig, axes = plt.subplots(2, 2)\n",
        "fig.set_size_inches(15,15)\n",
        "\n",
        "sns.scatterplot(x='X1 transaction date',y='Y house price of unit area',data=df,ax=axes[0,0])\n",
        "sns.scatterplot(x='X2 house age',y='Y house price of unit area',data=df,ax=axes[0,1])\n",
        "sns.scatterplot(x='X3 distance to the nearest MRT station',y='Y house price of unit area',data=df,ax=axes[1,0])\n",
        "sns.scatterplot(x='X4 number of convenience stores',y='Y house price of unit area',data=df,ax=axes[1,1])\n",
        "\n",
        "# Not all features can be fitted with linear regression"
      ],
      "metadata": {
        "colab": {
          "base_uri": "https://localhost:8080/",
          "height": 900
        },
        "id": "A62jOHVAjo9J",
        "outputId": "dd9bf25f-1960-44d8-ac4b-61de17bd2005"
      },
      "execution_count": null,
      "outputs": [
        {
          "output_type": "execute_result",
          "data": {
            "text/plain": [
              "<matplotlib.axes._subplots.AxesSubplot at 0x7f4fbdd85c50>"
            ]
          },
          "metadata": {},
          "execution_count": 18
        },
        {
          "output_type": "display_data",
          "data": {
            "text/plain": [
              "<Figure size 1080x1080 with 4 Axes>"
            ],
            "image/png": "[encoded data removed]"
          },
          "metadata": {}
        }
      ]
    },
    {
      "cell_type": "code",
      "source": [
        "# Scatter Plot\n",
        "fig, axes = plt.subplots(1, 2)\n",
        "fig.set_size_inches(15,5)\n",
        "\n",
        "sns.scatterplot(x='X5 latitude',y='Y house price of unit area',data=df,ax=axes[0])\n",
        "\n",
        "sns.scatterplot(x='X6 longitude',y='Y house price of unit area',data=df,ax=axes[1])\n",
        "\n",
        "# Can be fitted with linear regression"
      ],
      "metadata": {
        "colab": {
          "base_uri": "https://localhost:8080/",
          "height": 356
        },
        "id": "L50Mmgbdlmvh",
        "outputId": "12c277d0-564c-44bc-fe2c-c3af47f7c2ee"
      },
      "execution_count": null,
      "outputs": [
        {
          "output_type": "execute_result",
          "data": {
            "text/plain": [
              "<matplotlib.axes._subplots.AxesSubplot at 0x7f4fc099e850>"
            ]
          },
          "metadata": {},
          "execution_count": 19
        },
        {
          "output_type": "display_data",
          "data": {
            "text/plain": [
              "<Figure size 1080x360 with 2 Axes>"
            ],
            "image/png": "[encoded data removed]"
          },
          "metadata": {}
        }
      ]
    },
    {
      "cell_type": "markdown",
      "source": [
        "## Comments\n",
        "*First Column \"No\" will be igonred \n",
        "\n",
        "*Features X1 and X2 have weak correlation with output.\n",
        "\n",
        "So we will try at first to train model with feature from X3 to X6\n",
        "\n",
        "*Not all featurs can be fitted with linear regression. \n",
        "\n",
        "So we will try to increase model complexity by increasing degree (Polynomial regression)"
      ],
      "metadata": {
        "id": "sbMKnNoLjX7C"
      }
    },
    {
      "cell_type": "markdown",
      "source": [
        "## ----------------------------------------------------------------------------------------------------------------------------------------------------------------"
      ],
      "metadata": {
        "id": "xkOtF0HAmzwI"
      }
    },
    {
      "cell_type": "markdown",
      "source": [
        "## Machine Learning "
      ],
      "metadata": {
        "id": "SWJoHYHWrATb"
      }
    },
    {
      "cell_type": "code",
      "source": [
        "# split into training and testing sets (Including Features from X3 to X6)\n",
        "x=df[['X3 distance to the nearest MRT station','X4 number of convenience stores','X5 latitude','X6 longitude']].values\n",
        "y=df['Y house price of unit area'].values\n",
        "x_train, x_test, y_train, y_test = train_test_split(x, y, random_state=1)"
      ],
      "metadata": {
        "id": "B_eo9vkYlmuB"
      },
      "execution_count": null,
      "outputs": []
    },
    {
      "cell_type": "code",
      "source": [
        "# Multi variable linear regression\n",
        "model_multi = linear_model.LinearRegression()\n",
        "\n",
        "model_multi.fit(x_train,y_train)\n",
        "\n",
        "model_multi.predict([[2000,4,24.96,121.50]])"
      ],
      "metadata": {
        "colab": {
          "base_uri": "https://localhost:8080/"
        },
        "id": "mFi37fETlmma",
        "outputId": "d98bc195-368c-4b29-d572-dac92bec6473"
      },
      "execution_count": null,
      "outputs": [
        {
          "output_type": "execute_result",
          "data": {
            "text/plain": [
              "array([32.69617084])"
            ]
          },
          "metadata": {},
          "execution_count": 21
        }
      ]
    },
    {
      "cell_type": "code",
      "source": [
        "print(\"A0 = \",model_multi.intercept_)\n",
        "print(\"A1 = \",model_multi.coef_)"
      ],
      "metadata": {
        "colab": {
          "base_uri": "https://localhost:8080/"
        },
        "id": "yi2L7DAzlmk0",
        "outputId": "193b2b03-c28a-4399-b746-b0a13cff4186"
      },
      "execution_count": null,
      "outputs": [
        {
          "output_type": "stream",
          "name": "stdout",
          "text": [
            "A0 =  -1774.7617347768391\n",
            "A1 =  [-4.81169886e-03  1.08534608e+00  1.97863376e+02 -2.57278184e+01]\n"
          ]
        }
      ]
    },
    {
      "cell_type": "code",
      "source": [
        "# Get Bias and Variance - bias_variance_decomp function\n",
        "avg_expected_loss, avg_bias, avg_var = bias_variance_decomp(model_multi, x_train, y_train, x_test, y_test, loss='mse', num_rounds=4, random_seed=43)\n",
        "# Display Bias and Variance\n",
        "print(f'Average Expected Loss: {round(avg_expected_loss, 4)}')\n",
        "print(f'Average Bias: {round(avg_bias, 4)}')\n",
        "print(f'Average Variance: {round(avg_var, 4)}')"
      ],
      "metadata": {
        "colab": {
          "base_uri": "https://localhost:8080/"
        },
        "id": "v__Hpm6osm5J",
        "outputId": "b83c2d46-7d00-40c0-8a21-ab863141f0b1"
      },
      "execution_count": null,
      "outputs": [
        {
          "output_type": "stream",
          "name": "stdout",
          "text": [
            "Average Expected Loss: 71.406\n",
            "Average Bias: 69.9926\n",
            "Average Variance: 1.4134\n"
          ]
        }
      ]
    },
    {
      "cell_type": "code",
      "source": [
        "# Evaluating Model by calculating Errors\n",
        "y_pred = model_multi.predict(x_test)\n",
        "\n",
        "MSE = mean_squared_error(y_test,y_pred)\n",
        "print('mean_squared_error',MSE)\n",
        "\n",
        "RMSE = np.sqrt(MSE)\n",
        "print('Root_mean_squared_error',RMSE)\n",
        "\n",
        "r_score = r2_score(y_test,y_pred)\n",
        "print('r_score',r_score)\n",
        "\n",
        "MAE= mean_absolute_error(y_test,y_pred)\n",
        "\n",
        "print('mean_absolute_error',MAE)"
      ],
      "metadata": {
        "colab": {
          "base_uri": "https://localhost:8080/"
        },
        "id": "eT2n2WTqsQM4",
        "outputId": "047900a3-9b25-43e0-983e-f410fb542dff"
      },
      "execution_count": null,
      "outputs": [
        {
          "output_type": "stream",
          "name": "stdout",
          "text": [
            "mean_squared_error 71.4985593822627\n",
            "Root_mean_squared_error 8.455682076702193\n",
            "r_score 0.5950669529918162\n",
            "mean_absolute_error 6.585181945259655\n"
          ]
        }
      ]
    },
    {
      "cell_type": "code",
      "source": [
        "# Increasing degree to obtain better results (degree 3)\n",
        "poly_reg = PolynomialFeatures(degree=3)\n",
        "x_poly = poly_reg.fit_transform(x)\n",
        "\n",
        "x_train2, x_test2, y_train2, y_test2 = train_test_split(x_poly, y, random_state=1)\n",
        "\n",
        "new_model = linear_model.LinearRegression()\n",
        "new_model.fit(x_train2,y_train2)\n",
        "\n",
        "print(\"A0 = \",new_model.intercept_)\n",
        "\n",
        "# Get Bias and Variance - bias_variance_decomp function\n",
        "avg_expected_loss, avg_bias, avg_var = bias_variance_decomp(new_model, x_train2, y_train2, x_test2, y_test2, loss='mse', num_rounds=4, random_seed=43)\n",
        "# Display Bias and Variance\n",
        "print(f'Average Expected Loss: {round(avg_expected_loss, 4)}')\n",
        "print(f'Average Bias: {round(avg_bias, 4)}')\n",
        "print(f'Average Variance: {round(avg_var, 4)}')\n",
        "\n",
        "# Evaluating Model by calculating Errors\n",
        "y_pred = new_model.predict(x_test2)\n",
        "MSE = mean_squared_error(y_test2,y_pred)\n",
        "print('mean_squared_error',MSE)\n",
        "RMSE = np.sqrt(MSE)\n",
        "print('Root_mean_squared_error',RMSE)\n",
        "r_score = r2_score(y_test2,y_pred)\n",
        "print('r_score',r_score)\n",
        "MAE= mean_absolute_error(y_test2,y_pred)\n",
        "print('mean_absolute_error',MAE)"
      ],
      "metadata": {
        "colab": {
          "base_uri": "https://localhost:8080/"
        },
        "id": "KjpdJu5ble8E",
        "outputId": "a685f77a-289e-433c-fc9c-2500c1fbb27b"
      },
      "execution_count": null,
      "outputs": [
        {
          "output_type": "stream",
          "name": "stdout",
          "text": [
            "A0 =  100867573.33109745\n",
            "Average Expected Loss: 225.0055\n",
            "Average Bias: 98.3083\n",
            "Average Variance: 126.6971\n",
            "mean_squared_error 54.58251974517834\n",
            "Root_mean_squared_error 7.387998358498622\n",
            "r_score 0.690871169646496\n",
            "mean_absolute_error 5.822350836910595\n"
          ]
        }
      ]
    },
    {
      "cell_type": "code",
      "source": [
        "# Changing degree to obtain better results (degree 2)\n",
        "poly_reg = PolynomialFeatures(degree=2)\n",
        "x_poly = poly_reg.fit_transform(x)\n",
        "\n",
        "x_train2, x_test2, y_train2, y_test2 = train_test_split(x_poly, y, random_state=1)\n",
        "\n",
        "new_model = linear_model.LinearRegression()\n",
        "new_model.fit(x_train2,y_train2)\n",
        "\n",
        "print(\"A0 = \",new_model.intercept_)\n",
        "\n",
        "# Get Bias and Variance - bias_variance_decomp function\n",
        "avg_expected_loss, avg_bias, avg_var = bias_variance_decomp(new_model, x_train2, y_train2, x_test2, y_test2, loss='mse', num_rounds=4, random_seed=43)\n",
        "# Display Bias and Variance\n",
        "print(f'Average Expected Loss: {round(avg_expected_loss, 4)}')\n",
        "print(f'Average Bias: {round(avg_bias, 4)}')\n",
        "print(f'Average Variance: {round(avg_var, 4)}')\n",
        "\n",
        "# Evaluating Model by calculating Errors\n",
        "y_pred = new_model.predict(x_test2)\n",
        "MSE = mean_squared_error(y_test2,y_pred)\n",
        "print('mean_squared_error',MSE)\n",
        "RMSE = np.sqrt(MSE)\n",
        "print('Root_mean_squared_error',RMSE)\n",
        "r_score = r2_score(y_test2,y_pred)\n",
        "print('r_score',r_score)\n",
        "MAE= mean_absolute_error(y_test2,y_pred)\n",
        "print('mean_absolute_error',MAE)\n",
        "\n",
        "#Second degree gives the best results for model bias and variance"
      ],
      "metadata": {
        "colab": {
          "base_uri": "https://localhost:8080/"
        },
        "id": "5PF7BoUXlGM8",
        "outputId": "4ba516c6-f1ed-44e0-f35f-69d55932672e"
      },
      "execution_count": null,
      "outputs": [
        {
          "output_type": "stream",
          "name": "stdout",
          "text": [
            "A0 =  313355404.48416215\n",
            "Average Expected Loss: 65.2023\n",
            "Average Bias: 61.0865\n",
            "Average Variance: 4.1158\n",
            "mean_squared_error 58.54511078564056\n",
            "Root_mean_squared_error 7.651477686410682\n",
            "r_score 0.6684289823083863\n",
            "mean_absolute_error 6.058733557050045\n"
          ]
        }
      ]
    },
    {
      "cell_type": "code",
      "source": [
        "# Trying to include rest of features to obtain better results\n",
        "x3=df[['X1 transaction date','X2 house age','X3 distance to the nearest MRT station','X4 number of convenience stores','X5 latitude','X6 longitude']].values\n",
        "y3=df['Y house price of unit area'].values\n",
        "\n",
        "poly_reg = PolynomialFeatures(degree=2)\n",
        "x_poly = poly_reg.fit_transform(x3)\n",
        "\n",
        "x_train3, x_test3, y_train3, y_test3 = train_test_split(x_poly, y3, random_state=1)\n",
        "\n",
        "new_model = linear_model.LinearRegression()\n",
        "new_model.fit(x_train3,y_train3)\n",
        "\n",
        "print(\"A0 = \",new_model.intercept_)\n",
        "\n",
        "# Get Bias and Variance - bias_variance_decomp function\n",
        "avg_expected_loss, avg_bias, avg_var = bias_variance_decomp(new_model, x_train3, y_train3, x_test3, y_test3, loss='mse', num_rounds=4, random_seed=43)\n",
        "# Display Bias and Variance\n",
        "print(f'Average Expected Loss: {round(avg_expected_loss, 4)}')\n",
        "print(f'Average Bias: {round(avg_bias, 4)}')\n",
        "print(f'Average Variance: {round(avg_var, 4)}')\n",
        "\n",
        "y_pred = new_model.predict(x_test3)\n",
        "MSE = mean_squared_error(y_test3,y_pred)\n",
        "print('mean_squared_error',MSE)\n",
        "RMSE = np.sqrt(MSE)\n",
        "print('Root_mean_squared_error',RMSE)\n",
        "r_score = r2_score(y_test3,y_pred)\n",
        "print('r_score',r_score)\n",
        "MAE= mean_absolute_error(y_test3,y_pred)\n",
        "print('mean_absolute_error',MAE)\n",
        "\n",
        "# The best result obtained at second degree and all features included \n",
        "# Average Bias: 39.4999 , Average Variance: 5.1353"
      ],
      "metadata": {
        "colab": {
          "base_uri": "https://localhost:8080/"
        },
        "id": "VRh7_I4dq0Ai",
        "outputId": "088019c8-85f4-44f0-a378-cb9f32455cb2"
      },
      "execution_count": null,
      "outputs": [
        {
          "output_type": "stream",
          "name": "stdout",
          "text": [
            "A0 =  62177029.988614775\n",
            "Average Expected Loss: 44.6352\n",
            "Average Bias: 39.4999\n",
            "Average Variance: 5.1353\n",
            "mean_squared_error 39.31094425629494\n",
            "Root_mean_squared_error 6.269844037637215\n",
            "r_score 0.777361941611101\n",
            "mean_absolute_error 4.9361182248076565\n"
          ]
        }
      ]
    },
    {
      "cell_type": "markdown",
      "source": [
        "## Conclusion\n",
        "*The best results were obtained after including all features.\n",
        "\n",
        "*As observed from EDA not all features were fitted through linear regression so second degree polynomial regression was used.\n",
        "\n",
        "*Best Obtained Model Score:\n",
        "\n",
        "Average Expected Loss: 44.6352\n",
        "\n",
        "Average Bias: 39.4999\n",
        "\n",
        "Average Variance: 5.1353\n",
        "\n",
        "mean_squared_error 39.31094425629494\n",
        "\n",
        "Root_mean_squared_error 6.269844037637215\n",
        "\n",
        "r_score 0.777361941611101\n",
        "\n",
        "mean_absolute_error 4.9361182248076565\n"
      ],
      "metadata": {
        "id": "zPg9X9oRlwv8"
      }
    },
    {
      "cell_type": "markdown",
      "source": [
        "## ----------------------------------------------------------------------------------------------------------------------------------------------------------------"
      ],
      "metadata": {
        "id": "FwBfyzg3m1aw"
      }
    }
  ]
}