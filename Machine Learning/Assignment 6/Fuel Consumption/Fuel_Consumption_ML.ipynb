{
  "nbformat": 4,
  "nbformat_minor": 0,
  "metadata": {
    "colab": {
      "name": "Fuel Consumption ML.ipynb",
      "provenance": [],
      "collapsed_sections": []
    },
    "kernelspec": {
      "name": "python3",
      "display_name": "Python 3"
    },
    "language_info": {
      "name": "python"
    }
  },
  "cells": [
    {
      "cell_type": "markdown",
      "source": [
        "# Fuel Cosumption Dataset"
      ],
      "metadata": {
        "id": "zhyS88uHglFZ"
      }
    },
    {
      "cell_type": "code",
      "source": [
        "import pandas as pd\n",
        "import numpy as np\n",
        "import matplotlib.pyplot as plt\n",
        "import seaborn as sns\n",
        "%matplotlib inline\n",
        "\n",
        "from sklearn import linear_model\n",
        "from sklearn.model_selection import train_test_split\n",
        "from sklearn.metrics import mean_squared_error, r2_score, mean_absolute_error\n",
        "from sklearn.preprocessing import PolynomialFeatures\n",
        "from sklearn.preprocessing import LabelEncoder\n",
        "\n",
        "!pip install mlxtend --upgrade\n",
        "from mlxtend.evaluate import bias_variance_decomp"
      ],
      "metadata": {
        "id": "CNDquLQfzi-R",
        "colab": {
          "base_uri": "https://localhost:8080/"
        },
        "outputId": "029d6cb7-55ee-4c9a-a16f-4583ff189794"
      },
      "execution_count": 1,
      "outputs": [
        {
          "output_type": "stream",
          "name": "stdout",
          "text": [
            "Looking in indexes: https://pypi.org/simple, https://us-python.pkg.dev/colab-wheels/public/simple/\n",
            "Requirement already satisfied: mlxtend in /usr/local/lib/python3.7/dist-packages (0.14.0)\n",
            "Collecting mlxtend\n",
            "  Downloading mlxtend-0.20.0-py2.py3-none-any.whl (1.3 MB)\n",
            "\u001b[K     |████████████████████████████████| 1.3 MB 5.3 MB/s \n",
            "\u001b[?25hRequirement already satisfied: scikit-learn>=1.0.2 in /usr/local/lib/python3.7/dist-packages (from mlxtend) (1.0.2)\n",
            "Requirement already satisfied: numpy>=1.16.2 in /usr/local/lib/python3.7/dist-packages (from mlxtend) (1.21.6)\n",
            "Requirement already satisfied: pandas>=0.24.2 in /usr/local/lib/python3.7/dist-packages (from mlxtend) (1.3.5)\n",
            "Requirement already satisfied: matplotlib>=3.0.0 in /usr/local/lib/python3.7/dist-packages (from mlxtend) (3.2.2)\n",
            "Requirement already satisfied: joblib>=0.13.2 in /usr/local/lib/python3.7/dist-packages (from mlxtend) (1.1.0)\n",
            "Requirement already satisfied: scipy>=1.2.1 in /usr/local/lib/python3.7/dist-packages (from mlxtend) (1.7.3)\n",
            "Requirement already satisfied: setuptools in /usr/local/lib/python3.7/dist-packages (from mlxtend) (57.4.0)\n",
            "Requirement already satisfied: python-dateutil>=2.1 in /usr/local/lib/python3.7/dist-packages (from matplotlib>=3.0.0->mlxtend) (2.8.2)\n",
            "Requirement already satisfied: pyparsing!=2.0.4,!=2.1.2,!=2.1.6,>=2.0.1 in /usr/local/lib/python3.7/dist-packages (from matplotlib>=3.0.0->mlxtend) (3.0.9)\n",
            "Requirement already satisfied: cycler>=0.10 in /usr/local/lib/python3.7/dist-packages (from matplotlib>=3.0.0->mlxtend) (0.11.0)\n",
            "Requirement already satisfied: kiwisolver>=1.0.1 in /usr/local/lib/python3.7/dist-packages (from matplotlib>=3.0.0->mlxtend) (1.4.4)\n",
            "Requirement already satisfied: typing-extensions in /usr/local/lib/python3.7/dist-packages (from kiwisolver>=1.0.1->matplotlib>=3.0.0->mlxtend) (4.1.1)\n",
            "Requirement already satisfied: pytz>=2017.3 in /usr/local/lib/python3.7/dist-packages (from pandas>=0.24.2->mlxtend) (2022.2.1)\n",
            "Requirement already satisfied: six>=1.5 in /usr/local/lib/python3.7/dist-packages (from python-dateutil>=2.1->matplotlib>=3.0.0->mlxtend) (1.15.0)\n",
            "Requirement already satisfied: threadpoolctl>=2.0.0 in /usr/local/lib/python3.7/dist-packages (from scikit-learn>=1.0.2->mlxtend) (3.1.0)\n",
            "Installing collected packages: mlxtend\n",
            "  Attempting uninstall: mlxtend\n",
            "    Found existing installation: mlxtend 0.14.0\n",
            "    Uninstalling mlxtend-0.14.0:\n",
            "      Successfully uninstalled mlxtend-0.14.0\n",
            "Successfully installed mlxtend-0.20.0\n"
          ]
        }
      ]
    },
    {
      "cell_type": "markdown",
      "source": [
        "## A) Dataset Information"
      ],
      "metadata": {
        "id": "o07Js1g_gnGi"
      }
    },
    {
      "cell_type": "code",
      "source": [
        "df = pd.read_csv('FuelConsumptionCo2.csv')\n",
        "df.head()"
      ],
      "metadata": {
        "colab": {
          "base_uri": "https://localhost:8080/",
          "height": 270
        },
        "id": "eW4hBW8vbVqR",
        "outputId": "10dde596-5ba2-4a7c-94e9-fe4c7babb4b3"
      },
      "execution_count": 2,
      "outputs": [
        {
          "output_type": "execute_result",
          "data": {
            "text/plain": [
              "   MODELYEAR Brands VEHICLECLASS  ENGINESIZE  CYLINDERS TRANSMISSION FUELTYPE  \\\n",
              "0       2014  ACURA      COMPACT         2.0          4          AS5        Z   \n",
              "1       2014  ACURA      COMPACT         2.4          4           M6        Z   \n",
              "2       2014  ACURA      COMPACT         1.5          4          AV7        Z   \n",
              "3       2014  ACURA    SUV_SMALL         3.5          6          AS6        Z   \n",
              "4       2014  ACURA    SUV_SMALL         3.5          6          AS6        Z   \n",
              "\n",
              "   FUELCONSUMPTION_CITY  FUELCONSUMPTION_HWY  FUELCONSUMPTION_COMB  \\\n",
              "0                   9.9                  6.7                   8.5   \n",
              "1                  11.2                  7.7                   9.6   \n",
              "2                   6.0                  5.8                   5.9   \n",
              "3                  12.7                  9.1                  11.1   \n",
              "4                  12.1                  8.7                  10.6   \n",
              "\n",
              "   FUELCONSUMPTION_COMB_MPG  CO2EMISSIONS  \n",
              "0                        33           196  \n",
              "1                        29           221  \n",
              "2                        48           136  \n",
              "3                        25           255  \n",
              "4                        27           244  "
            ],
            "text/html": [
              "\n",
              "  <div id=\"df-32d82770-a243-4b68-a037-ccb8ee9e3081\">\n",
              "    <div class=\"colab-df-container\">\n",
              "      <div>\n",
              "<style scoped>\n",
              "    .dataframe tbody tr th:only-of-type {\n",
              "        vertical-align: middle;\n",
              "    }\n",
              "\n",
              "    .dataframe tbody tr th {\n",
              "        vertical-align: top;\n",
              "    }\n",
              "\n",
              "    .dataframe thead th {\n",
              "        text-align: right;\n",
              "    }\n",
              "</style>\n",
              "<table border=\"1\" class=\"dataframe\">\n",
              "  <thead>\n",
              "    <tr style=\"text-align: right;\">\n",
              "      <th></th>\n",
              "      <th>MODELYEAR</th>\n",
              "      <th>Brands</th>\n",
              "      <th>VEHICLECLASS</th>\n",
              "      <th>ENGINESIZE</th>\n",
              "      <th>CYLINDERS</th>\n",
              "      <th>TRANSMISSION</th>\n",
              "      <th>FUELTYPE</th>\n",
              "      <th>FUELCONSUMPTION_CITY</th>\n",
              "      <th>FUELCONSUMPTION_HWY</th>\n",
              "      <th>FUELCONSUMPTION_COMB</th>\n",
              "      <th>FUELCONSUMPTION_COMB_MPG</th>\n",
              "      <th>CO2EMISSIONS</th>\n",
              "    </tr>\n",
              "  </thead>\n",
              "  <tbody>\n",
              "    <tr>\n",
              "      <th>0</th>\n",
              "      <td>2014</td>\n",
              "      <td>ACURA</td>\n",
              "      <td>COMPACT</td>\n",
              "      <td>2.0</td>\n",
              "      <td>4</td>\n",
              "      <td>AS5</td>\n",
              "      <td>Z</td>\n",
              "      <td>9.9</td>\n",
              "      <td>6.7</td>\n",
              "      <td>8.5</td>\n",
              "      <td>33</td>\n",
              "      <td>196</td>\n",
              "    </tr>\n",
              "    <tr>\n",
              "      <th>1</th>\n",
              "      <td>2014</td>\n",
              "      <td>ACURA</td>\n",
              "      <td>COMPACT</td>\n",
              "      <td>2.4</td>\n",
              "      <td>4</td>\n",
              "      <td>M6</td>\n",
              "      <td>Z</td>\n",
              "      <td>11.2</td>\n",
              "      <td>7.7</td>\n",
              "      <td>9.6</td>\n",
              "      <td>29</td>\n",
              "      <td>221</td>\n",
              "    </tr>\n",
              "    <tr>\n",
              "      <th>2</th>\n",
              "      <td>2014</td>\n",
              "      <td>ACURA</td>\n",
              "      <td>COMPACT</td>\n",
              "      <td>1.5</td>\n",
              "      <td>4</td>\n",
              "      <td>AV7</td>\n",
              "      <td>Z</td>\n",
              "      <td>6.0</td>\n",
              "      <td>5.8</td>\n",
              "      <td>5.9</td>\n",
              "      <td>48</td>\n",
              "      <td>136</td>\n",
              "    </tr>\n",
              "    <tr>\n",
              "      <th>3</th>\n",
              "      <td>2014</td>\n",
              "      <td>ACURA</td>\n",
              "      <td>SUV_SMALL</td>\n",
              "      <td>3.5</td>\n",
              "      <td>6</td>\n",
              "      <td>AS6</td>\n",
              "      <td>Z</td>\n",
              "      <td>12.7</td>\n",
              "      <td>9.1</td>\n",
              "      <td>11.1</td>\n",
              "      <td>25</td>\n",
              "      <td>255</td>\n",
              "    </tr>\n",
              "    <tr>\n",
              "      <th>4</th>\n",
              "      <td>2014</td>\n",
              "      <td>ACURA</td>\n",
              "      <td>SUV_SMALL</td>\n",
              "      <td>3.5</td>\n",
              "      <td>6</td>\n",
              "      <td>AS6</td>\n",
              "      <td>Z</td>\n",
              "      <td>12.1</td>\n",
              "      <td>8.7</td>\n",
              "      <td>10.6</td>\n",
              "      <td>27</td>\n",
              "      <td>244</td>\n",
              "    </tr>\n",
              "  </tbody>\n",
              "</table>\n",
              "</div>\n",
              "      <button class=\"colab-df-convert\" onclick=\"convertToInteractive('df-32d82770-a243-4b68-a037-ccb8ee9e3081')\"\n",
              "              title=\"Convert this dataframe to an interactive table.\"\n",
              "              style=\"display:none;\">\n",
              "        \n",
              "  <svg xmlns=\"http://www.w3.org/2000/svg\" height=\"24px\"viewBox=\"0 0 24 24\"\n",
              "       width=\"24px\">\n",
              "    <path d=\"M0 0h24v24H0V0z\" fill=\"none\"/>\n",
              "    <path d=\"M18.56 5.44l.94 2.06.94-2.06 2.06-.94-2.06-.94-.94-2.06-.94 2.06-2.06.94zm-11 1L8.5 8.5l.94-2.06 2.06-.94-2.06-.94L8.5 2.5l-.94 2.06-2.06.94zm10 10l.94 2.06.94-2.06 2.06-.94-2.06-.94-.94-2.06-.94 2.06-2.06.94z\"/><path d=\"M17.41 7.96l-1.37-1.37c-.4-.4-.92-.59-1.43-.59-.52 0-1.04.2-1.43.59L10.3 9.45l-7.72 7.72c-.78.78-.78 2.05 0 2.83L4 21.41c.39.39.9.59 1.41.59.51 0 1.02-.2 1.41-.59l7.78-7.78 2.81-2.81c.8-.78.8-2.07 0-2.86zM5.41 20L4 18.59l7.72-7.72 1.47 1.35L5.41 20z\"/>\n",
              "  </svg>\n",
              "      </button>\n",
              "      \n",
              "  <style>\n",
              "    .colab-df-container {\n",
              "      display:flex;\n",
              "      flex-wrap:wrap;\n",
              "      gap: 12px;\n",
              "    }\n",
              "\n",
              "    .colab-df-convert {\n",
              "      background-color: #E8F0FE;\n",
              "      border: none;\n",
              "      border-radius: 50%;\n",
              "      cursor: pointer;\n",
              "      display: none;\n",
              "      fill: #1967D2;\n",
              "      height: 32px;\n",
              "      padding: 0 0 0 0;\n",
              "      width: 32px;\n",
              "    }\n",
              "\n",
              "    .colab-df-convert:hover {\n",
              "      background-color: #E2EBFA;\n",
              "      box-shadow: 0px 1px 2px rgba(60, 64, 67, 0.3), 0px 1px 3px 1px rgba(60, 64, 67, 0.15);\n",
              "      fill: #174EA6;\n",
              "    }\n",
              "\n",
              "    [theme=dark] .colab-df-convert {\n",
              "      background-color: #3B4455;\n",
              "      fill: #D2E3FC;\n",
              "    }\n",
              "\n",
              "    [theme=dark] .colab-df-convert:hover {\n",
              "      background-color: #434B5C;\n",
              "      box-shadow: 0px 1px 3px 1px rgba(0, 0, 0, 0.15);\n",
              "      filter: drop-shadow(0px 1px 2px rgba(0, 0, 0, 0.3));\n",
              "      fill: #FFFFFF;\n",
              "    }\n",
              "  </style>\n",
              "\n",
              "      <script>\n",
              "        const buttonEl =\n",
              "          document.querySelector('#df-32d82770-a243-4b68-a037-ccb8ee9e3081 button.colab-df-convert');\n",
              "        buttonEl.style.display =\n",
              "          google.colab.kernel.accessAllowed ? 'block' : 'none';\n",
              "\n",
              "        async function convertToInteractive(key) {\n",
              "          const element = document.querySelector('#df-32d82770-a243-4b68-a037-ccb8ee9e3081');\n",
              "          const dataTable =\n",
              "            await google.colab.kernel.invokeFunction('convertToInteractive',\n",
              "                                                     [key], {});\n",
              "          if (!dataTable) return;\n",
              "\n",
              "          const docLinkHtml = 'Like what you see? Visit the ' +\n",
              "            '<a target=\"_blank\" href=https://colab.research.google.com/notebooks/data_table.ipynb>data table notebook</a>'\n",
              "            + ' to learn more about interactive tables.';\n",
              "          element.innerHTML = '';\n",
              "          dataTable['output_type'] = 'display_data';\n",
              "          await google.colab.output.renderOutput(dataTable, element);\n",
              "          const docLink = document.createElement('div');\n",
              "          docLink.innerHTML = docLinkHtml;\n",
              "          element.appendChild(docLink);\n",
              "        }\n",
              "      </script>\n",
              "    </div>\n",
              "  </div>\n",
              "  "
            ]
          },
          "metadata": {},
          "execution_count": 2
        }
      ]
    },
    {
      "cell_type": "code",
      "source": [
        "df.info()"
      ],
      "metadata": {
        "colab": {
          "base_uri": "https://localhost:8080/"
        },
        "id": "oPNHZI-QeAqB",
        "outputId": "6b96982d-9ba5-4c6c-be3d-8798e5e0f0c2"
      },
      "execution_count": 3,
      "outputs": [
        {
          "output_type": "stream",
          "name": "stdout",
          "text": [
            "<class 'pandas.core.frame.DataFrame'>\n",
            "RangeIndex: 1067 entries, 0 to 1066\n",
            "Data columns (total 12 columns):\n",
            " #   Column                    Non-Null Count  Dtype  \n",
            "---  ------                    --------------  -----  \n",
            " 0   MODELYEAR                 1067 non-null   int64  \n",
            " 1   Brands                    1067 non-null   object \n",
            " 2   VEHICLECLASS              1067 non-null   object \n",
            " 3   ENGINESIZE                1067 non-null   float64\n",
            " 4   CYLINDERS                 1067 non-null   int64  \n",
            " 5   TRANSMISSION              1067 non-null   object \n",
            " 6   FUELTYPE                  1067 non-null   object \n",
            " 7   FUELCONSUMPTION_CITY      1067 non-null   float64\n",
            " 8   FUELCONSUMPTION_HWY       1067 non-null   float64\n",
            " 9   FUELCONSUMPTION_COMB      1067 non-null   float64\n",
            " 10  FUELCONSUMPTION_COMB_MPG  1067 non-null   int64  \n",
            " 11  CO2EMISSIONS              1067 non-null   int64  \n",
            "dtypes: float64(4), int64(4), object(4)\n",
            "memory usage: 100.2+ KB\n"
          ]
        }
      ]
    },
    {
      "cell_type": "code",
      "source": [
        "df.isna().sum()"
      ],
      "metadata": {
        "colab": {
          "base_uri": "https://localhost:8080/"
        },
        "id": "gTS051jbeAoP",
        "outputId": "4eaed577-0f51-4a48-b26e-1320da1de977"
      },
      "execution_count": 4,
      "outputs": [
        {
          "output_type": "execute_result",
          "data": {
            "text/plain": [
              "MODELYEAR                   0\n",
              "Brands                      0\n",
              "VEHICLECLASS                0\n",
              "ENGINESIZE                  0\n",
              "CYLINDERS                   0\n",
              "TRANSMISSION                0\n",
              "FUELTYPE                    0\n",
              "FUELCONSUMPTION_CITY        0\n",
              "FUELCONSUMPTION_HWY         0\n",
              "FUELCONSUMPTION_COMB        0\n",
              "FUELCONSUMPTION_COMB_MPG    0\n",
              "CO2EMISSIONS                0\n",
              "dtype: int64"
            ]
          },
          "metadata": {},
          "execution_count": 4
        }
      ]
    },
    {
      "cell_type": "code",
      "source": [
        "df.duplicated().sum()"
      ],
      "metadata": {
        "colab": {
          "base_uri": "https://localhost:8080/"
        },
        "id": "RlALM-gOeAk9",
        "outputId": "74415b9d-4eed-45c3-bcbd-116a12c1deed"
      },
      "execution_count": 5,
      "outputs": [
        {
          "output_type": "execute_result",
          "data": {
            "text/plain": [
              "115"
            ]
          },
          "metadata": {},
          "execution_count": 5
        }
      ]
    },
    {
      "cell_type": "code",
      "source": [
        "df.drop_duplicates(inplace=True)\n",
        "df.duplicated().sum()"
      ],
      "metadata": {
        "colab": {
          "base_uri": "https://localhost:8080/"
        },
        "id": "zjg8XVPyeAjL",
        "outputId": "d646ca50-a8a2-41fa-d45e-91de0fc6c64e"
      },
      "execution_count": 6,
      "outputs": [
        {
          "output_type": "execute_result",
          "data": {
            "text/plain": [
              "0"
            ]
          },
          "metadata": {},
          "execution_count": 6
        }
      ]
    },
    {
      "cell_type": "code",
      "source": [
        "df.shape"
      ],
      "metadata": {
        "colab": {
          "base_uri": "https://localhost:8080/"
        },
        "id": "Qljo39yDfEam",
        "outputId": "dcd73ec7-90a9-4af2-e63f-c98d53941241"
      },
      "execution_count": 7,
      "outputs": [
        {
          "output_type": "execute_result",
          "data": {
            "text/plain": [
              "(952, 12)"
            ]
          },
          "metadata": {},
          "execution_count": 7
        }
      ]
    },
    {
      "cell_type": "markdown",
      "source": [
        "## Comments\n",
        "*The dataset consisits of 12 columns and 952 rows.\n",
        "\n",
        "*The are no NaN objects.\n",
        "\n",
        "*There are 115 duplicated items (Removed)\n",
        "\n",
        "*Numerical Columns:\n",
        "\n",
        "MODELYEAR - ENINESIZE - CYLINDERS - FUELCONSUMPTION_CITY - FUELCONSUMPTION_HWY - FUELCONSUMPTION_COMB - FUELCONSUMPTION_COMB_MPG - CO2EMISSIONS\n",
        "\n",
        "*Non-Numerical Columns:\n",
        "\n",
        "Brands - VEHICLECLASS - TRANSMISSION - FUELTYPE"
      ],
      "metadata": {
        "id": "Grfh_By8guBF"
      }
    },
    {
      "cell_type": "markdown",
      "source": [
        "## ----------------------------------------------------------------------------------------------------------------------------------------------------------------"
      ],
      "metadata": {
        "id": "1kN9hNf5gt0k"
      }
    },
    {
      "cell_type": "markdown",
      "source": [
        "## B) Data Visualization"
      ],
      "metadata": {
        "id": "j4Wt_z12h-j3"
      }
    },
    {
      "cell_type": "code",
      "source": [
        "# detecting the outliers\n",
        "fig, axes = plt.subplots(1, 2)\n",
        "fig.set_size_inches(15,5)\n",
        "\n",
        "sns.boxplot(x='CO2EMISSIONS', data=df, color='blue',ax=axes[0]).set(title='Outliers: CO2 Emissions')\n",
        "sns.boxplot(x='ENGINESIZE', data=df, color='red',ax=axes[1]).set(title='Outliers: Engine Size')"
      ],
      "metadata": {
        "colab": {
          "base_uri": "https://localhost:8080/",
          "height": 368
        },
        "id": "klXZbgVIfEVF",
        "outputId": "d4fd471a-6186-406c-d80a-2638b92ce998"
      },
      "execution_count": 8,
      "outputs": [
        {
          "output_type": "execute_result",
          "data": {
            "text/plain": [
              "[Text(0.5, 1.0, 'Outliers: Engine Size')]"
            ]
          },
          "metadata": {},
          "execution_count": 8
        },
        {
          "output_type": "display_data",
          "data": {
            "text/plain": [
              "<Figure size 1080x360 with 2 Axes>"
            ],
            "image/png": "[encoded data removed]"
          },
          "metadata": {
            "needs_background": "light"
          }
        }
      ]
    },
    {
      "cell_type": "code",
      "source": [
        "#High CO2 Emissions\n",
        "df[df['CO2EMISSIONS']>450]"
      ],
      "metadata": {
        "colab": {
          "base_uri": "https://localhost:8080/",
          "height": 145
        },
        "id": "9bjjopdNfEPi",
        "outputId": "b07fd5ad-f280-4dac-b2a5-c3616d2436f7"
      },
      "execution_count": 9,
      "outputs": [
        {
          "output_type": "execute_result",
          "data": {
            "text/plain": [
              "     MODELYEAR Brands   VEHICLECLASS  ENGINESIZE  CYLINDERS TRANSMISSION  \\\n",
              "349       2014   FORD  VAN_PASSENGER         6.8         10           A5   \n",
              "\n",
              "    FUELTYPE  FUELCONSUMPTION_CITY  FUELCONSUMPTION_HWY  FUELCONSUMPTION_COMB  \\\n",
              "349        X                  23.9                 17.8                  21.2   \n",
              "\n",
              "     FUELCONSUMPTION_COMB_MPG  CO2EMISSIONS  \n",
              "349                        13           488  "
            ],
            "text/html": [
              "\n",
              "  <div id=\"df-c09d3856-127d-472b-919b-93e701a2fe60\">\n",
              "    <div class=\"colab-df-container\">\n",
              "      <div>\n",
              "<style scoped>\n",
              "    .dataframe tbody tr th:only-of-type {\n",
              "        vertical-align: middle;\n",
              "    }\n",
              "\n",
              "    .dataframe tbody tr th {\n",
              "        vertical-align: top;\n",
              "    }\n",
              "\n",
              "    .dataframe thead th {\n",
              "        text-align: right;\n",
              "    }\n",
              "</style>\n",
              "<table border=\"1\" class=\"dataframe\">\n",
              "  <thead>\n",
              "    <tr style=\"text-align: right;\">\n",
              "      <th></th>\n",
              "      <th>MODELYEAR</th>\n",
              "      <th>Brands</th>\n",
              "      <th>VEHICLECLASS</th>\n",
              "      <th>ENGINESIZE</th>\n",
              "      <th>CYLINDERS</th>\n",
              "      <th>TRANSMISSION</th>\n",
              "      <th>FUELTYPE</th>\n",
              "      <th>FUELCONSUMPTION_CITY</th>\n",
              "      <th>FUELCONSUMPTION_HWY</th>\n",
              "      <th>FUELCONSUMPTION_COMB</th>\n",
              "      <th>FUELCONSUMPTION_COMB_MPG</th>\n",
              "      <th>CO2EMISSIONS</th>\n",
              "    </tr>\n",
              "  </thead>\n",
              "  <tbody>\n",
              "    <tr>\n",
              "      <th>349</th>\n",
              "      <td>2014</td>\n",
              "      <td>FORD</td>\n",
              "      <td>VAN_PASSENGER</td>\n",
              "      <td>6.8</td>\n",
              "      <td>10</td>\n",
              "      <td>A5</td>\n",
              "      <td>X</td>\n",
              "      <td>23.9</td>\n",
              "      <td>17.8</td>\n",
              "      <td>21.2</td>\n",
              "      <td>13</td>\n",
              "      <td>488</td>\n",
              "    </tr>\n",
              "  </tbody>\n",
              "</table>\n",
              "</div>\n",
              "      <button class=\"colab-df-convert\" onclick=\"convertToInteractive('df-c09d3856-127d-472b-919b-93e701a2fe60')\"\n",
              "              title=\"Convert this dataframe to an interactive table.\"\n",
              "              style=\"display:none;\">\n",
              "        \n",
              "  <svg xmlns=\"http://www.w3.org/2000/svg\" height=\"24px\"viewBox=\"0 0 24 24\"\n",
              "       width=\"24px\">\n",
              "    <path d=\"M0 0h24v24H0V0z\" fill=\"none\"/>\n",
              "    <path d=\"M18.56 5.44l.94 2.06.94-2.06 2.06-.94-2.06-.94-.94-2.06-.94 2.06-2.06.94zm-11 1L8.5 8.5l.94-2.06 2.06-.94-2.06-.94L8.5 2.5l-.94 2.06-2.06.94zm10 10l.94 2.06.94-2.06 2.06-.94-2.06-.94-.94-2.06-.94 2.06-2.06.94z\"/><path d=\"M17.41 7.96l-1.37-1.37c-.4-.4-.92-.59-1.43-.59-.52 0-1.04.2-1.43.59L10.3 9.45l-7.72 7.72c-.78.78-.78 2.05 0 2.83L4 21.41c.39.39.9.59 1.41.59.51 0 1.02-.2 1.41-.59l7.78-7.78 2.81-2.81c.8-.78.8-2.07 0-2.86zM5.41 20L4 18.59l7.72-7.72 1.47 1.35L5.41 20z\"/>\n",
              "  </svg>\n",
              "      </button>\n",
              "      \n",
              "  <style>\n",
              "    .colab-df-container {\n",
              "      display:flex;\n",
              "      flex-wrap:wrap;\n",
              "      gap: 12px;\n",
              "    }\n",
              "\n",
              "    .colab-df-convert {\n",
              "      background-color: #E8F0FE;\n",
              "      border: none;\n",
              "      border-radius: 50%;\n",
              "      cursor: pointer;\n",
              "      display: none;\n",
              "      fill: #1967D2;\n",
              "      height: 32px;\n",
              "      padding: 0 0 0 0;\n",
              "      width: 32px;\n",
              "    }\n",
              "\n",
              "    .colab-df-convert:hover {\n",
              "      background-color: #E2EBFA;\n",
              "      box-shadow: 0px 1px 2px rgba(60, 64, 67, 0.3), 0px 1px 3px 1px rgba(60, 64, 67, 0.15);\n",
              "      fill: #174EA6;\n",
              "    }\n",
              "\n",
              "    [theme=dark] .colab-df-convert {\n",
              "      background-color: #3B4455;\n",
              "      fill: #D2E3FC;\n",
              "    }\n",
              "\n",
              "    [theme=dark] .colab-df-convert:hover {\n",
              "      background-color: #434B5C;\n",
              "      box-shadow: 0px 1px 3px 1px rgba(0, 0, 0, 0.15);\n",
              "      filter: drop-shadow(0px 1px 2px rgba(0, 0, 0, 0.3));\n",
              "      fill: #FFFFFF;\n",
              "    }\n",
              "  </style>\n",
              "\n",
              "      <script>\n",
              "        const buttonEl =\n",
              "          document.querySelector('#df-c09d3856-127d-472b-919b-93e701a2fe60 button.colab-df-convert');\n",
              "        buttonEl.style.display =\n",
              "          google.colab.kernel.accessAllowed ? 'block' : 'none';\n",
              "\n",
              "        async function convertToInteractive(key) {\n",
              "          const element = document.querySelector('#df-c09d3856-127d-472b-919b-93e701a2fe60');\n",
              "          const dataTable =\n",
              "            await google.colab.kernel.invokeFunction('convertToInteractive',\n",
              "                                                     [key], {});\n",
              "          if (!dataTable) return;\n",
              "\n",
              "          const docLinkHtml = 'Like what you see? Visit the ' +\n",
              "            '<a target=\"_blank\" href=https://colab.research.google.com/notebooks/data_table.ipynb>data table notebook</a>'\n",
              "            + ' to learn more about interactive tables.';\n",
              "          element.innerHTML = '';\n",
              "          dataTable['output_type'] = 'display_data';\n",
              "          await google.colab.output.renderOutput(dataTable, element);\n",
              "          const docLink = document.createElement('div');\n",
              "          docLink.innerHTML = docLinkHtml;\n",
              "          element.appendChild(docLink);\n",
              "        }\n",
              "      </script>\n",
              "    </div>\n",
              "  </div>\n",
              "  "
            ]
          },
          "metadata": {},
          "execution_count": 9
        }
      ]
    },
    {
      "cell_type": "code",
      "source": [
        "#Large Engine Size\n",
        "df[df['ENGINESIZE']>7]"
      ],
      "metadata": {
        "colab": {
          "base_uri": "https://localhost:8080/",
          "height": 145
        },
        "id": "mgnGGV-AfEHj",
        "outputId": "26791d1c-d73f-45a7-e1a2-4b3ce5a35918"
      },
      "execution_count": 10,
      "outputs": [
        {
          "output_type": "execute_result",
          "data": {
            "text/plain": [
              "     MODELYEAR Brands VEHICLECLASS  ENGINESIZE  CYLINDERS TRANSMISSION  \\\n",
              "940       2014    SRT   TWO-SEATER         8.4         10           M6   \n",
              "\n",
              "    FUELTYPE  FUELCONSUMPTION_CITY  FUELCONSUMPTION_HWY  FUELCONSUMPTION_COMB  \\\n",
              "940        Z                  20.0                 13.0                  16.9   \n",
              "\n",
              "     FUELCONSUMPTION_COMB_MPG  CO2EMISSIONS  \n",
              "940                        17           389  "
            ],
            "text/html": [
              "\n",
              "  <div id=\"df-20c93726-1eaf-487d-be88-088658bfbaf4\">\n",
              "    <div class=\"colab-df-container\">\n",
              "      <div>\n",
              "<style scoped>\n",
              "    .dataframe tbody tr th:only-of-type {\n",
              "        vertical-align: middle;\n",
              "    }\n",
              "\n",
              "    .dataframe tbody tr th {\n",
              "        vertical-align: top;\n",
              "    }\n",
              "\n",
              "    .dataframe thead th {\n",
              "        text-align: right;\n",
              "    }\n",
              "</style>\n",
              "<table border=\"1\" class=\"dataframe\">\n",
              "  <thead>\n",
              "    <tr style=\"text-align: right;\">\n",
              "      <th></th>\n",
              "      <th>MODELYEAR</th>\n",
              "      <th>Brands</th>\n",
              "      <th>VEHICLECLASS</th>\n",
              "      <th>ENGINESIZE</th>\n",
              "      <th>CYLINDERS</th>\n",
              "      <th>TRANSMISSION</th>\n",
              "      <th>FUELTYPE</th>\n",
              "      <th>FUELCONSUMPTION_CITY</th>\n",
              "      <th>FUELCONSUMPTION_HWY</th>\n",
              "      <th>FUELCONSUMPTION_COMB</th>\n",
              "      <th>FUELCONSUMPTION_COMB_MPG</th>\n",
              "      <th>CO2EMISSIONS</th>\n",
              "    </tr>\n",
              "  </thead>\n",
              "  <tbody>\n",
              "    <tr>\n",
              "      <th>940</th>\n",
              "      <td>2014</td>\n",
              "      <td>SRT</td>\n",
              "      <td>TWO-SEATER</td>\n",
              "      <td>8.4</td>\n",
              "      <td>10</td>\n",
              "      <td>M6</td>\n",
              "      <td>Z</td>\n",
              "      <td>20.0</td>\n",
              "      <td>13.0</td>\n",
              "      <td>16.9</td>\n",
              "      <td>17</td>\n",
              "      <td>389</td>\n",
              "    </tr>\n",
              "  </tbody>\n",
              "</table>\n",
              "</div>\n",
              "      <button class=\"colab-df-convert\" onclick=\"convertToInteractive('df-20c93726-1eaf-487d-be88-088658bfbaf4')\"\n",
              "              title=\"Convert this dataframe to an interactive table.\"\n",
              "              style=\"display:none;\">\n",
              "        \n",
              "  <svg xmlns=\"http://www.w3.org/2000/svg\" height=\"24px\"viewBox=\"0 0 24 24\"\n",
              "       width=\"24px\">\n",
              "    <path d=\"M0 0h24v24H0V0z\" fill=\"none\"/>\n",
              "    <path d=\"M18.56 5.44l.94 2.06.94-2.06 2.06-.94-2.06-.94-.94-2.06-.94 2.06-2.06.94zm-11 1L8.5 8.5l.94-2.06 2.06-.94-2.06-.94L8.5 2.5l-.94 2.06-2.06.94zm10 10l.94 2.06.94-2.06 2.06-.94-2.06-.94-.94-2.06-.94 2.06-2.06.94z\"/><path d=\"M17.41 7.96l-1.37-1.37c-.4-.4-.92-.59-1.43-.59-.52 0-1.04.2-1.43.59L10.3 9.45l-7.72 7.72c-.78.78-.78 2.05 0 2.83L4 21.41c.39.39.9.59 1.41.59.51 0 1.02-.2 1.41-.59l7.78-7.78 2.81-2.81c.8-.78.8-2.07 0-2.86zM5.41 20L4 18.59l7.72-7.72 1.47 1.35L5.41 20z\"/>\n",
              "  </svg>\n",
              "      </button>\n",
              "      \n",
              "  <style>\n",
              "    .colab-df-container {\n",
              "      display:flex;\n",
              "      flex-wrap:wrap;\n",
              "      gap: 12px;\n",
              "    }\n",
              "\n",
              "    .colab-df-convert {\n",
              "      background-color: #E8F0FE;\n",
              "      border: none;\n",
              "      border-radius: 50%;\n",
              "      cursor: pointer;\n",
              "      display: none;\n",
              "      fill: #1967D2;\n",
              "      height: 32px;\n",
              "      padding: 0 0 0 0;\n",
              "      width: 32px;\n",
              "    }\n",
              "\n",
              "    .colab-df-convert:hover {\n",
              "      background-color: #E2EBFA;\n",
              "      box-shadow: 0px 1px 2px rgba(60, 64, 67, 0.3), 0px 1px 3px 1px rgba(60, 64, 67, 0.15);\n",
              "      fill: #174EA6;\n",
              "    }\n",
              "\n",
              "    [theme=dark] .colab-df-convert {\n",
              "      background-color: #3B4455;\n",
              "      fill: #D2E3FC;\n",
              "    }\n",
              "\n",
              "    [theme=dark] .colab-df-convert:hover {\n",
              "      background-color: #434B5C;\n",
              "      box-shadow: 0px 1px 3px 1px rgba(0, 0, 0, 0.15);\n",
              "      filter: drop-shadow(0px 1px 2px rgba(0, 0, 0, 0.3));\n",
              "      fill: #FFFFFF;\n",
              "    }\n",
              "  </style>\n",
              "\n",
              "      <script>\n",
              "        const buttonEl =\n",
              "          document.querySelector('#df-20c93726-1eaf-487d-be88-088658bfbaf4 button.colab-df-convert');\n",
              "        buttonEl.style.display =\n",
              "          google.colab.kernel.accessAllowed ? 'block' : 'none';\n",
              "\n",
              "        async function convertToInteractive(key) {\n",
              "          const element = document.querySelector('#df-20c93726-1eaf-487d-be88-088658bfbaf4');\n",
              "          const dataTable =\n",
              "            await google.colab.kernel.invokeFunction('convertToInteractive',\n",
              "                                                     [key], {});\n",
              "          if (!dataTable) return;\n",
              "\n",
              "          const docLinkHtml = 'Like what you see? Visit the ' +\n",
              "            '<a target=\"_blank\" href=https://colab.research.google.com/notebooks/data_table.ipynb>data table notebook</a>'\n",
              "            + ' to learn more about interactive tables.';\n",
              "          element.innerHTML = '';\n",
              "          dataTable['output_type'] = 'display_data';\n",
              "          await google.colab.output.renderOutput(dataTable, element);\n",
              "          const docLink = document.createElement('div');\n",
              "          docLink.innerHTML = docLinkHtml;\n",
              "          element.appendChild(docLink);\n",
              "        }\n",
              "      </script>\n",
              "    </div>\n",
              "  </div>\n",
              "  "
            ]
          },
          "metadata": {},
          "execution_count": 10
        }
      ]
    },
    {
      "cell_type": "code",
      "source": [
        "#Differentiating between fuel types\n",
        "sns.countplot(x='FUELTYPE',data=df)"
      ],
      "metadata": {
        "colab": {
          "base_uri": "https://localhost:8080/",
          "height": 297
        },
        "id": "BPnGZijLeAaJ",
        "outputId": "8300262a-81cd-4b0b-c88c-79b96d539ef1"
      },
      "execution_count": 11,
      "outputs": [
        {
          "output_type": "execute_result",
          "data": {
            "text/plain": [
              "<matplotlib.axes._subplots.AxesSubplot at 0x7f6961a44390>"
            ]
          },
          "metadata": {},
          "execution_count": 11
        },
        {
          "output_type": "display_data",
          "data": {
            "text/plain": [
              "<Figure size 432x288 with 1 Axes>"
            ],
            "image/png": "[encoded data removed]"
          },
          "metadata": {
            "needs_background": "light"
          }
        }
      ]
    },
    {
      "cell_type": "code",
      "source": [
        "sns.set(rc={'figure.figsize':(15,8)})\n",
        "sns.countplot(data=df,x='TRANSMISSION')"
      ],
      "metadata": {
        "colab": {
          "base_uri": "https://localhost:8080/",
          "height": 520
        },
        "id": "4ghwKjcTjpEb",
        "outputId": "9b057982-8d5b-4163-d332-385be7eb99da"
      },
      "execution_count": 12,
      "outputs": [
        {
          "output_type": "execute_result",
          "data": {
            "text/plain": [
              "<matplotlib.axes._subplots.AxesSubplot at 0x7f6961570b50>"
            ]
          },
          "metadata": {},
          "execution_count": 12
        },
        {
          "output_type": "display_data",
          "data": {
            "text/plain": [
              "<Figure size 1080x576 with 1 Axes>"
            ],
            "image/png": "[encoded data removed]"
          },
          "metadata": {}
        }
      ]
    },
    {
      "cell_type": "code",
      "source": [
        "# Correlation between dataset columns\n",
        "df.corr()"
      ],
      "metadata": {
        "colab": {
          "base_uri": "https://localhost:8080/",
          "height": 364
        },
        "id": "GHsJCkpQjpB_",
        "outputId": "6ebc422d-afaa-4d0f-f861-a0bdf591297b"
      },
      "execution_count": 13,
      "outputs": [
        {
          "output_type": "execute_result",
          "data": {
            "text/plain": [
              "                          MODELYEAR  ENGINESIZE  CYLINDERS  \\\n",
              "MODELYEAR                       NaN         NaN        NaN   \n",
              "ENGINESIZE                      NaN    1.000000   0.934377   \n",
              "CYLINDERS                       NaN    0.934377   1.000000   \n",
              "FUELCONSUMPTION_CITY            NaN    0.825390   0.788633   \n",
              "FUELCONSUMPTION_HWY             NaN    0.772854   0.719775   \n",
              "FUELCONSUMPTION_COMB            NaN    0.812729   0.769732   \n",
              "FUELCONSUMPTION_COMB_MPG        NaN   -0.798210  -0.759572   \n",
              "CO2EMISSIONS                    NaN    0.869835   0.843533   \n",
              "\n",
              "                          FUELCONSUMPTION_CITY  FUELCONSUMPTION_HWY  \\\n",
              "MODELYEAR                                  NaN                  NaN   \n",
              "ENGINESIZE                            0.825390             0.772854   \n",
              "CYLINDERS                             0.788633             0.719775   \n",
              "FUELCONSUMPTION_CITY                  1.000000             0.965839   \n",
              "FUELCONSUMPTION_HWY                   0.965839             1.000000   \n",
              "FUELCONSUMPTION_COMB                  0.995497             0.985961   \n",
              "FUELCONSUMPTION_COMB_MPG             -0.932580            -0.888966   \n",
              "CO2EMISSIONS                          0.897429             0.860853   \n",
              "\n",
              "                          FUELCONSUMPTION_COMB  FUELCONSUMPTION_COMB_MPG  \\\n",
              "MODELYEAR                                  NaN                       NaN   \n",
              "ENGINESIZE                            0.812729                 -0.798210   \n",
              "CYLINDERS                             0.769732                 -0.759572   \n",
              "FUELCONSUMPTION_CITY                  0.995497                 -0.932580   \n",
              "FUELCONSUMPTION_HWY                   0.985961                 -0.888966   \n",
              "FUELCONSUMPTION_COMB                  1.000000                 -0.924140   \n",
              "FUELCONSUMPTION_COMB_MPG             -0.924140                  1.000000   \n",
              "CO2EMISSIONS                          0.891306                 -0.903649   \n",
              "\n",
              "                          CO2EMISSIONS  \n",
              "MODELYEAR                          NaN  \n",
              "ENGINESIZE                    0.869835  \n",
              "CYLINDERS                     0.843533  \n",
              "FUELCONSUMPTION_CITY          0.897429  \n",
              "FUELCONSUMPTION_HWY           0.860853  \n",
              "FUELCONSUMPTION_COMB          0.891306  \n",
              "FUELCONSUMPTION_COMB_MPG     -0.903649  \n",
              "CO2EMISSIONS                  1.000000  "
            ],
            "text/html": [
              "\n",
              "  <div id=\"df-e70eebe0-eca2-43c3-a2fb-454069f0af7b\">\n",
              "    <div class=\"colab-df-container\">\n",
              "      <div>\n",
              "<style scoped>\n",
              "    .dataframe tbody tr th:only-of-type {\n",
              "        vertical-align: middle;\n",
              "    }\n",
              "\n",
              "    .dataframe tbody tr th {\n",
              "        vertical-align: top;\n",
              "    }\n",
              "\n",
              "    .dataframe thead th {\n",
              "        text-align: right;\n",
              "    }\n",
              "</style>\n",
              "<table border=\"1\" class=\"dataframe\">\n",
              "  <thead>\n",
              "    <tr style=\"text-align: right;\">\n",
              "      <th></th>\n",
              "      <th>MODELYEAR</th>\n",
              "      <th>ENGINESIZE</th>\n",
              "      <th>CYLINDERS</th>\n",
              "      <th>FUELCONSUMPTION_CITY</th>\n",
              "      <th>FUELCONSUMPTION_HWY</th>\n",
              "      <th>FUELCONSUMPTION_COMB</th>\n",
              "      <th>FUELCONSUMPTION_COMB_MPG</th>\n",
              "      <th>CO2EMISSIONS</th>\n",
              "    </tr>\n",
              "  </thead>\n",
              "  <tbody>\n",
              "    <tr>\n",
              "      <th>MODELYEAR</th>\n",
              "      <td>NaN</td>\n",
              "      <td>NaN</td>\n",
              "      <td>NaN</td>\n",
              "      <td>NaN</td>\n",
              "      <td>NaN</td>\n",
              "      <td>NaN</td>\n",
              "      <td>NaN</td>\n",
              "      <td>NaN</td>\n",
              "    </tr>\n",
              "    <tr>\n",
              "      <th>ENGINESIZE</th>\n",
              "      <td>NaN</td>\n",
              "      <td>1.000000</td>\n",
              "      <td>0.934377</td>\n",
              "      <td>0.825390</td>\n",
              "      <td>0.772854</td>\n",
              "      <td>0.812729</td>\n",
              "      <td>-0.798210</td>\n",
              "      <td>0.869835</td>\n",
              "    </tr>\n",
              "    <tr>\n",
              "      <th>CYLINDERS</th>\n",
              "      <td>NaN</td>\n",
              "      <td>0.934377</td>\n",
              "      <td>1.000000</td>\n",
              "      <td>0.788633</td>\n",
              "      <td>0.719775</td>\n",
              "      <td>0.769732</td>\n",
              "      <td>-0.759572</td>\n",
              "      <td>0.843533</td>\n",
              "    </tr>\n",
              "    <tr>\n",
              "      <th>FUELCONSUMPTION_CITY</th>\n",
              "      <td>NaN</td>\n",
              "      <td>0.825390</td>\n",
              "      <td>0.788633</td>\n",
              "      <td>1.000000</td>\n",
              "      <td>0.965839</td>\n",
              "      <td>0.995497</td>\n",
              "      <td>-0.932580</td>\n",
              "      <td>0.897429</td>\n",
              "    </tr>\n",
              "    <tr>\n",
              "      <th>FUELCONSUMPTION_HWY</th>\n",
              "      <td>NaN</td>\n",
              "      <td>0.772854</td>\n",
              "      <td>0.719775</td>\n",
              "      <td>0.965839</td>\n",
              "      <td>1.000000</td>\n",
              "      <td>0.985961</td>\n",
              "      <td>-0.888966</td>\n",
              "      <td>0.860853</td>\n",
              "    </tr>\n",
              "    <tr>\n",
              "      <th>FUELCONSUMPTION_COMB</th>\n",
              "      <td>NaN</td>\n",
              "      <td>0.812729</td>\n",
              "      <td>0.769732</td>\n",
              "      <td>0.995497</td>\n",
              "      <td>0.985961</td>\n",
              "      <td>1.000000</td>\n",
              "      <td>-0.924140</td>\n",
              "      <td>0.891306</td>\n",
              "    </tr>\n",
              "    <tr>\n",
              "      <th>FUELCONSUMPTION_COMB_MPG</th>\n",
              "      <td>NaN</td>\n",
              "      <td>-0.798210</td>\n",
              "      <td>-0.759572</td>\n",
              "      <td>-0.932580</td>\n",
              "      <td>-0.888966</td>\n",
              "      <td>-0.924140</td>\n",
              "      <td>1.000000</td>\n",
              "      <td>-0.903649</td>\n",
              "    </tr>\n",
              "    <tr>\n",
              "      <th>CO2EMISSIONS</th>\n",
              "      <td>NaN</td>\n",
              "      <td>0.869835</td>\n",
              "      <td>0.843533</td>\n",
              "      <td>0.897429</td>\n",
              "      <td>0.860853</td>\n",
              "      <td>0.891306</td>\n",
              "      <td>-0.903649</td>\n",
              "      <td>1.000000</td>\n",
              "    </tr>\n",
              "  </tbody>\n",
              "</table>\n",
              "</div>\n",
              "      <button class=\"colab-df-convert\" onclick=\"convertToInteractive('df-e70eebe0-eca2-43c3-a2fb-454069f0af7b')\"\n",
              "              title=\"Convert this dataframe to an interactive table.\"\n",
              "              style=\"display:none;\">\n",
              "        \n",
              "  <svg xmlns=\"http://www.w3.org/2000/svg\" height=\"24px\"viewBox=\"0 0 24 24\"\n",
              "       width=\"24px\">\n",
              "    <path d=\"M0 0h24v24H0V0z\" fill=\"none\"/>\n",
              "    <path d=\"M18.56 5.44l.94 2.06.94-2.06 2.06-.94-2.06-.94-.94-2.06-.94 2.06-2.06.94zm-11 1L8.5 8.5l.94-2.06 2.06-.94-2.06-.94L8.5 2.5l-.94 2.06-2.06.94zm10 10l.94 2.06.94-2.06 2.06-.94-2.06-.94-.94-2.06-.94 2.06-2.06.94z\"/><path d=\"M17.41 7.96l-1.37-1.37c-.4-.4-.92-.59-1.43-.59-.52 0-1.04.2-1.43.59L10.3 9.45l-7.72 7.72c-.78.78-.78 2.05 0 2.83L4 21.41c.39.39.9.59 1.41.59.51 0 1.02-.2 1.41-.59l7.78-7.78 2.81-2.81c.8-.78.8-2.07 0-2.86zM5.41 20L4 18.59l7.72-7.72 1.47 1.35L5.41 20z\"/>\n",
              "  </svg>\n",
              "      </button>\n",
              "      \n",
              "  <style>\n",
              "    .colab-df-container {\n",
              "      display:flex;\n",
              "      flex-wrap:wrap;\n",
              "      gap: 12px;\n",
              "    }\n",
              "\n",
              "    .colab-df-convert {\n",
              "      background-color: #E8F0FE;\n",
              "      border: none;\n",
              "      border-radius: 50%;\n",
              "      cursor: pointer;\n",
              "      display: none;\n",
              "      fill: #1967D2;\n",
              "      height: 32px;\n",
              "      padding: 0 0 0 0;\n",
              "      width: 32px;\n",
              "    }\n",
              "\n",
              "    .colab-df-convert:hover {\n",
              "      background-color: #E2EBFA;\n",
              "      box-shadow: 0px 1px 2px rgba(60, 64, 67, 0.3), 0px 1px 3px 1px rgba(60, 64, 67, 0.15);\n",
              "      fill: #174EA6;\n",
              "    }\n",
              "\n",
              "    [theme=dark] .colab-df-convert {\n",
              "      background-color: #3B4455;\n",
              "      fill: #D2E3FC;\n",
              "    }\n",
              "\n",
              "    [theme=dark] .colab-df-convert:hover {\n",
              "      background-color: #434B5C;\n",
              "      box-shadow: 0px 1px 3px 1px rgba(0, 0, 0, 0.15);\n",
              "      filter: drop-shadow(0px 1px 2px rgba(0, 0, 0, 0.3));\n",
              "      fill: #FFFFFF;\n",
              "    }\n",
              "  </style>\n",
              "\n",
              "      <script>\n",
              "        const buttonEl =\n",
              "          document.querySelector('#df-e70eebe0-eca2-43c3-a2fb-454069f0af7b button.colab-df-convert');\n",
              "        buttonEl.style.display =\n",
              "          google.colab.kernel.accessAllowed ? 'block' : 'none';\n",
              "\n",
              "        async function convertToInteractive(key) {\n",
              "          const element = document.querySelector('#df-e70eebe0-eca2-43c3-a2fb-454069f0af7b');\n",
              "          const dataTable =\n",
              "            await google.colab.kernel.invokeFunction('convertToInteractive',\n",
              "                                                     [key], {});\n",
              "          if (!dataTable) return;\n",
              "\n",
              "          const docLinkHtml = 'Like what you see? Visit the ' +\n",
              "            '<a target=\"_blank\" href=https://colab.research.google.com/notebooks/data_table.ipynb>data table notebook</a>'\n",
              "            + ' to learn more about interactive tables.';\n",
              "          element.innerHTML = '';\n",
              "          dataTable['output_type'] = 'display_data';\n",
              "          await google.colab.output.renderOutput(dataTable, element);\n",
              "          const docLink = document.createElement('div');\n",
              "          docLink.innerHTML = docLinkHtml;\n",
              "          element.appendChild(docLink);\n",
              "        }\n",
              "      </script>\n",
              "    </div>\n",
              "  </div>\n",
              "  "
            ]
          },
          "metadata": {},
          "execution_count": 13
        }
      ]
    },
    {
      "cell_type": "code",
      "source": [
        "#Visualizing the correlation between the features:\n",
        "sns.heatmap(df.corr())"
      ],
      "metadata": {
        "colab": {
          "base_uri": "https://localhost:8080/",
          "height": 676
        },
        "id": "lNk87b7Rjo_o",
        "outputId": "0b6d3688-665c-46ff-d729-ecbea7aac136"
      },
      "execution_count": 14,
      "outputs": [
        {
          "output_type": "execute_result",
          "data": {
            "text/plain": [
              "<matplotlib.axes._subplots.AxesSubplot at 0x7f69614bc110>"
            ]
          },
          "metadata": {},
          "execution_count": 14
        },
        {
          "output_type": "display_data",
          "data": {
            "text/plain": [
              "<Figure size 1080x576 with 2 Axes>"
            ],
            "image/png": "[encoded data removed]"
          },
          "metadata": {}
        }
      ]
    },
    {
      "cell_type": "code",
      "source": [
        "# Dropping Model Year (Constant throughout dataset)\n",
        "df.drop(\"MODELYEAR\", axis=1, inplace=True)\n",
        "df.corr()"
      ],
      "metadata": {
        "colab": {
          "base_uri": "https://localhost:8080/",
          "height": 333
        },
        "id": "ZL4cRZ6Ht64U",
        "outputId": "3578a687-31e2-47fb-d2b9-14bc617653f6"
      },
      "execution_count": 15,
      "outputs": [
        {
          "output_type": "execute_result",
          "data": {
            "text/plain": [
              "                          ENGINESIZE  CYLINDERS  FUELCONSUMPTION_CITY  \\\n",
              "ENGINESIZE                  1.000000   0.934377              0.825390   \n",
              "CYLINDERS                   0.934377   1.000000              0.788633   \n",
              "FUELCONSUMPTION_CITY        0.825390   0.788633              1.000000   \n",
              "FUELCONSUMPTION_HWY         0.772854   0.719775              0.965839   \n",
              "FUELCONSUMPTION_COMB        0.812729   0.769732              0.995497   \n",
              "FUELCONSUMPTION_COMB_MPG   -0.798210  -0.759572             -0.932580   \n",
              "CO2EMISSIONS                0.869835   0.843533              0.897429   \n",
              "\n",
              "                          FUELCONSUMPTION_HWY  FUELCONSUMPTION_COMB  \\\n",
              "ENGINESIZE                           0.772854              0.812729   \n",
              "CYLINDERS                            0.719775              0.769732   \n",
              "FUELCONSUMPTION_CITY                 0.965839              0.995497   \n",
              "FUELCONSUMPTION_HWY                  1.000000              0.985961   \n",
              "FUELCONSUMPTION_COMB                 0.985961              1.000000   \n",
              "FUELCONSUMPTION_COMB_MPG            -0.888966             -0.924140   \n",
              "CO2EMISSIONS                         0.860853              0.891306   \n",
              "\n",
              "                          FUELCONSUMPTION_COMB_MPG  CO2EMISSIONS  \n",
              "ENGINESIZE                               -0.798210      0.869835  \n",
              "CYLINDERS                                -0.759572      0.843533  \n",
              "FUELCONSUMPTION_CITY                     -0.932580      0.897429  \n",
              "FUELCONSUMPTION_HWY                      -0.888966      0.860853  \n",
              "FUELCONSUMPTION_COMB                     -0.924140      0.891306  \n",
              "FUELCONSUMPTION_COMB_MPG                  1.000000     -0.903649  \n",
              "CO2EMISSIONS                             -0.903649      1.000000  "
            ],
            "text/html": [
              "\n",
              "  <div id=\"df-c3813575-ec88-4c99-8c42-64a4247e642b\">\n",
              "    <div class=\"colab-df-container\">\n",
              "      <div>\n",
              "<style scoped>\n",
              "    .dataframe tbody tr th:only-of-type {\n",
              "        vertical-align: middle;\n",
              "    }\n",
              "\n",
              "    .dataframe tbody tr th {\n",
              "        vertical-align: top;\n",
              "    }\n",
              "\n",
              "    .dataframe thead th {\n",
              "        text-align: right;\n",
              "    }\n",
              "</style>\n",
              "<table border=\"1\" class=\"dataframe\">\n",
              "  <thead>\n",
              "    <tr style=\"text-align: right;\">\n",
              "      <th></th>\n",
              "      <th>ENGINESIZE</th>\n",
              "      <th>CYLINDERS</th>\n",
              "      <th>FUELCONSUMPTION_CITY</th>\n",
              "      <th>FUELCONSUMPTION_HWY</th>\n",
              "      <th>FUELCONSUMPTION_COMB</th>\n",
              "      <th>FUELCONSUMPTION_COMB_MPG</th>\n",
              "      <th>CO2EMISSIONS</th>\n",
              "    </tr>\n",
              "  </thead>\n",
              "  <tbody>\n",
              "    <tr>\n",
              "      <th>ENGINESIZE</th>\n",
              "      <td>1.000000</td>\n",
              "      <td>0.934377</td>\n",
              "      <td>0.825390</td>\n",
              "      <td>0.772854</td>\n",
              "      <td>0.812729</td>\n",
              "      <td>-0.798210</td>\n",
              "      <td>0.869835</td>\n",
              "    </tr>\n",
              "    <tr>\n",
              "      <th>CYLINDERS</th>\n",
              "      <td>0.934377</td>\n",
              "      <td>1.000000</td>\n",
              "      <td>0.788633</td>\n",
              "      <td>0.719775</td>\n",
              "      <td>0.769732</td>\n",
              "      <td>-0.759572</td>\n",
              "      <td>0.843533</td>\n",
              "    </tr>\n",
              "    <tr>\n",
              "      <th>FUELCONSUMPTION_CITY</th>\n",
              "      <td>0.825390</td>\n",
              "      <td>0.788633</td>\n",
              "      <td>1.000000</td>\n",
              "      <td>0.965839</td>\n",
              "      <td>0.995497</td>\n",
              "      <td>-0.932580</td>\n",
              "      <td>0.897429</td>\n",
              "    </tr>\n",
              "    <tr>\n",
              "      <th>FUELCONSUMPTION_HWY</th>\n",
              "      <td>0.772854</td>\n",
              "      <td>0.719775</td>\n",
              "      <td>0.965839</td>\n",
              "      <td>1.000000</td>\n",
              "      <td>0.985961</td>\n",
              "      <td>-0.888966</td>\n",
              "      <td>0.860853</td>\n",
              "    </tr>\n",
              "    <tr>\n",
              "      <th>FUELCONSUMPTION_COMB</th>\n",
              "      <td>0.812729</td>\n",
              "      <td>0.769732</td>\n",
              "      <td>0.995497</td>\n",
              "      <td>0.985961</td>\n",
              "      <td>1.000000</td>\n",
              "      <td>-0.924140</td>\n",
              "      <td>0.891306</td>\n",
              "    </tr>\n",
              "    <tr>\n",
              "      <th>FUELCONSUMPTION_COMB_MPG</th>\n",
              "      <td>-0.798210</td>\n",
              "      <td>-0.759572</td>\n",
              "      <td>-0.932580</td>\n",
              "      <td>-0.888966</td>\n",
              "      <td>-0.924140</td>\n",
              "      <td>1.000000</td>\n",
              "      <td>-0.903649</td>\n",
              "    </tr>\n",
              "    <tr>\n",
              "      <th>CO2EMISSIONS</th>\n",
              "      <td>0.869835</td>\n",
              "      <td>0.843533</td>\n",
              "      <td>0.897429</td>\n",
              "      <td>0.860853</td>\n",
              "      <td>0.891306</td>\n",
              "      <td>-0.903649</td>\n",
              "      <td>1.000000</td>\n",
              "    </tr>\n",
              "  </tbody>\n",
              "</table>\n",
              "</div>\n",
              "      <button class=\"colab-df-convert\" onclick=\"convertToInteractive('df-c3813575-ec88-4c99-8c42-64a4247e642b')\"\n",
              "              title=\"Convert this dataframe to an interactive table.\"\n",
              "              style=\"display:none;\">\n",
              "        \n",
              "  <svg xmlns=\"http://www.w3.org/2000/svg\" height=\"24px\"viewBox=\"0 0 24 24\"\n",
              "       width=\"24px\">\n",
              "    <path d=\"M0 0h24v24H0V0z\" fill=\"none\"/>\n",
              "    <path d=\"M18.56 5.44l.94 2.06.94-2.06 2.06-.94-2.06-.94-.94-2.06-.94 2.06-2.06.94zm-11 1L8.5 8.5l.94-2.06 2.06-.94-2.06-.94L8.5 2.5l-.94 2.06-2.06.94zm10 10l.94 2.06.94-2.06 2.06-.94-2.06-.94-.94-2.06-.94 2.06-2.06.94z\"/><path d=\"M17.41 7.96l-1.37-1.37c-.4-.4-.92-.59-1.43-.59-.52 0-1.04.2-1.43.59L10.3 9.45l-7.72 7.72c-.78.78-.78 2.05 0 2.83L4 21.41c.39.39.9.59 1.41.59.51 0 1.02-.2 1.41-.59l7.78-7.78 2.81-2.81c.8-.78.8-2.07 0-2.86zM5.41 20L4 18.59l7.72-7.72 1.47 1.35L5.41 20z\"/>\n",
              "  </svg>\n",
              "      </button>\n",
              "      \n",
              "  <style>\n",
              "    .colab-df-container {\n",
              "      display:flex;\n",
              "      flex-wrap:wrap;\n",
              "      gap: 12px;\n",
              "    }\n",
              "\n",
              "    .colab-df-convert {\n",
              "      background-color: #E8F0FE;\n",
              "      border: none;\n",
              "      border-radius: 50%;\n",
              "      cursor: pointer;\n",
              "      display: none;\n",
              "      fill: #1967D2;\n",
              "      height: 32px;\n",
              "      padding: 0 0 0 0;\n",
              "      width: 32px;\n",
              "    }\n",
              "\n",
              "    .colab-df-convert:hover {\n",
              "      background-color: #E2EBFA;\n",
              "      box-shadow: 0px 1px 2px rgba(60, 64, 67, 0.3), 0px 1px 3px 1px rgba(60, 64, 67, 0.15);\n",
              "      fill: #174EA6;\n",
              "    }\n",
              "\n",
              "    [theme=dark] .colab-df-convert {\n",
              "      background-color: #3B4455;\n",
              "      fill: #D2E3FC;\n",
              "    }\n",
              "\n",
              "    [theme=dark] .colab-df-convert:hover {\n",
              "      background-color: #434B5C;\n",
              "      box-shadow: 0px 1px 3px 1px rgba(0, 0, 0, 0.15);\n",
              "      filter: drop-shadow(0px 1px 2px rgba(0, 0, 0, 0.3));\n",
              "      fill: #FFFFFF;\n",
              "    }\n",
              "  </style>\n",
              "\n",
              "      <script>\n",
              "        const buttonEl =\n",
              "          document.querySelector('#df-c3813575-ec88-4c99-8c42-64a4247e642b button.colab-df-convert');\n",
              "        buttonEl.style.display =\n",
              "          google.colab.kernel.accessAllowed ? 'block' : 'none';\n",
              "\n",
              "        async function convertToInteractive(key) {\n",
              "          const element = document.querySelector('#df-c3813575-ec88-4c99-8c42-64a4247e642b');\n",
              "          const dataTable =\n",
              "            await google.colab.kernel.invokeFunction('convertToInteractive',\n",
              "                                                     [key], {});\n",
              "          if (!dataTable) return;\n",
              "\n",
              "          const docLinkHtml = 'Like what you see? Visit the ' +\n",
              "            '<a target=\"_blank\" href=https://colab.research.google.com/notebooks/data_table.ipynb>data table notebook</a>'\n",
              "            + ' to learn more about interactive tables.';\n",
              "          element.innerHTML = '';\n",
              "          dataTable['output_type'] = 'display_data';\n",
              "          await google.colab.output.renderOutput(dataTable, element);\n",
              "          const docLink = document.createElement('div');\n",
              "          docLink.innerHTML = docLinkHtml;\n",
              "          element.appendChild(docLink);\n",
              "        }\n",
              "      </script>\n",
              "    </div>\n",
              "  </div>\n",
              "  "
            ]
          },
          "metadata": {},
          "execution_count": 15
        }
      ]
    },
    {
      "cell_type": "code",
      "source": [
        "#Visualizing the correlation between the features:\n",
        "sns.heatmap(df.corr())\n",
        "\n",
        "#Most Features all correlated (Only Numerical Features -> Later we will visualize all features)"
      ],
      "metadata": {
        "colab": {
          "base_uri": "https://localhost:8080/",
          "height": 676
        },
        "id": "i_1oAxuluN4y",
        "outputId": "69120bb0-e8aa-4322-ea35-848211280cd2"
      },
      "execution_count": 16,
      "outputs": [
        {
          "output_type": "execute_result",
          "data": {
            "text/plain": [
              "<matplotlib.axes._subplots.AxesSubplot at 0x7f695eb5e950>"
            ]
          },
          "metadata": {},
          "execution_count": 16
        },
        {
          "output_type": "display_data",
          "data": {
            "text/plain": [
              "<Figure size 1080x576 with 2 Axes>"
            ],
            "image/png": "[encoded data removed]"
          },
          "metadata": {}
        }
      ]
    },
    {
      "cell_type": "code",
      "source": [
        "fig, axes = plt.subplots(2, 2)\n",
        "fig.set_size_inches(15,15)\n",
        "\n",
        "sns.scatterplot(x='ENGINESIZE',y='CO2EMISSIONS',data=df,ax=axes[0,0])\n",
        "sns.scatterplot(x='FUELCONSUMPTION_CITY',y='CO2EMISSIONS',data=df,ax=axes[0,1])\n",
        "sns.scatterplot(x='FUELCONSUMPTION_HWY',y='CO2EMISSIONS',data=df,ax=axes[1,0])\n",
        "sns.scatterplot(x='FUELCONSUMPTION_COMB',y='CO2EMISSIONS',data=df,ax=axes[1,1])\n",
        "\n",
        "# All 4 features can be trained using linear regression"
      ],
      "metadata": {
        "colab": {
          "base_uri": "https://localhost:8080/",
          "height": 901
        },
        "id": "A62jOHVAjo9J",
        "outputId": "d194d607-f147-42a3-f26c-855956a0dc0a"
      },
      "execution_count": 17,
      "outputs": [
        {
          "output_type": "execute_result",
          "data": {
            "text/plain": [
              "<matplotlib.axes._subplots.AxesSubplot at 0x7f695ea37850>"
            ]
          },
          "metadata": {},
          "execution_count": 17
        },
        {
          "output_type": "display_data",
          "data": {
            "text/plain": [
              "<Figure size 1080x1080 with 4 Axes>"
            ],
            "image/png": "[encoded data removed]"
          },
          "metadata": {}
        }
      ]
    },
    {
      "cell_type": "code",
      "source": [
        "fig, axes = plt.subplots(1, 2)\n",
        "fig.set_size_inches(15,5)\n",
        "\n",
        "sns.scatterplot(x='CYLINDERS',y='CO2EMISSIONS',data=df,ax=axes[0])\n",
        "\n",
        "sns.scatterplot(x='FUELCONSUMPTION_COMB_MPG',y='CO2EMISSIONS',data=df,ax=axes[1])\n",
        "\n",
        "# Non linear Features (Cylinders Features can be fitted with a linear curve)"
      ],
      "metadata": {
        "colab": {
          "base_uri": "https://localhost:8080/",
          "height": 357
        },
        "id": "L50Mmgbdlmvh",
        "outputId": "c1b651f6-79ac-4d8b-d919-94245afba0c6"
      },
      "execution_count": 19,
      "outputs": [
        {
          "output_type": "execute_result",
          "data": {
            "text/plain": [
              "<matplotlib.axes._subplots.AxesSubplot at 0x7f69615c8f90>"
            ]
          },
          "metadata": {},
          "execution_count": 19
        },
        {
          "output_type": "display_data",
          "data": {
            "text/plain": [
              "<Figure size 1080x360 with 2 Axes>"
            ],
            "image/png": "[encoded data removed]"
          },
          "metadata": {}
        }
      ]
    },
    {
      "cell_type": "markdown",
      "source": [
        "## Comments\n",
        "*First Column \"MODELYEAR\" will be igonred \n",
        "\n",
        "*All numerical features have high correlation with output.\n",
        "\n",
        "*Not all featurs can be fitted with linear regression. \n",
        "\n",
        "So we will try to increase model complexity by increasing degree (Polynomial regression)"
      ],
      "metadata": {
        "id": "sfx1QDdDu0Fa"
      }
    },
    {
      "cell_type": "markdown",
      "source": [
        "## ----------------------------------------------------------------------------------------------------------------------------------------------------------------"
      ],
      "metadata": {
        "id": "06owdCEPuyFo"
      }
    },
    {
      "cell_type": "markdown",
      "source": [
        "## Machine Learning "
      ],
      "metadata": {
        "id": "SWJoHYHWrATb"
      }
    },
    {
      "cell_type": "code",
      "source": [
        "# split into training and testing sets (First: Including 4 linear featured)\n",
        "x=df[['ENGINESIZE','FUELCONSUMPTION_CITY','FUELCONSUMPTION_HWY','FUELCONSUMPTION_COMB']].values\n",
        "y=df['CO2EMISSIONS'].values\n",
        "x_train, x_test, y_train, y_test = train_test_split(x, y, random_state=1)"
      ],
      "metadata": {
        "id": "B_eo9vkYlmuB"
      },
      "execution_count": 20,
      "outputs": []
    },
    {
      "cell_type": "code",
      "source": [
        "# Multi variable linear regression\n",
        "model_multi = linear_model.LinearRegression()\n",
        "\n",
        "model_multi.fit(x_train,y_train)\n",
        "\n",
        "model_multi.predict([[4,15,10,15]])"
      ],
      "metadata": {
        "colab": {
          "base_uri": "https://localhost:8080/"
        },
        "id": "mFi37fETlmma",
        "outputId": "67db6640-a879-46f0-b0c1-4954014f11fe"
      },
      "execution_count": 21,
      "outputs": [
        {
          "output_type": "execute_result",
          "data": {
            "text/plain": [
              "array([356.24568808])"
            ]
          },
          "metadata": {},
          "execution_count": 21
        }
      ]
    },
    {
      "cell_type": "code",
      "source": [
        "# Print intercept and coefficients \n",
        "print(\"A0 = \",model_multi.intercept_)\n",
        "print(\"A1 = \",model_multi.coef_)"
      ],
      "metadata": {
        "colab": {
          "base_uri": "https://localhost:8080/"
        },
        "id": "yi2L7DAzlmk0",
        "outputId": "38facae4-5f50-4ba7-9bec-442795c671bb"
      },
      "execution_count": 22,
      "outputs": [
        {
          "output_type": "stream",
          "name": "stdout",
          "text": [
            "A0 =  78.09742927609585\n",
            "A1 =  [ 18.58463066  -9.8967513  -13.58609616  32.54146448]\n"
          ]
        }
      ]
    },
    {
      "cell_type": "code",
      "source": [
        "# Get Bias and Variance - bias_variance_decomp function\n",
        "avg_expected_loss, avg_bias, avg_var = bias_variance_decomp(model_multi, x_train, y_train, x_test, y_test, loss='mse', num_rounds=4, random_seed=43)\n",
        "# Display Bias and Variance\n",
        "print(f'Average Expected Loss: {round(avg_expected_loss, 4)}')\n",
        "print(f'Average Bias: {round(avg_bias, 4)}')\n",
        "print(f'Average Variance: {round(avg_var, 4)}')\n",
        "\n",
        "#High bias and variance (We will add more features)"
      ],
      "metadata": {
        "colab": {
          "base_uri": "https://localhost:8080/"
        },
        "id": "v__Hpm6osm5J",
        "outputId": "3422a392-f2f2-412c-89d9-6fc4dcb3dc8a"
      },
      "execution_count": 23,
      "outputs": [
        {
          "output_type": "stream",
          "name": "stdout",
          "text": [
            "Average Expected Loss: 640.1222\n",
            "Average Bias: 631.3176\n",
            "Average Variance: 8.8047\n"
          ]
        }
      ]
    },
    {
      "cell_type": "code",
      "source": [
        "# Evaluating Model by calculating Errors\n",
        "y_pred = model_multi.predict(x_test)\n",
        "\n",
        "MSE = mean_squared_error(y_test,y_pred)\n",
        "print('mean_squared_error',MSE)\n",
        "\n",
        "RMSE = np.sqrt(MSE)\n",
        "print('Root_mean_squared_error',RMSE)\n",
        "\n",
        "r_score = r2_score(y_test,y_pred)\n",
        "print('r_score',r_score)\n",
        "\n",
        "MAE= mean_absolute_error(y_test,y_pred)\n",
        "\n",
        "print('mean_absolute_error',MAE)"
      ],
      "metadata": {
        "colab": {
          "base_uri": "https://localhost:8080/"
        },
        "id": "eT2n2WTqsQM4",
        "outputId": "244c28a1-bfa3-4000-f3b0-5be5458924af"
      },
      "execution_count": 24,
      "outputs": [
        {
          "output_type": "stream",
          "name": "stdout",
          "text": [
            "mean_squared_error 637.9276124829504\n",
            "Root_mean_squared_error 25.25722891536105\n",
            "r_score 0.8473115521446736\n",
            "mean_absolute_error 17.664584159562402\n"
          ]
        }
      ]
    },
    {
      "cell_type": "code",
      "source": [
        "# Adding another feature\n",
        "# split into training and testing sets\n",
        "x2=df[['ENGINESIZE','FUELCONSUMPTION_CITY','FUELCONSUMPTION_HWY','FUELCONSUMPTION_COMB','CYLINDERS']].values\n",
        "y2=df['CO2EMISSIONS'].values\n",
        "x_train2, x_test2, y_train2, y_test2 = train_test_split(x2, y2, random_state=1)\n",
        "\n",
        "# Multi variable linear regression\n",
        "new_model = linear_model.LinearRegression()\n",
        "new_model.fit(x_train2,y_train2)\n",
        "print('Prediction= ',new_model.predict([[4,15,10,15,6]]))\n",
        "\n",
        "# Print intercept and coefficients \n",
        "print(\"A0 = \",new_model.intercept_)\n",
        "print(\"A1 = \",new_model.coef_)\n",
        "\n",
        "# Get Bias and Variance - bias_variance_decomp function\n",
        "avg_expected_loss, avg_bias, avg_var = bias_variance_decomp(new_model, x_train2, y_train2, x_test2, y_test2, loss='mse', num_rounds=4, random_seed=43)\n",
        "# Display Bias and Variance\n",
        "print(f'Average Expected Loss: {round(avg_expected_loss, 4)}')\n",
        "print(f'Average Bias: {round(avg_bias, 4)}')\n",
        "print(f'Average Variance: {round(avg_var, 4)}')\n",
        "\n",
        "# Evaluating Model by calculating Errors\n",
        "y_pred = new_model.predict(x_test2)\n",
        "MSE = mean_squared_error(y_test2,y_pred)\n",
        "print('mean_squared_error',MSE)\n",
        "RMSE = np.sqrt(MSE)\n",
        "print('Root_mean_squared_error',RMSE)\n",
        "r_score = r2_score(y_test2,y_pred)\n",
        "print('r_score',r_score)\n",
        "MAE= mean_absolute_error(y_test2,y_pred)\n",
        "print('mean_absolute_error',MAE)\n",
        "\n",
        "#High bias (We will add more features)"
      ],
      "metadata": {
        "colab": {
          "base_uri": "https://localhost:8080/"
        },
        "id": "GcPlCkeYt3eC",
        "outputId": "168e3cee-5b51-4cb6-b4b0-0d15a365af30"
      },
      "execution_count": 25,
      "outputs": [
        {
          "output_type": "stream",
          "name": "stdout",
          "text": [
            "Prediction=  [355.70177169]\n",
            "A0 =  67.55881695654\n",
            "A1 =  [ 12.3780577  -11.75897661 -12.98964816  34.00940079   5.79514048]\n",
            "Average Expected Loss: 612.3172\n",
            "Average Bias: 603.7557\n",
            "Average Variance: 8.5615\n",
            "mean_squared_error 610.6506638925067\n",
            "Root_mean_squared_error 24.711346865205602\n",
            "r_score 0.8538403100491854\n",
            "mean_absolute_error 17.435001170590475\n"
          ]
        }
      ]
    },
    {
      "cell_type": "code",
      "source": [
        "# Adding another feature\n",
        "# split into training and testing sets\n",
        "x3=df[['ENGINESIZE','FUELCONSUMPTION_CITY','FUELCONSUMPTION_HWY','FUELCONSUMPTION_COMB','CYLINDERS','FUELCONSUMPTION_COMB_MPG']].values\n",
        "y3=df['CO2EMISSIONS'].values\n",
        "\n",
        "# Trying to find best degree\n",
        "poly_reg = PolynomialFeatures(degree=1)\n",
        "x_poly = poly_reg.fit_transform(x3)\n",
        "\n",
        "x_train3, x_test3, y_train3, y_test3 = train_test_split(x_poly, y3, random_state=1)\n",
        "\n",
        "new_model = linear_model.LinearRegression()\n",
        "new_model.fit(x_train3,y_train3)\n",
        "\n",
        "print(\"A0 = \",new_model.intercept_)\n",
        "#print(\"A1 = \",new_model.coef_)\n",
        "\n",
        "# Get Bias and Variance - bias_variance_decomp function\n",
        "avg_expected_loss, avg_bias, avg_var = bias_variance_decomp(new_model, x_train3, y_train3, x_test3, y_test3, loss='mse', num_rounds=4, random_seed=43)\n",
        "# Display Bias and Variance\n",
        "print(f'Average Expected Loss: {round(avg_expected_loss, 4)}')\n",
        "print(f'Average Bias: {round(avg_bias, 4)}')\n",
        "print(f'Average Variance: {round(avg_var, 4)}')\n",
        "\n",
        "# Evaluating Model by calculating Errors\n",
        "y_pred = new_model.predict(x_test3)\n",
        "MSE = mean_squared_error(y_test3,y_pred)\n",
        "print('mean_squared_error',MSE)\n",
        "RMSE = np.sqrt(MSE)\n",
        "print('Root_mean_squared_error',RMSE)\n",
        "r_score = r2_score(y_test3,y_pred)\n",
        "print('r_score',r_score)\n",
        "MAE= mean_absolute_error(y_test3,y_pred)\n",
        "print('mean_absolute_error',MAE)\n",
        "\n",
        "#High bias (We will add more features)"
      ],
      "metadata": {
        "colab": {
          "base_uri": "https://localhost:8080/"
        },
        "id": "BQTqDArKwTI9",
        "outputId": "d4b608a0-47d9-48f9-a620-d85ad377e00e"
      },
      "execution_count": 27,
      "outputs": [
        {
          "output_type": "stream",
          "name": "stdout",
          "text": [
            "A0 =  253.59994869392781\n",
            "Average Expected Loss: 459.3202\n",
            "Average Bias: 455.1834\n",
            "Average Variance: 4.1368\n",
            "mean_squared_error 461.1979634287271\n",
            "Root_mean_squared_error 21.475520096815515\n",
            "r_score 0.8896119249080914\n",
            "mean_absolute_error 13.885990306222435\n"
          ]
        }
      ]
    },
    {
      "cell_type": "code",
      "source": [
        "# Trasnforming non-numerical columns\n",
        "le = LabelEncoder()\n",
        "label = le.fit_transform(df['Brands'])\n",
        "df.drop(\"Brands\", axis=1, inplace=True)\n",
        "df[\"Brands\"] = label\n",
        "label = le.fit_transform(df['VEHICLECLASS'])\n",
        "df.drop(\"VEHICLECLASS\", axis=1, inplace=True)\n",
        "df[\"VEHICLECLASS\"] = label\n",
        "label = le.fit_transform(df['TRANSMISSION'])\n",
        "df.drop(\"TRANSMISSION\", axis=1, inplace=True)\n",
        "df[\"TRANSMISSION\"] = label\n",
        "label = le.fit_transform(df['FUELTYPE'])\n",
        "df.drop(\"FUELTYPE\", axis=1, inplace=True)\n",
        "df[\"FUELTYPE\"] = label"
      ],
      "metadata": {
        "id": "U-2TlP4W6e0A"
      },
      "execution_count": 28,
      "outputs": []
    },
    {
      "cell_type": "code",
      "source": [
        "df.corr()"
      ],
      "metadata": {
        "colab": {
          "base_uri": "https://localhost:8080/",
          "height": 458
        },
        "id": "6-8WN62X63yq",
        "outputId": "05c48dcd-67f3-44a6-ead1-f5a32b3cb7d9"
      },
      "execution_count": 29,
      "outputs": [
        {
          "output_type": "execute_result",
          "data": {
            "text/plain": [
              "                          ENGINESIZE  CYLINDERS  FUELCONSUMPTION_CITY  \\\n",
              "ENGINESIZE                  1.000000   0.934377              0.825390   \n",
              "CYLINDERS                   0.934377   1.000000              0.788633   \n",
              "FUELCONSUMPTION_CITY        0.825390   0.788633              1.000000   \n",
              "FUELCONSUMPTION_HWY         0.772854   0.719775              0.965839   \n",
              "FUELCONSUMPTION_COMB        0.812729   0.769732              0.995497   \n",
              "FUELCONSUMPTION_COMB_MPG   -0.798210  -0.759572             -0.932580   \n",
              "CO2EMISSIONS                0.869835   0.843533              0.897429   \n",
              "Brands                     -0.154365  -0.185171             -0.236990   \n",
              "VEHICLECLASS                0.237421   0.210224              0.350582   \n",
              "TRANSMISSION               -0.286772  -0.258613             -0.369352   \n",
              "FUELTYPE                    0.078578   0.135720             -0.122170   \n",
              "\n",
              "                          FUELCONSUMPTION_HWY  FUELCONSUMPTION_COMB  \\\n",
              "ENGINESIZE                           0.772854              0.812729   \n",
              "CYLINDERS                            0.719775              0.769732   \n",
              "FUELCONSUMPTION_CITY                 0.965839              0.995497   \n",
              "FUELCONSUMPTION_HWY                  1.000000              0.985961   \n",
              "FUELCONSUMPTION_COMB                 0.985961              1.000000   \n",
              "FUELCONSUMPTION_COMB_MPG            -0.888966             -0.924140   \n",
              "CO2EMISSIONS                         0.860853              0.891306   \n",
              "Brands                              -0.167859             -0.213735   \n",
              "VEHICLECLASS                         0.425807              0.380872   \n",
              "TRANSMISSION                        -0.364796             -0.370896   \n",
              "FUELTYPE                            -0.169096             -0.140635   \n",
              "\n",
              "                          FUELCONSUMPTION_COMB_MPG  CO2EMISSIONS    Brands  \\\n",
              "ENGINESIZE                               -0.798210      0.869835 -0.154365   \n",
              "CYLINDERS                                -0.759572      0.843533 -0.185171   \n",
              "FUELCONSUMPTION_CITY                     -0.932580      0.897429 -0.236990   \n",
              "FUELCONSUMPTION_HWY                      -0.888966      0.860853 -0.167859   \n",
              "FUELCONSUMPTION_COMB                     -0.924140      0.891306 -0.213735   \n",
              "FUELCONSUMPTION_COMB_MPG                  1.000000     -0.903649  0.215234   \n",
              "CO2EMISSIONS                             -0.903649      1.000000 -0.171408   \n",
              "Brands                                    0.215234     -0.171408  1.000000   \n",
              "VEHICLECLASS                             -0.354921      0.394870 -0.004050   \n",
              "TRANSMISSION                              0.355093     -0.320162  0.195926   \n",
              "FUELTYPE                                 -0.003705      0.078811  0.007191   \n",
              "\n",
              "                          VEHICLECLASS  TRANSMISSION  FUELTYPE  \n",
              "ENGINESIZE                    0.237421     -0.286772  0.078578  \n",
              "CYLINDERS                     0.210224     -0.258613  0.135720  \n",
              "FUELCONSUMPTION_CITY          0.350582     -0.369352 -0.122170  \n",
              "FUELCONSUMPTION_HWY           0.425807     -0.364796 -0.169096  \n",
              "FUELCONSUMPTION_COMB          0.380872     -0.370896 -0.140635  \n",
              "FUELCONSUMPTION_COMB_MPG     -0.354921      0.355093 -0.003705  \n",
              "CO2EMISSIONS                  0.394870     -0.320162  0.078811  \n",
              "Brands                       -0.004050      0.195926  0.007191  \n",
              "VEHICLECLASS                  1.000000     -0.175048 -0.058479  \n",
              "TRANSMISSION                 -0.175048      1.000000  0.213726  \n",
              "FUELTYPE                     -0.058479      0.213726  1.000000  "
            ],
            "text/html": [
              "\n",
              "  <div id=\"df-8f68d428-bfcb-4122-8d13-ab838a2379e3\">\n",
              "    <div class=\"colab-df-container\">\n",
              "      <div>\n",
              "<style scoped>\n",
              "    .dataframe tbody tr th:only-of-type {\n",
              "        vertical-align: middle;\n",
              "    }\n",
              "\n",
              "    .dataframe tbody tr th {\n",
              "        vertical-align: top;\n",
              "    }\n",
              "\n",
              "    .dataframe thead th {\n",
              "        text-align: right;\n",
              "    }\n",
              "</style>\n",
              "<table border=\"1\" class=\"dataframe\">\n",
              "  <thead>\n",
              "    <tr style=\"text-align: right;\">\n",
              "      <th></th>\n",
              "      <th>ENGINESIZE</th>\n",
              "      <th>CYLINDERS</th>\n",
              "      <th>FUELCONSUMPTION_CITY</th>\n",
              "      <th>FUELCONSUMPTION_HWY</th>\n",
              "      <th>FUELCONSUMPTION_COMB</th>\n",
              "      <th>FUELCONSUMPTION_COMB_MPG</th>\n",
              "      <th>CO2EMISSIONS</th>\n",
              "      <th>Brands</th>\n",
              "      <th>VEHICLECLASS</th>\n",
              "      <th>TRANSMISSION</th>\n",
              "      <th>FUELTYPE</th>\n",
              "    </tr>\n",
              "  </thead>\n",
              "  <tbody>\n",
              "    <tr>\n",
              "      <th>ENGINESIZE</th>\n",
              "      <td>1.000000</td>\n",
              "      <td>0.934377</td>\n",
              "      <td>0.825390</td>\n",
              "      <td>0.772854</td>\n",
              "      <td>0.812729</td>\n",
              "      <td>-0.798210</td>\n",
              "      <td>0.869835</td>\n",
              "      <td>-0.154365</td>\n",
              "      <td>0.237421</td>\n",
              "      <td>-0.286772</td>\n",
              "      <td>0.078578</td>\n",
              "    </tr>\n",
              "    <tr>\n",
              "      <th>CYLINDERS</th>\n",
              "      <td>0.934377</td>\n",
              "      <td>1.000000</td>\n",
              "      <td>0.788633</td>\n",
              "      <td>0.719775</td>\n",
              "      <td>0.769732</td>\n",
              "      <td>-0.759572</td>\n",
              "      <td>0.843533</td>\n",
              "      <td>-0.185171</td>\n",
              "      <td>0.210224</td>\n",
              "      <td>-0.258613</td>\n",
              "      <td>0.135720</td>\n",
              "    </tr>\n",
              "    <tr>\n",
              "      <th>FUELCONSUMPTION_CITY</th>\n",
              "      <td>0.825390</td>\n",
              "      <td>0.788633</td>\n",
              "      <td>1.000000</td>\n",
              "      <td>0.965839</td>\n",
              "      <td>0.995497</td>\n",
              "      <td>-0.932580</td>\n",
              "      <td>0.897429</td>\n",
              "      <td>-0.236990</td>\n",
              "      <td>0.350582</td>\n",
              "      <td>-0.369352</td>\n",
              "      <td>-0.122170</td>\n",
              "    </tr>\n",
              "    <tr>\n",
              "      <th>FUELCONSUMPTION_HWY</th>\n",
              "      <td>0.772854</td>\n",
              "      <td>0.719775</td>\n",
              "      <td>0.965839</td>\n",
              "      <td>1.000000</td>\n",
              "      <td>0.985961</td>\n",
              "      <td>-0.888966</td>\n",
              "      <td>0.860853</td>\n",
              "      <td>-0.167859</td>\n",
              "      <td>0.425807</td>\n",
              "      <td>-0.364796</td>\n",
              "      <td>-0.169096</td>\n",
              "    </tr>\n",
              "    <tr>\n",
              "      <th>FUELCONSUMPTION_COMB</th>\n",
              "      <td>0.812729</td>\n",
              "      <td>0.769732</td>\n",
              "      <td>0.995497</td>\n",
              "      <td>0.985961</td>\n",
              "      <td>1.000000</td>\n",
              "      <td>-0.924140</td>\n",
              "      <td>0.891306</td>\n",
              "      <td>-0.213735</td>\n",
              "      <td>0.380872</td>\n",
              "      <td>-0.370896</td>\n",
              "      <td>-0.140635</td>\n",
              "    </tr>\n",
              "    <tr>\n",
              "      <th>FUELCONSUMPTION_COMB_MPG</th>\n",
              "      <td>-0.798210</td>\n",
              "      <td>-0.759572</td>\n",
              "      <td>-0.932580</td>\n",
              "      <td>-0.888966</td>\n",
              "      <td>-0.924140</td>\n",
              "      <td>1.000000</td>\n",
              "      <td>-0.903649</td>\n",
              "      <td>0.215234</td>\n",
              "      <td>-0.354921</td>\n",
              "      <td>0.355093</td>\n",
              "      <td>-0.003705</td>\n",
              "    </tr>\n",
              "    <tr>\n",
              "      <th>CO2EMISSIONS</th>\n",
              "      <td>0.869835</td>\n",
              "      <td>0.843533</td>\n",
              "      <td>0.897429</td>\n",
              "      <td>0.860853</td>\n",
              "      <td>0.891306</td>\n",
              "      <td>-0.903649</td>\n",
              "      <td>1.000000</td>\n",
              "      <td>-0.171408</td>\n",
              "      <td>0.394870</td>\n",
              "      <td>-0.320162</td>\n",
              "      <td>0.078811</td>\n",
              "    </tr>\n",
              "    <tr>\n",
              "      <th>Brands</th>\n",
              "      <td>-0.154365</td>\n",
              "      <td>-0.185171</td>\n",
              "      <td>-0.236990</td>\n",
              "      <td>-0.167859</td>\n",
              "      <td>-0.213735</td>\n",
              "      <td>0.215234</td>\n",
              "      <td>-0.171408</td>\n",
              "      <td>1.000000</td>\n",
              "      <td>-0.004050</td>\n",
              "      <td>0.195926</td>\n",
              "      <td>0.007191</td>\n",
              "    </tr>\n",
              "    <tr>\n",
              "      <th>VEHICLECLASS</th>\n",
              "      <td>0.237421</td>\n",
              "      <td>0.210224</td>\n",
              "      <td>0.350582</td>\n",
              "      <td>0.425807</td>\n",
              "      <td>0.380872</td>\n",
              "      <td>-0.354921</td>\n",
              "      <td>0.394870</td>\n",
              "      <td>-0.004050</td>\n",
              "      <td>1.000000</td>\n",
              "      <td>-0.175048</td>\n",
              "      <td>-0.058479</td>\n",
              "    </tr>\n",
              "    <tr>\n",
              "      <th>TRANSMISSION</th>\n",
              "      <td>-0.286772</td>\n",
              "      <td>-0.258613</td>\n",
              "      <td>-0.369352</td>\n",
              "      <td>-0.364796</td>\n",
              "      <td>-0.370896</td>\n",
              "      <td>0.355093</td>\n",
              "      <td>-0.320162</td>\n",
              "      <td>0.195926</td>\n",
              "      <td>-0.175048</td>\n",
              "      <td>1.000000</td>\n",
              "      <td>0.213726</td>\n",
              "    </tr>\n",
              "    <tr>\n",
              "      <th>FUELTYPE</th>\n",
              "      <td>0.078578</td>\n",
              "      <td>0.135720</td>\n",
              "      <td>-0.122170</td>\n",
              "      <td>-0.169096</td>\n",
              "      <td>-0.140635</td>\n",
              "      <td>-0.003705</td>\n",
              "      <td>0.078811</td>\n",
              "      <td>0.007191</td>\n",
              "      <td>-0.058479</td>\n",
              "      <td>0.213726</td>\n",
              "      <td>1.000000</td>\n",
              "    </tr>\n",
              "  </tbody>\n",
              "</table>\n",
              "</div>\n",
              "      <button class=\"colab-df-convert\" onclick=\"convertToInteractive('df-8f68d428-bfcb-4122-8d13-ab838a2379e3')\"\n",
              "              title=\"Convert this dataframe to an interactive table.\"\n",
              "              style=\"display:none;\">\n",
              "        \n",
              "  <svg xmlns=\"http://www.w3.org/2000/svg\" height=\"24px\"viewBox=\"0 0 24 24\"\n",
              "       width=\"24px\">\n",
              "    <path d=\"M0 0h24v24H0V0z\" fill=\"none\"/>\n",
              "    <path d=\"M18.56 5.44l.94 2.06.94-2.06 2.06-.94-2.06-.94-.94-2.06-.94 2.06-2.06.94zm-11 1L8.5 8.5l.94-2.06 2.06-.94-2.06-.94L8.5 2.5l-.94 2.06-2.06.94zm10 10l.94 2.06.94-2.06 2.06-.94-2.06-.94-.94-2.06-.94 2.06-2.06.94z\"/><path d=\"M17.41 7.96l-1.37-1.37c-.4-.4-.92-.59-1.43-.59-.52 0-1.04.2-1.43.59L10.3 9.45l-7.72 7.72c-.78.78-.78 2.05 0 2.83L4 21.41c.39.39.9.59 1.41.59.51 0 1.02-.2 1.41-.59l7.78-7.78 2.81-2.81c.8-.78.8-2.07 0-2.86zM5.41 20L4 18.59l7.72-7.72 1.47 1.35L5.41 20z\"/>\n",
              "  </svg>\n",
              "      </button>\n",
              "      \n",
              "  <style>\n",
              "    .colab-df-container {\n",
              "      display:flex;\n",
              "      flex-wrap:wrap;\n",
              "      gap: 12px;\n",
              "    }\n",
              "\n",
              "    .colab-df-convert {\n",
              "      background-color: #E8F0FE;\n",
              "      border: none;\n",
              "      border-radius: 50%;\n",
              "      cursor: pointer;\n",
              "      display: none;\n",
              "      fill: #1967D2;\n",
              "      height: 32px;\n",
              "      padding: 0 0 0 0;\n",
              "      width: 32px;\n",
              "    }\n",
              "\n",
              "    .colab-df-convert:hover {\n",
              "      background-color: #E2EBFA;\n",
              "      box-shadow: 0px 1px 2px rgba(60, 64, 67, 0.3), 0px 1px 3px 1px rgba(60, 64, 67, 0.15);\n",
              "      fill: #174EA6;\n",
              "    }\n",
              "\n",
              "    [theme=dark] .colab-df-convert {\n",
              "      background-color: #3B4455;\n",
              "      fill: #D2E3FC;\n",
              "    }\n",
              "\n",
              "    [theme=dark] .colab-df-convert:hover {\n",
              "      background-color: #434B5C;\n",
              "      box-shadow: 0px 1px 3px 1px rgba(0, 0, 0, 0.15);\n",
              "      filter: drop-shadow(0px 1px 2px rgba(0, 0, 0, 0.3));\n",
              "      fill: #FFFFFF;\n",
              "    }\n",
              "  </style>\n",
              "\n",
              "      <script>\n",
              "        const buttonEl =\n",
              "          document.querySelector('#df-8f68d428-bfcb-4122-8d13-ab838a2379e3 button.colab-df-convert');\n",
              "        buttonEl.style.display =\n",
              "          google.colab.kernel.accessAllowed ? 'block' : 'none';\n",
              "\n",
              "        async function convertToInteractive(key) {\n",
              "          const element = document.querySelector('#df-8f68d428-bfcb-4122-8d13-ab838a2379e3');\n",
              "          const dataTable =\n",
              "            await google.colab.kernel.invokeFunction('convertToInteractive',\n",
              "                                                     [key], {});\n",
              "          if (!dataTable) return;\n",
              "\n",
              "          const docLinkHtml = 'Like what you see? Visit the ' +\n",
              "            '<a target=\"_blank\" href=https://colab.research.google.com/notebooks/data_table.ipynb>data table notebook</a>'\n",
              "            + ' to learn more about interactive tables.';\n",
              "          element.innerHTML = '';\n",
              "          dataTable['output_type'] = 'display_data';\n",
              "          await google.colab.output.renderOutput(dataTable, element);\n",
              "          const docLink = document.createElement('div');\n",
              "          docLink.innerHTML = docLinkHtml;\n",
              "          element.appendChild(docLink);\n",
              "        }\n",
              "      </script>\n",
              "    </div>\n",
              "  </div>\n",
              "  "
            ]
          },
          "metadata": {},
          "execution_count": 29
        }
      ]
    },
    {
      "cell_type": "code",
      "source": [
        "#Visualizing the correlation between the features:\n",
        "sns.heatmap(df.corr())"
      ],
      "metadata": {
        "colab": {
          "base_uri": "https://localhost:8080/",
          "height": 676
        },
        "id": "nHpiFvzM7uBX",
        "outputId": "a722480e-ae0f-4738-95d4-8dab5fa1312c"
      },
      "execution_count": 30,
      "outputs": [
        {
          "output_type": "execute_result",
          "data": {
            "text/plain": [
              "<matplotlib.axes._subplots.AxesSubplot at 0x7f695d052b10>"
            ]
          },
          "metadata": {},
          "execution_count": 30
        },
        {
          "output_type": "display_data",
          "data": {
            "text/plain": [
              "<Figure size 1080x576 with 2 Axes>"
            ],
            "image/png": "[encoded data removed]"
          },
          "metadata": {}
        }
      ]
    },
    {
      "cell_type": "code",
      "source": [
        "# Adding all features\n",
        "# split into training and testing sets\n",
        "x4=df[['ENGINESIZE','FUELCONSUMPTION_CITY','FUELCONSUMPTION_HWY','FUELCONSUMPTION_COMB','CYLINDERS','FUELCONSUMPTION_COMB_MPG','Brands', 'VEHICLECLASS', 'TRANSMISSION', 'FUELTYPE']].values\n",
        "y4=df['CO2EMISSIONS'].values\n",
        "\n",
        "# Trying to find the best degree (Polynomial Regression)\n",
        "poly_reg = PolynomialFeatures(degree=2)\n",
        "x_poly = poly_reg.fit_transform(x4)\n",
        "\n",
        "x_train4, x_test4, y_train4, y_test4 = train_test_split(x_poly, y4, random_state=1)\n",
        "\n",
        "new_model = linear_model.LinearRegression()\n",
        "new_model.fit(x_train4,y_train4)\n",
        "\n",
        "print(\"A0 = \",new_model.intercept_)\n",
        "#print(\"A1 = \",new_model.coef_)\n",
        "\n",
        "# Get Bias and Variance - bias_variance_decomp function\n",
        "avg_expected_loss, avg_bias, avg_var = bias_variance_decomp(new_model, x_train4, y_train4, x_test4, y_test4, loss='mse', num_rounds=4, random_seed=43)\n",
        "# Display Bias and Variance\n",
        "print(f'Average Expected Loss: {round(avg_expected_loss, 4)}')\n",
        "print(f'Average Bias: {round(avg_bias, 4)}')\n",
        "print(f'Average Variance: {round(avg_var, 4)}')\n",
        "\n",
        "from sklearn.metrics import mean_squared_error, r2_score, mean_absolute_error\n",
        "y_pred = new_model.predict(x_test4)\n",
        "MSE = mean_squared_error(y_test4,y_pred)\n",
        "print('mean_squared_error',MSE)\n",
        "RMSE = np.sqrt(MSE)\n",
        "print('Root_mean_squared_error',RMSE)\n",
        "r_score = r2_score(y_test4,y_pred)\n",
        "print('r_score',r_score)\n",
        "MAE= mean_absolute_error(y_test4,y_pred)\n",
        "print('mean_absolute_error',MAE)\n",
        "\n",
        "#Relatively high bias and variance"
      ],
      "metadata": {
        "colab": {
          "base_uri": "https://localhost:8080/"
        },
        "id": "oO9WX4Z470Hi",
        "outputId": "9665352d-78fb-488c-b63d-630281e4a1a5"
      },
      "execution_count": 32,
      "outputs": [
        {
          "output_type": "stream",
          "name": "stdout",
          "text": [
            "A0 =  1020.539231670298\n",
            "Average Expected Loss: 113.1162\n",
            "Average Bias: 97.277\n",
            "Average Variance: 15.8393\n",
            "mean_squared_error 133.85790663796377\n",
            "Root_mean_squared_error 11.56969777643149\n",
            "r_score 0.9679610106260135\n",
            "mean_absolute_error 6.8115283100544906\n"
          ]
        }
      ]
    },
    {
      "cell_type": "code",
      "source": [
        "# Adding all features\n",
        "# split into training and testing sets\n",
        "x4=df[['ENGINESIZE','FUELCONSUMPTION_CITY','FUELCONSUMPTION_HWY','FUELCONSUMPTION_COMB','CYLINDERS','FUELCONSUMPTION_COMB_MPG','Brands', 'VEHICLECLASS', 'TRANSMISSION', 'FUELTYPE']].values\n",
        "y4=df['CO2EMISSIONS'].values\n",
        "\n",
        "# Trying to find the best degree (Polynomial Regression)\n",
        "poly_reg = PolynomialFeatures(degree=3)\n",
        "x_poly = poly_reg.fit_transform(x4)\n",
        "\n",
        "x_train4, x_test4, y_train4, y_test4 = train_test_split(x_poly, y4, random_state=1)\n",
        "\n",
        "new_model = linear_model.LinearRegression()\n",
        "new_model.fit(x_train4,y_train4)\n",
        "\n",
        "print(\"A0 = \",new_model.intercept_)\n",
        "#print(\"A1 = \",new_model.coef_)\n",
        "\n",
        "# Get Bias and Variance - bias_variance_decomp function\n",
        "avg_expected_loss, avg_bias, avg_var = bias_variance_decomp(new_model, x_train4, y_train4, x_test4, y_test4, loss='mse', num_rounds=4, random_seed=43)\n",
        "# Display Bias and Variance\n",
        "print(f'Average Expected Loss: {round(avg_expected_loss, 4)}')\n",
        "print(f'Average Bias: {round(avg_bias, 4)}')\n",
        "print(f'Average Variance: {round(avg_var, 4)}')\n",
        "\n",
        "from sklearn.metrics import mean_squared_error, r2_score, mean_absolute_error\n",
        "y_pred = new_model.predict(x_test4)\n",
        "MSE = mean_squared_error(y_test4,y_pred)\n",
        "print('mean_squared_error',MSE)\n",
        "RMSE = np.sqrt(MSE)\n",
        "print('Root_mean_squared_error',RMSE)\n",
        "r_score = r2_score(y_test4,y_pred)\n",
        "print('r_score',r_score)\n",
        "MAE= mean_absolute_error(y_test4,y_pred)\n",
        "print('mean_absolute_error',MAE)\n",
        "\n",
        "# Best Results obtained at degree 3"
      ],
      "metadata": {
        "colab": {
          "base_uri": "https://localhost:8080/"
        },
        "id": "cLXv5-JNx5c6",
        "outputId": "e5dded36-6f3a-45bb-d1db-3c67c85c6913"
      },
      "execution_count": 33,
      "outputs": [
        {
          "output_type": "stream",
          "name": "stdout",
          "text": [
            "A0 =  1555931331.9403317\n",
            "Average Expected Loss: 12.0048\n",
            "Average Bias: 9.6769\n",
            "Average Variance: 2.328\n",
            "mean_squared_error 17.376805219834406\n",
            "Root_mean_squared_error 4.168549534290603\n",
            "r_score 0.9958408487643702\n",
            "mean_absolute_error 1.3240236715108407\n"
          ]
        }
      ]
    },
    {
      "cell_type": "markdown",
      "source": [
        "## Conclusion\n",
        "*The best results were obtained after including all features.\n",
        "\n",
        "*As observed from EDA not all features were fitted through linear regression so third degree polynomial regression was used.\n",
        "\n",
        "*Best Obtained Model Score:\n",
        "\n",
        "Average Expected Loss: 12.0048\n",
        "\n",
        "Average Bias: 9.6769\n",
        "\n",
        "Average Variance: 2.328\n",
        "\n",
        "mean_squared_error 17.376805219834406\n",
        "\n",
        "Root_mean_squared_error 4.168549534290603\n",
        "\n",
        "r_score 0.9958408487643702\n",
        "\n",
        "mean_absolute_error 1.3240236715108407\n"
      ],
      "metadata": {
        "id": "uzaUeJouyIhj"
      }
    },
    {
      "cell_type": "markdown",
      "source": [
        "## ----------------------------------------------------------------------------------------------------------------------------------------------------------------"
      ],
      "metadata": {
        "id": "lxjTmbPhyIC3"
      }
    }
  ]
}