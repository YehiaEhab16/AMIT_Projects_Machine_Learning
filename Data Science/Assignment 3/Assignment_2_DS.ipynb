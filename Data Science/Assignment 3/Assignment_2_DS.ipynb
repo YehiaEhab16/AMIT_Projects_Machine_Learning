{
  "cells": [
    {
      "cell_type": "code",
      "source": [
        "import numpy as np"
      ],
      "metadata": {
        "id": "DpuLF-r1iJCD"
      },
      "execution_count": 3,
      "outputs": []
    },
    {
      "cell_type": "markdown",
      "metadata": {
        "id": "LYWG0uaUk7z8"
      },
      "source": [
        "## Write a Numpy program to compute the multiplication of two given matrixes"
      ]
    },
    {
      "cell_type": "code",
      "execution_count": 12,
      "metadata": {
        "id": "9nFJ-s3kk7z_"
      },
      "outputs": [],
      "source": [
        "def mulMatrices(m1,m2):\n",
        "  assert np.shape(m1)==np.shape(m2),'Not Same Dimensions'\n",
        "  return np.dot(m1,m2)"
      ]
    },
    {
      "cell_type": "code",
      "source": [
        "matx1 = np.array([[1,2,3],[4,5,6],[7,8,9]])\n",
        "matx2 = np.array([[4,4,4],[1,2,2],[0,3,9]])\n",
        "\n",
        "print(mulMatrices(matx1,matx2))"
      ],
      "metadata": {
        "colab": {
          "base_uri": "https://localhost:8080/"
        },
        "id": "LUV7argdOXb6",
        "outputId": "9dd4ff0c-78c8-46da-957c-b28be5ea289c"
      },
      "execution_count": 17,
      "outputs": [
        {
          "output_type": "stream",
          "name": "stdout",
          "text": [
            "[[  6  17  35]\n",
            " [ 21  44  80]\n",
            " [ 36  71 125]]\n"
          ]
        }
      ]
    },
    {
      "cell_type": "markdown",
      "metadata": {
        "id": "sBbYYp_ik70A"
      },
      "source": [
        "## Write a NumPy program to compute the determinant of a given square array"
      ]
    },
    {
      "cell_type": "code",
      "source": [
        "def detMatrices(m):\n",
        "  assert np.shape(m)[0]==np.shape(m)[1],'Not Square Matrix'\n",
        "  return np.linalg.det(m)"
      ],
      "metadata": {
        "id": "qz_WVh76jR0y"
      },
      "execution_count": 14,
      "outputs": []
    },
    {
      "cell_type": "code",
      "execution_count": 22,
      "metadata": {
        "colab": {
          "base_uri": "https://localhost:8080/"
        },
        "id": "m0H3A4fUk70A",
        "outputId": "6a7e2c8f-74da-4b7a-e38b-0f97946adf21"
      },
      "outputs": [
        {
          "output_type": "stream",
          "name": "stdout",
          "text": [
            "24.000000000000004\n"
          ]
        }
      ],
      "source": [
        "print(detMatrices(matx2))"
      ]
    },
    {
      "cell_type": "markdown",
      "metadata": {
        "id": "tISOUsu7k70B"
      },
      "source": [
        "## Write a NumPy program to compute the cross product of two given vectors"
      ]
    },
    {
      "cell_type": "code",
      "execution_count": 24,
      "metadata": {
        "id": "oRqHhYRsk70B"
      },
      "outputs": [],
      "source": [
        "def crossProd(v1,v2):\n",
        "  assert np.shape(v1)==np.shape(v2),'Not Same Dimensions'\n",
        "  return np.cross(v1,v2)"
      ]
    },
    {
      "cell_type": "code",
      "execution_count": 25,
      "metadata": {
        "colab": {
          "base_uri": "https://localhost:8080/"
        },
        "id": "gax3UmOUk70B",
        "outputId": "ad671164-867c-4780-c22c-fd25a0e9cff1"
      },
      "outputs": [
        {
          "output_type": "stream",
          "name": "stdout",
          "text": [
            "[-3  6 -3]\n"
          ]
        }
      ],
      "source": [
        "vec1 = np.array([1,2,3])\n",
        "vec2 = np.array([4,5,6])\n",
        "\n",
        "print(crossProd(vec1,vec2))"
      ]
    },
    {
      "cell_type": "markdown",
      "metadata": {
        "id": "keC6qOkhk70C"
      },
      "source": [
        "## Write a NumPy program to compute the condition number of a given matrix"
      ]
    },
    {
      "cell_type": "code",
      "source": [
        "def condMatx(m):\n",
        "  return np.linalg.cond(m)"
      ],
      "metadata": {
        "id": "l5xREfs_keUd"
      },
      "execution_count": 27,
      "outputs": []
    },
    {
      "cell_type": "code",
      "execution_count": 30,
      "metadata": {
        "colab": {
          "base_uri": "https://localhost:8080/"
        },
        "id": "k7hdM3a5k70C",
        "outputId": "f400f3b6-b5ca-45ff-840a-2edf697926d2"
      },
      "outputs": [
        {
          "output_type": "stream",
          "name": "stdout",
          "text": [
            "3.813147060626918e+16\n"
          ]
        }
      ],
      "source": [
        "print(condMatx(matx1))"
      ]
    },
    {
      "cell_type": "markdown",
      "metadata": {
        "id": "HQ3KZK-7k70D"
      },
      "source": [
        "## Write a NumPy program to compute the inverse of a given matrix"
      ]
    },
    {
      "cell_type": "code",
      "source": [
        "from numpy.linalg.linalg import LinAlgError\n",
        "def invMatx(m):\n",
        "  try:\n",
        "    return np.linalg.inv(m)\n",
        "  except LinAlgError:\n",
        "    print('Singular Matrix')"
      ],
      "metadata": {
        "id": "pRB3qIUck-56"
      },
      "execution_count": 34,
      "outputs": []
    },
    {
      "cell_type": "code",
      "execution_count": 37,
      "metadata": {
        "colab": {
          "base_uri": "https://localhost:8080/"
        },
        "id": "6kMv5mjvk70D",
        "outputId": "eb5674e0-c7bf-4020-d1fd-8a9627725cc6"
      },
      "outputs": [
        {
          "output_type": "stream",
          "name": "stdout",
          "text": [
            "[[ 0.5        -1.          0.        ]\n",
            " [-0.375       1.5        -0.16666667]\n",
            " [ 0.125      -0.5         0.16666667]]\n"
          ]
        }
      ],
      "source": [
        "print(invMatx(matx2))"
      ]
    }
  ],
  "metadata": {
    "kernelspec": {
      "display_name": "Python 3",
      "language": "python",
      "name": "python3"
    },
    "language_info": {
      "codemirror_mode": {
        "name": "ipython",
        "version": 3
      },
      "file_extension": ".py",
      "mimetype": "text/x-python",
      "name": "python",
      "nbconvert_exporter": "python",
      "pygments_lexer": "ipython3",
      "version": "3.7.3"
    },
    "colab": {
      "name": "Assignment 2 DS.ipynb",
      "provenance": [],
      "collapsed_sections": []
    }
  },
  "nbformat": 4,
  "nbformat_minor": 0
}