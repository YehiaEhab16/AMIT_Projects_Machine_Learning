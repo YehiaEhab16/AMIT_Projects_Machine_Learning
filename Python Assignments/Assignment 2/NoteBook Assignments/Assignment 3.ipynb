{
 "cells": [
  {
   "cell_type": "markdown",
   "metadata": {},
   "source": [
    "# Assignment 3"
   ]
  },
  {
   "cell_type": "markdown",
   "metadata": {},
   "source": [
    "### Write a function to count the number 4 in a given list."
   ]
  },
  {
   "cell_type": "code",
   "execution_count": 2,
   "metadata": {},
   "outputs": [
    {
     "name": "stdout",
     "output_type": "stream",
     "text": [
      "4\n"
     ]
    }
   ],
   "source": [
    "def countFour(inputList):\n",
    "    count=0\n",
    "    for i in inputList:\n",
    "        if(i%4==0):\n",
    "            count+=1\n",
    "    return count\n",
    "\n",
    "testList = range(1,20)\n",
    "print(countFour(testList))"
   ]
  },
  {
   "cell_type": "markdown",
   "metadata": {},
   "source": [
    "### write a  function to check whether a number is divisible by another number."
   ]
  },
  {
   "cell_type": "code",
   "execution_count": 4,
   "metadata": {},
   "outputs": [
    {
     "name": "stdout",
     "output_type": "stream",
     "text": [
      "True\n",
      "False\n"
     ]
    }
   ],
   "source": [
    "def isDivBy(num1,num2):\n",
    "    if(num1%num2==0):\n",
    "        return True\n",
    "    else:\n",
    "        return False\n",
    "    \n",
    "print(isDivBy(16,2))\n",
    "print(isDivBy(8,3))"
   ]
  },
  {
   "cell_type": "markdown",
   "metadata": {},
   "source": [
    "### write a function to find the maximum and minimum numbers from a sequence of numbers."
   ]
  },
  {
   "cell_type": "code",
   "execution_count": 17,
   "metadata": {},
   "outputs": [
    {
     "name": "stdout",
     "output_type": "stream",
     "text": [
      " Maximum Number is \"12\" and Minimum Number is \"1\"\n"
     ]
    }
   ],
   "source": [
    "def MaxMin(inputList):\n",
    "    for i in range(0,len(inputList)-1):\n",
    "        for j in range(0,len(inputList)-1-i):\n",
    "            if(inputList[j]<inputList[j+1]):\n",
    "                inputList[j],inputList[j+1] = inputList[j+1],inputList[j]\n",
    "    return  inputList[0],inputList[len(inputList)-1]\n",
    "\n",
    "testList = [3,6, 1, 12, 9]\n",
    "a,b = MaxMin(testList)\n",
    "print(f' Maximum Number is \"{a}\" and Minimum Number is \"{b}\"')"
   ]
  },
  {
   "cell_type": "markdown",
   "metadata": {},
   "source": [
    "### Write a Python function that takes two lists and returns True if they have at least one common member."
   ]
  },
  {
   "cell_type": "code",
   "execution_count": 9,
   "metadata": {},
   "outputs": [
    {
     "name": "stdout",
     "output_type": "stream",
     "text": [
      "False\n",
      "True\n",
      "True\n"
     ]
    }
   ],
   "source": [
    "def compareList(inputList1,inputLlist2):\n",
    "    for i in inputList1:\n",
    "        for j in inputLlist2:\n",
    "            if i==j:\n",
    "                return True\n",
    "    return False\n",
    "\n",
    "testList1 = [1, 3, 5, 7, 9]\n",
    "testList2 = [0, 2, 4, 6, 8]\n",
    "testList3 = [11, 12, 13, 0, 1]\n",
    "    \n",
    "print(compareList(testList1,testList2))\n",
    "print(compareList(testList1,testList3))\n",
    "print(compareList(testList3,testList1))"
   ]
  },
  {
   "cell_type": "markdown",
   "metadata": {},
   "source": [
    "### Write a Python function to calculate the factorial of a number (a non-negative integer). The function accepts the number from the user"
   ]
  },
  {
   "cell_type": "code",
   "execution_count": 18,
   "metadata": {},
   "outputs": [
    {
     "name": "stdout",
     "output_type": "stream",
     "text": [
      "Enter any Number: 5\n",
      "Factorial of \"5\" is \"120\"\n",
      "Enter any Number: 0\n",
      "Factorial of \"0\" is \"1\"\n"
     ]
    }
   ],
   "source": [
    "def calcFactorial(num):\n",
    "    if(num==0):\n",
    "        return 1\n",
    "    else:\n",
    "        return num*calcFactorial(num-1)\n",
    "\n",
    "inputNum = int(input('Enter any Number: '))\n",
    "print(f'Factorial of \"{inputNum}\" is \"{calcFactorial(inputNum)}\"')\n",
    "inputNum = int(input('Enter any Number: '))\n",
    "print(f'Factorial of \"{inputNum}\" is \"{calcFactorial(inputNum)}\"')"
   ]
  },
  {
   "cell_type": "markdown",
   "metadata": {},
   "source": [
    "### Write a Python function to check whether a number is in a given range.\n",
    "\n",
    "### The range is from 3 to 11\n"
   ]
  },
  {
   "cell_type": "code",
   "execution_count": 14,
   "metadata": {},
   "outputs": [
    {
     "name": "stdout",
     "output_type": "stream",
     "text": [
      "True\n",
      "False\n"
     ]
    }
   ],
   "source": [
    "def checkRange(num):\n",
    "    if num in range(3,12):\n",
    "        return True\n",
    "    else:\n",
    "        return False\n",
    "    \n",
    "print(checkRange(5))\n",
    "print(checkRange(12))"
   ]
  },
  {
   "cell_type": "markdown",
   "metadata": {},
   "source": [
    "### Write a  program to create the multiplication table (from 1 to 10) of a number."
   ]
  },
  {
   "cell_type": "code",
   "execution_count": 20,
   "metadata": {},
   "outputs": [
    {
     "name": "stdout",
     "output_type": "stream",
     "text": [
      "1 x 9 = 9\n",
      "2 x 9 = 18\n",
      "3 x 9 = 27\n",
      "4 x 9 = 36\n",
      "5 x 9 = 45\n",
      "6 x 9 = 54\n",
      "7 x 9 = 63\n",
      "8 x 9 = 72\n",
      "9 x 9 = 81\n",
      "10 x 9 = 90\n"
     ]
    }
   ],
   "source": [
    "def mulTable(num):\n",
    "    Table=[]\n",
    "    for i in range(1,11):\n",
    "        Table.append(num*i)\n",
    "    return Table\n",
    "\n",
    "testNum = 9\n",
    "testList = mulTable(testNum)\n",
    "for x,i in zip(testList,range(1,11)):\n",
    "    print(f'{i} x {testNum} = {x}')\n"
   ]
  },
  {
   "cell_type": "markdown",
   "metadata": {},
   "source": [
    "#### LESSER OF TWO EVENS: Write a function that returns the lesser of two given numbers *if* both numbers are even, but returns the greater if one or both numbers are odd\n",
    "    lesser_of_two_evens(2,4) --> 2\n",
    "    lesser_of_two_evens(2,5) --> 5"
   ]
  },
  {
   "cell_type": "code",
   "execution_count": 1,
   "metadata": {},
   "outputs": [
    {
     "name": "stdout",
     "output_type": "stream",
     "text": [
      "2\n",
      "5\n"
     ]
    }
   ],
   "source": [
    "def lesser_of_two_evens(num1,num2):\n",
    "    if(num1%2==0 and num2%2==0):\n",
    "        return min(num1,num2)\n",
    "    else:\n",
    "        return max(num1,num2)\n",
    "    \n",
    "print(lesser_of_two_evens(2,4))\n",
    "print(lesser_of_two_evens(2,5))"
   ]
  },
  {
   "cell_type": "markdown",
   "metadata": {},
   "source": [
    "#### ANIMAL CRACKERS: Write a function takes a two-word string and returns True if both words begin with same letter\n",
    "    animal_crackers('Levelheaded Llama') --> True\n",
    "    animal_crackers('Crazy Kangaroo') --> False"
   ]
  },
  {
   "cell_type": "code",
   "execution_count": 2,
   "metadata": {},
   "outputs": [
    {
     "name": "stdout",
     "output_type": "stream",
     "text": [
      "True\n",
      "False\n"
     ]
    }
   ],
   "source": [
    "def animal_crackers(inputStr):\n",
    "    word1,word2 = inputStr.split(' ')\n",
    "    if(word1[0]==word2[0]):\n",
    "        return True\n",
    "    else:\n",
    "        return False\n",
    "    \n",
    "print(animal_crackers('Levelheaded Llama'))\n",
    "print(animal_crackers('Crazy Kangaroo'))"
   ]
  },
  {
   "cell_type": "markdown",
   "metadata": {},
   "source": [
    "#### MAKES TWENTY: Given two integers, return True if the sum of the integers is 20 *or* if one of the integers is 20. If not, return False\n",
    "\n",
    "    makes_twenty(20,10) --> True\n",
    "    makes_twenty(12,8) --> True\n",
    "    makes_twenty(2,3) --> False"
   ]
  },
  {
   "cell_type": "code",
   "execution_count": 4,
   "metadata": {},
   "outputs": [
    {
     "name": "stdout",
     "output_type": "stream",
     "text": [
      "True\n",
      "True\n",
      "False\n"
     ]
    }
   ],
   "source": [
    "def makes_twenty(num1,num2):\n",
    "    if(num1+num2==20 or num1==20 or num2==20):\n",
    "        return True\n",
    "    else:\n",
    "        return False\n",
    "    \n",
    "print(makes_twenty(20,10))\n",
    "print(makes_twenty(12,8))\n",
    "print(makes_twenty(2,3))"
   ]
  },
  {
   "cell_type": "markdown",
   "metadata": {},
   "source": [
    "#### ALMOST THERE: Given an integer n, return True if n is within 10 of either 100 or 200\n",
    "\n",
    "    almost_there(90) --> True\n",
    "    almost_there(104) --> True\n",
    "    almost_there(150) --> False\n",
    "    almost_there(209) --> True\n",
    "    \n",
    "NOTE: `abs(num)` returns the absolute value of a number"
   ]
  },
  {
   "cell_type": "code",
   "execution_count": 6,
   "metadata": {},
   "outputs": [
    {
     "name": "stdout",
     "output_type": "stream",
     "text": [
      "True\n",
      "True\n",
      "False\n",
      "True\n"
     ]
    }
   ],
   "source": [
    "def almost_there(num):\n",
    "    if(abs(num-100)<=10 or abs(num-200)<=10):\n",
    "        return True\n",
    "    else:\n",
    "        return False\n",
    "    \n",
    "print(almost_there(90))\n",
    "print(almost_there(104))\n",
    "print(almost_there(150))\n",
    "print(almost_there(209))"
   ]
  },
  {
   "cell_type": "markdown",
   "metadata": {},
   "source": [
    "#### BLACKJACK: Given three integers between 1 and 11, if their sum is less than or equal to 21, return their sum. If their sum exceeds 21 *and* there's an eleven, reduce the total sum by 10. Finally, if the sum  exceeds 21, return 'BUST'\n",
    "    blackjack(5,6,7) --> 18\n",
    "    blackjack(9,9,9) --> 'BUST'\n",
    "    blackjack(9,9,11) --> 19"
   ]
  },
  {
   "cell_type": "code",
   "execution_count": 9,
   "metadata": {},
   "outputs": [
    {
     "name": "stdout",
     "output_type": "stream",
     "text": [
      "18\n",
      "BUST\n",
      "19\n"
     ]
    }
   ],
   "source": [
    "def blackjack(num1,num2,num3):\n",
    "    total = num1+num2+num3\n",
    "    if(total<=21):\n",
    "        return total\n",
    "    elif (total>21 and (num1==11 or num2==11 or num3==11)):\n",
    "          return total-10\n",
    "    else:\n",
    "          return 'BUST'\n",
    "          \n",
    "print(blackjack(5,6,7))\n",
    "print(blackjack(9,9,9))\n",
    "print(blackjack(9,9,11))"
   ]
  }
 ],
 "metadata": {
  "kernelspec": {
   "display_name": "Python 3 (ipykernel)",
   "language": "python",
   "name": "python3"
  },
  "language_info": {
   "codemirror_mode": {
    "name": "ipython",
    "version": 3
   },
   "file_extension": ".py",
   "mimetype": "text/x-python",
   "name": "python",
   "nbconvert_exporter": "python",
   "pygments_lexer": "ipython3",
   "version": "3.9.12"
  }
 },
 "nbformat": 4,
 "nbformat_minor": 2
}
